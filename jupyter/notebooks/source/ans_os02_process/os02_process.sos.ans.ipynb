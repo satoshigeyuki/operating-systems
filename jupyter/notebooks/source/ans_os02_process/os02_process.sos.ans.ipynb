{
  "cells": [
    {
      "cell_type": "markdown",
      "metadata": {
        "kernel": "SoS",
        "nbgrader": {
          "grade": false,
          "grade_id": "c-001",
          "locked": true,
          "schema_version": 3,
          "solution": false,
          "task": false
        }
      },
      "source": [
        "\n",
        "#  オペレーティングシステム 演習 02",
        "\n",
        "#  プロセス",
        ""
      ]
    },
    {
      "cell_type": "markdown",
      "metadata": {
        "kernel": "SoS",
        "nbgrader": {
          "grade": false,
          "grade_id": "c-002",
          "locked": false,
          "schema_version": 3,
          "solution": false,
          "task": false
        }
      },
      "source": [
        "\n",
        "名前と学生証番号を書け. Enter your name and student ID.\n",
        "\n",
        " * 名前 Name:\n",
        " * 学生証番号 Student ID:\n",
        ""
      ]
    },
    {
      "cell_type": "markdown",
      "metadata": {
        "kernel": "SoS",
        "nbgrader": {
          "grade": false,
          "grade_id": "c-003",
          "locked": true,
          "schema_version": 3,
          "solution": false,
          "task": false
        }
      },
      "source": [
        "# 1. プロセス関連コマンド"
      ]
    },
    {
      "cell_type": "markdown",
      "metadata": {
        "kernel": "SoS",
        "nbgrader": {
          "grade": false,
          "grade_id": "c-004",
          "locked": true,
          "schema_version": 3,
          "solution": false,
          "task": false
        }
      },
      "source": [
        "## 1-1. ps auxww",
        "\n",
        "* ps は現存するプロセスを表示するコマンド\n",
        "* 話せば長い(詳細はmanページを参照)が, auxwwですべてのプロセスがコマンドラインとともに表示される"
      ]
    },
    {
      "cell_type": "markdown",
      "metadata": {
        "kernel": "SoS",
        "nbgrader": {
          "grade": false,
          "grade_id": "c-005",
          "locked": true,
          "schema_version": 3,
          "solution": false,
          "task": false
        }
      },
      "source": [
        "* 以下によりシステムのすべてのプロセスが表示される\n",
        "* 長過ぎる出力がうっとおしければファイルに出力するコマンドに書き換えて実行しなおせば良い\n",
        "* 例えば\n",
        "```\n",
        "ps auxww > ps.txt\n",
        "```"
      ]
    },
    {
      "cell_type": "code",
      "metadata": {
        "kernel": "Bash",
        "nbgrader": {
          "grade": false,
          "grade_id": "c-006",
          "locked": false,
          "schema_version": 3,
          "solution": false,
          "task": false
        }
      },
      "source": [
        "ps auxww"
      ],
      "execution_count": null,
      "outputs": []
    },
    {
      "cell_type": "markdown",
      "metadata": {
        "kernel": "SoS",
        "nbgrader": {
          "grade": false,
          "grade_id": "c-007",
          "locked": true,
          "schema_version": 3,
          "solution": false,
          "task": false
        }
      },
      "source": [
        "\n",
        "# 2. fork",
        "\n",
        "* forkはUnixでプロセスを生成する手段\n",
        "* プロセスを生成 = (例えば実行するファイルを指定して)プログラムを起動するということかと思いきやそうではなく, forkは何の引数もとらず, 呼び出したプロセスのコピーを作るというもの\n",
        "* 以下は全く役に立たないが, ともかくforkが何をするシステムコールかを教えてくれるプログラム\n",
        "\n",
        "* OSのシステムコールは特定のプログラミング言語には依存していない\n",
        "* そこで意味がある場合, なるべく同じことをPythonとCの両方で示すことにする\n",
        "\n",
        "## 2-1. C"
      ]
    },
    {
      "cell_type": "code",
      "metadata": {
        "kernel": "Python 3 (ipykernel)",
        "nbgrader": {
          "grade": false,
          "grade_id": "c-008",
          "locked": false,
          "schema_version": 3,
          "solution": false,
          "task": false
        }
      },
      "source": [
        "%%writefile fork.c\n",
        "#include <stdio.h>\n",
        "#include <unistd.h>\n",
        "\n",
        "int main() {\n",
        "  printf(\"%d : before fork\\n\", getpid());\n",
        "  fflush(stdout);\n",
        "  fork();           /* 現プロセスをコピー */\n",
        "  printf(\"%d : after fork\\n\", getpid());\n",
        "  return 0;\n",
        "}"
      ],
      "execution_count": null,
      "outputs": []
    },
    {
      "cell_type": "code",
      "metadata": {
        "kernel": "Bash",
        "nbgrader": {
          "grade": false,
          "grade_id": "c-009",
          "locked": false,
          "schema_version": 3,
          "solution": false,
          "task": false
        }
      },
      "source": [
        "gcc -Wall fork.c -o fork"
      ],
      "execution_count": null,
      "outputs": []
    },
    {
      "cell_type": "code",
      "metadata": {
        "kernel": "Bash",
        "nbgrader": {
          "grade": false,
          "grade_id": "c-010",
          "locked": false,
          "schema_version": 3,
          "solution": false,
          "task": false
        }
      },
      "source": [
        "./fork"
      ],
      "execution_count": null,
      "outputs": []
    },
    {
      "cell_type": "markdown",
      "metadata": {
        "kernel": "SoS",
        "nbgrader": {
          "grade": false,
          "grade_id": "c-011",
          "locked": true,
          "schema_version": 3,
          "solution": false,
          "task": false
        }
      },
      "source": [
        "## 2-2. Python"
      ]
    },
    {
      "cell_type": "code",
      "metadata": {
        "kernel": "Python 3 (ipykernel)",
        "nbgrader": {
          "grade": false,
          "grade_id": "c-012",
          "locked": false,
          "schema_version": 3,
          "solution": false,
          "task": false
        }
      },
      "source": [
        "%%writefile fork.py\n",
        "import os\n",
        "\n",
        "print(f\"{os.getpid()} : before fork\", flush=True)\n",
        "os.fork()\n",
        "print(f\"{os.getpid()} : after fork\")"
      ],
      "execution_count": null,
      "outputs": []
    },
    {
      "cell_type": "code",
      "metadata": {
        "kernel": "Bash",
        "nbgrader": {
          "grade": false,
          "grade_id": "c-013",
          "locked": false,
          "schema_version": 3,
          "solution": false,
          "task": false
        }
      },
      "source": [
        "# 何も表示されない場合, もう一度実行せよ (Jupyter環境の不具合)\n",
        "python3 fork.py"
      ],
      "execution_count": null,
      "outputs": []
    },
    {
      "cell_type": "markdown",
      "metadata": {
        "kernel": "SoS",
        "nbgrader": {
          "grade": false,
          "grade_id": "c-014",
          "locked": true,
          "schema_version": 3,
          "solution": false,
          "task": false
        }
      },
      "source": [
        "# 3. 親と子で違う動作をする例",
        "\n",
        "* forkを使うもう少し完結した例\n",
        "* 親と子で違う動作をする\n",
        "\n",
        "## 3-1. C"
      ]
    },
    {
      "cell_type": "code",
      "metadata": {
        "kernel": "Python 3 (ipykernel)",
        "nbgrader": {
          "grade": false,
          "grade_id": "c-015",
          "locked": false,
          "schema_version": 3,
          "solution": false,
          "task": false
        }
      },
      "source": [
        "%%writefile fork_pc.c\n",
        "#include <err.h>\n",
        "#include <stdio.h>\n",
        "#include <stdlib.h>\n",
        "#include <unistd.h>\n",
        "\n",
        "int main() {\n",
        "  pid_t pid = fork();           /* 現プロセスをコピー */\n",
        "  if (pid == -1) {\n",
        "    err(1, \"fork\");\n",
        "  } else if (pid == 0) {        /* 新しいプロセス(子プロセス) */\n",
        "    for (int i = 0; i < 5; i++) {\n",
        "      printf(\"child  %d: %d\\n\", getpid(), i);\n",
        "      fflush(stdout);\n",
        "      usleep(100 * 1000);\n",
        "    }\n",
        "  } else {                      /* 元いたプロセス(親プロセス)\n",
        "                                   forkの返り値は子プロセスのプロセスID */\n",
        "    for (int i = 0; i < 5; i++) {\n",
        "      printf(\"parent %d: %d\\n\", getpid(), i);\n",
        "      fflush(stdout);\n",
        "      usleep(100 * 1000);\n",
        "    }\n",
        "  }\n",
        "  return 0;\n",
        "}"
      ],
      "execution_count": null,
      "outputs": []
    },
    {
      "cell_type": "code",
      "metadata": {
        "kernel": "Bash",
        "nbgrader": {
          "grade": false,
          "grade_id": "c-016",
          "locked": false,
          "schema_version": 3,
          "solution": false,
          "task": false
        }
      },
      "source": [
        "gcc -Wall fork_pc.c -o fork_pc"
      ],
      "execution_count": null,
      "outputs": []
    },
    {
      "cell_type": "code",
      "metadata": {
        "kernel": "Bash",
        "nbgrader": {
          "grade": false,
          "grade_id": "c-017",
          "locked": false,
          "schema_version": 3,
          "solution": false,
          "task": false
        }
      },
      "source": [
        "./fork_pc"
      ],
      "execution_count": null,
      "outputs": []
    },
    {
      "cell_type": "markdown",
      "metadata": {
        "kernel": "SoS",
        "nbgrader": {
          "grade": false,
          "grade_id": "c-018",
          "locked": true,
          "schema_version": 3,
          "solution": false,
          "task": false
        }
      },
      "source": [
        "## 3-2. Python"
      ]
    },
    {
      "cell_type": "code",
      "metadata": {
        "kernel": "Python 3 (ipykernel)",
        "nbgrader": {
          "grade": false,
          "grade_id": "c-019",
          "locked": false,
          "schema_version": 3,
          "solution": false,
          "task": false
        }
      },
      "source": [
        "%%writefile fork_pc.py\n",
        "import os\n",
        "import time\n",
        "\n",
        "pid = os.fork()\n",
        "if pid == 0:\n",
        "    # 新しいプロセス(子プロセス)\n",
        "    for i in range(5):\n",
        "        print(f\"child  {os.getpid()}: {i}\", flush=True)\n",
        "        time.sleep(0.1)\n",
        "else:\n",
        "    # 元いたプロセス(親プロセス) forkの返り値は子プロセスのプロセスID\n",
        "    for i in range(5):\n",
        "        print(f\"parent {os.getpid()}: {i}\", flush=True)\n",
        "        time.sleep(0.1)"
      ],
      "execution_count": null,
      "outputs": []
    },
    {
      "cell_type": "code",
      "metadata": {
        "kernel": "Bash",
        "nbgrader": {
          "grade": false,
          "grade_id": "c-020",
          "locked": false,
          "schema_version": 3,
          "solution": false,
          "task": false
        }
      },
      "source": [
        "python3 fork_pc.py"
      ],
      "execution_count": null,
      "outputs": []
    },
    {
      "cell_type": "markdown",
      "metadata": {
        "kernel": "SoS",
        "nbgrader": {
          "grade": false,
          "grade_id": "c-021",
          "locked": true,
          "schema_version": 3,
          "solution": false,
          "task": false
        }
      },
      "source": [
        "# 4. wait",
        "\n",
        "* forkを使うさらにまともな例\n",
        "* 親が子のwait処理をする\n",
        "\n",
        "## 4-1. C"
      ]
    },
    {
      "cell_type": "code",
      "metadata": {
        "kernel": "Python 3 (ipykernel)",
        "nbgrader": {
          "grade": false,
          "grade_id": "c-022",
          "locked": false,
          "schema_version": 3,
          "solution": false,
          "task": false
        }
      },
      "source": [
        "%%writefile fork_wait.c\n",
        "#include <err.h>\n",
        "#include <stdio.h>\n",
        "#include <stdlib.h>\n",
        "#include <unistd.h>\n",
        "#include <sys/types.h>\n",
        "#include <sys/wait.h>\n",
        "\n",
        "int main() {\n",
        "  pid_t pid = fork();\n",
        "  if (pid == -1) {\n",
        "    err(1, \"fork\");\n",
        "  } else if (pid == 0) {          /* child */\n",
        "    for (int i = 0; i < 5; i++) {\n",
        "      printf(\"%d: %d\\n\", getpid(), i);\n",
        "      fflush(stdout);\n",
        "      usleep(100 * 1000);\n",
        "    }\n",
        "    return 123;\n",
        "  } else {\n",
        "    int ws;\n",
        "    printf(\"parent: wait for child (pid = %d) to finish\\n\", pid);\n",
        "    fflush(stdout);\n",
        "    pid_t cid = waitpid(pid, &ws, 0);\n",
        "    if (cid == -1) err(1, \"waitpid\");\n",
        "    if (WIFEXITED(ws)) {\n",
        "      printf(\"exited, status=%d\\n\", WEXITSTATUS(ws));\n",
        "      fflush(stdout);\n",
        "    } else if (WIFSIGNALED(ws)) {\n",
        "      printf(\"killed by signal %d\\n\", WTERMSIG(ws));\n",
        "      fflush(stdout);\n",
        "    }\n",
        "  }\n",
        "  return 0;\n",
        "}"
      ],
      "execution_count": null,
      "outputs": []
    },
    {
      "cell_type": "code",
      "metadata": {
        "kernel": "Bash",
        "nbgrader": {
          "grade": false,
          "grade_id": "c-023",
          "locked": false,
          "schema_version": 3,
          "solution": false,
          "task": false
        }
      },
      "source": [
        "gcc -Wall fork_wait.c -o fork_wait"
      ],
      "execution_count": null,
      "outputs": []
    },
    {
      "cell_type": "code",
      "metadata": {
        "kernel": "Bash",
        "nbgrader": {
          "grade": false,
          "grade_id": "c-024",
          "locked": false,
          "schema_version": 3,
          "solution": false,
          "task": false
        }
      },
      "source": [
        "./fork_wait"
      ],
      "execution_count": null,
      "outputs": []
    },
    {
      "cell_type": "markdown",
      "metadata": {
        "kernel": "SoS",
        "nbgrader": {
          "grade": false,
          "grade_id": "c-025",
          "locked": true,
          "schema_version": 3,
          "solution": false,
          "task": false
        }
      },
      "source": [
        "## 4-2. Python"
      ]
    },
    {
      "cell_type": "code",
      "metadata": {
        "kernel": "Python 3 (ipykernel)",
        "nbgrader": {
          "grade": false,
          "grade_id": "c-026",
          "locked": false,
          "schema_version": 3,
          "solution": false,
          "task": false
        }
      },
      "source": [
        "%%writefile fork_wait.py\n",
        "import os\n",
        "import time\n",
        "\n",
        "pid = os.fork()\n",
        "if pid == 0:\n",
        "    # 新しいプロセス(子プロセス)\n",
        "    for i in range(5):\n",
        "        print(f\"child  {os.getpid()}: {i}\", flush=True)\n",
        "        time.sleep(0.1)\n",
        "else:\n",
        "    # 元いたプロセス(親プロセス) forkの返り値は子プロセスのプロセスID\n",
        "    print(f\"parent: wait for child (pid = {pid}) to finish\", flush=True)\n",
        "    cid, ws = os.waitpid(pid, 0)\n",
        "    if os.WIFEXITED(ws):\n",
        "        print(f\"exited, status={os.WEXITSTATUS(ws)}\", flush=True)\n",
        "    elif os.WIFSIGNALED(ws):\n",
        "        print(f\"killed by signal {os.WTERMSIG(ws)}\", flush=True)\n",
        ""
      ],
      "execution_count": null,
      "outputs": []
    },
    {
      "cell_type": "code",
      "metadata": {
        "kernel": "Bash",
        "nbgrader": {
          "grade": false,
          "grade_id": "c-027",
          "locked": false,
          "schema_version": 3,
          "solution": false,
          "task": false
        }
      },
      "source": [
        "python3 fork_wait.py"
      ],
      "execution_count": null,
      "outputs": []
    },
    {
      "cell_type": "markdown",
      "metadata": {
        "kernel": "SoS",
        "nbgrader": {
          "grade": false,
          "grade_id": "c-028",
          "locked": true,
          "schema_version": 3,
          "solution": false,
          "task": false
        }
      },
      "source": [
        "# 5. exec",
        ""
      ]
    },
    {
      "cell_type": "markdown",
      "metadata": {
        "kernel": "SoS",
        "nbgrader": {
          "grade": false,
          "grade_id": "c-029",
          "locked": true,
          "schema_version": 3,
          "solution": false,
          "task": false
        }
      },
      "source": [
        "* execは指定したプログラムを実行するシステムコール\n",
        "* 呼び出したプロセスをそのまま, 指定したプログラムを先頭から実行するものに「変える」というイメージ\n",
        "* execがプロセスを生成するのではないので注意\n",
        "* execはあくまで呼び出したプロセスを, これまでのことをすべて忘れて所定のことをするプロセスに「変身させる」\n",
        "* なお, execという名のシステムコールが実在するのではなく, execv, execveなど色々な変種の総称\n",
        "* 以下は ls -l を実行するプロセスを作るプログラム\n",
        "\n",
        "## 5-1. C"
      ]
    },
    {
      "cell_type": "code",
      "metadata": {
        "kernel": "Python 3 (ipykernel)",
        "nbgrader": {
          "grade": false,
          "grade_id": "c-030",
          "locked": false,
          "schema_version": 3,
          "solution": false,
          "task": false
        }
      },
      "source": [
        "%%writefile fork_execv.c\n",
        "#include <err.h>\n",
        "#include <stdio.h>\n",
        "#include <stdlib.h>\n",
        "#include <unistd.h>\n",
        "#include <sys/types.h>\n",
        "#include <sys/wait.h>\n",
        "\n",
        "extern char ** environ;\n",
        "\n",
        "int main() {\n",
        "  pid_t pid = fork();           /* 現プロセスをコピー */\n",
        "  if (pid == -1) {\n",
        "    err(1, \"fork\");\n",
        "  } else if (pid == 0) {        /* 新しいプロセス(子プロセス) */\n",
        "    char * const argv[] = { \"/bin/ls\", \"-l\", 0 };\n",
        "    execv(argv[0], argv);\n",
        "    /* 成功すればexecveはリターンしない.\n",
        "       i.e., リターンしたらエラー */\n",
        "    err(1, \"execve\");\n",
        "  } else {\n",
        "    int ws;\n",
        "    pid_t cid = waitpid(pid, &ws, 0);\n",
        "    if (cid == -1) err(1, \"waitpid\");\n",
        "    if (WIFEXITED(ws)) {\n",
        "      printf(\"exited, status=%d\\n\", WEXITSTATUS(ws));\n",
        "      fflush(stdout);\n",
        "    } else if (WIFSIGNALED(ws)) {\n",
        "      printf(\"killed by signal %d\\n\", WTERMSIG(ws));\n",
        "      fflush(stdout);\n",
        "    }\n",
        "  }\n",
        "  return 0;\n",
        "}"
      ],
      "execution_count": null,
      "outputs": []
    },
    {
      "cell_type": "code",
      "metadata": {
        "kernel": "Bash",
        "nbgrader": {
          "grade": false,
          "grade_id": "c-031",
          "locked": false,
          "schema_version": 3,
          "solution": false,
          "task": false
        }
      },
      "source": [
        "gcc -Wall fork_execv.c -o fork_execv"
      ],
      "execution_count": null,
      "outputs": []
    },
    {
      "cell_type": "code",
      "metadata": {
        "kernel": "Bash",
        "nbgrader": {
          "grade": false,
          "grade_id": "c-032",
          "locked": false,
          "schema_version": 3,
          "solution": false,
          "task": false
        }
      },
      "source": [
        "./fork_execv"
      ],
      "execution_count": null,
      "outputs": []
    },
    {
      "cell_type": "markdown",
      "metadata": {
        "kernel": "SoS",
        "nbgrader": {
          "grade": false,
          "grade_id": "c-033",
          "locked": true,
          "schema_version": 3,
          "solution": false,
          "task": false
        }
      },
      "source": [
        "## 5-2. Python"
      ]
    },
    {
      "cell_type": "code",
      "metadata": {
        "kernel": "Python 3 (ipykernel)",
        "nbgrader": {
          "grade": false,
          "grade_id": "c-034",
          "locked": false,
          "schema_version": 3,
          "solution": false,
          "task": false
        }
      },
      "source": [
        "%%writefile fork_execv.py\n",
        "import os\n",
        "\n",
        "pid = os.fork()\n",
        "if pid == 0:                    # 新しいプロセス(子プロセス)\n",
        "    argv = [ \"/bin/ls\", \"-l\" ]\n",
        "    os.execv(argv[0], argv)\n",
        "else:\n",
        "    cid, ws = os.waitpid(pid, 0)\n",
        "    if os.WIFEXITED(ws):\n",
        "        print(f\"exited, status={os.WEXITSTATUS(ws)}\", flush=True)\n",
        "    elif os.WIFSIGNALED(ws):\n",
        "        print(f\"killed by signal {os.WTERMSIG(ws)}\", flush=True)"
      ],
      "execution_count": null,
      "outputs": []
    },
    {
      "cell_type": "code",
      "metadata": {
        "kernel": "Bash",
        "nbgrader": {
          "grade": false,
          "grade_id": "c-035",
          "locked": false,
          "schema_version": 3,
          "solution": false,
          "task": false
        }
      },
      "source": [
        "python3 fork_execv.py"
      ],
      "execution_count": null,
      "outputs": []
    },
    {
      "cell_type": "markdown",
      "metadata": {
        "kernel": "SoS",
        "nbgrader": {
          "grade": false,
          "grade_id": "c-036",
          "locked": true,
          "schema_version": 3,
          "solution": false,
          "task": false
        }
      },
      "source": [
        "# 6. execvp",
        "\n",
        "* execv関数では実行したいコマンド(ls)のファイル名(/bin/ls)を指定しなくてはならない\n",
        "* 普段シェルでコマンドを実行する際は ls と打つだけで実行できているのは, シェルがPATHという環境変数を見てコマンドを探してくれているから\n",
        "* 以下でPATHという環境変数の中身が表示できる"
      ]
    },
    {
      "cell_type": "code",
      "metadata": {
        "kernel": "Bash",
        "nbgrader": {
          "grade": false,
          "grade_id": "c-037",
          "locked": false,
          "schema_version": 3,
          "solution": false,
          "task": false
        }
      },
      "source": [
        "echo $PATH"
      ],
      "execution_count": null,
      "outputs": []
    },
    {
      "cell_type": "markdown",
      "metadata": {
        "kernel": "SoS",
        "nbgrader": {
          "grade": false,
          "grade_id": "c-038",
          "locked": true,
          "schema_version": 3,
          "solution": false,
          "task": false
        }
      },
      "source": [
        "\n",
        "* シェルは, PATHに指定されているディレクトリを順に見ていって, lsという名前のファイルが見つかったらそれを実行する\n",
        "* 同じことはexecの変種 execvp という関数を呼べばやってくれる\n",
        "\n",
        "## 6-1. C"
      ]
    },
    {
      "cell_type": "code",
      "metadata": {
        "kernel": "Python 3 (ipykernel)",
        "nbgrader": {
          "grade": false,
          "grade_id": "c-039",
          "locked": false,
          "schema_version": 3,
          "solution": false,
          "task": false
        }
      },
      "source": [
        "%%writefile fork_execvp.c\n",
        "#include <err.h>\n",
        "#include <stdio.h>\n",
        "#include <stdlib.h>\n",
        "#include <unistd.h>\n",
        "#include <sys/types.h>\n",
        "#include <sys/wait.h>\n",
        "\n",
        "extern char ** environ;\n",
        "\n",
        "int main() {\n",
        "  pid_t pid = fork();           /* 現プロセスをコピー */\n",
        "  if (pid == -1) {\n",
        "    err(1, \"fork\");\n",
        "  } else if (pid == 0) {        /* 新しいプロセス(子プロセス) */\n",
        "    char * const argv[] = { \"ls\", \"-l\", 0 };\n",
        "    execvp(argv[0], argv);\n",
        "    /* 成功すればexecveはリターンしない.\n",
        "       i.e., リターンしたらエラー */\n",
        "    err(1, \"execve\");\n",
        "  } else {\n",
        "    int ws;\n",
        "    pid_t cid = waitpid(pid, &ws, 0);\n",
        "    if (cid == -1) err(1, \"waitpid\");\n",
        "    if (WIFEXITED(ws)) {\n",
        "      printf(\"exited, status=%d\\n\", WEXITSTATUS(ws));\n",
        "      fflush(stdout);\n",
        "    } else if (WIFSIGNALED(ws)) {\n",
        "      printf(\"killed by signal %d\\n\", WTERMSIG(ws));\n",
        "      fflush(stdout);\n",
        "    }\n",
        "  }\n",
        "  return 0;\n",
        "}"
      ],
      "execution_count": null,
      "outputs": []
    },
    {
      "cell_type": "code",
      "metadata": {
        "kernel": "Bash",
        "nbgrader": {
          "grade": false,
          "grade_id": "c-040",
          "locked": false,
          "schema_version": 3,
          "solution": false,
          "task": false
        }
      },
      "source": [
        "gcc -Wall fork_execvp.c -o fork_execvp"
      ],
      "execution_count": null,
      "outputs": []
    },
    {
      "cell_type": "code",
      "metadata": {
        "kernel": "Bash",
        "nbgrader": {
          "grade": false,
          "grade_id": "c-041",
          "locked": false,
          "schema_version": 3,
          "solution": false,
          "task": false
        }
      },
      "source": [
        "./fork_execvp"
      ],
      "execution_count": null,
      "outputs": []
    },
    {
      "cell_type": "markdown",
      "metadata": {
        "kernel": "SoS",
        "nbgrader": {
          "grade": false,
          "grade_id": "c-042",
          "locked": true,
          "schema_version": 3,
          "solution": false,
          "task": false
        }
      },
      "source": [
        "## 6-2. Python"
      ]
    },
    {
      "cell_type": "code",
      "metadata": {
        "kernel": "Python 3 (ipykernel)",
        "nbgrader": {
          "grade": false,
          "grade_id": "c-043",
          "locked": false,
          "schema_version": 3,
          "solution": false,
          "task": false
        }
      },
      "source": [
        "%%writefile fork_execvp.py\n",
        "import os\n",
        "\n",
        "pid = os.fork()\n",
        "if pid == 0:                    # 新しいプロセス(子プロセス)\n",
        "    argv = [ \"ls\", \"-l\" ]\n",
        "    os.execvp(argv[0], argv)\n",
        "else:\n",
        "    cid, ws = os.waitpid(pid, 0)\n",
        "    if os.WIFEXITED(ws):\n",
        "        print(f\"exited, status={os.WEXITSTATUS(ws)}\", flush=True)\n",
        "    elif os.WIFSIGNALED(ws):\n",
        "        print(f\"killed by signal {os.WTERMSIG(ws)}\", flush=True)"
      ],
      "execution_count": null,
      "outputs": []
    },
    {
      "cell_type": "code",
      "metadata": {
        "kernel": "Bash",
        "nbgrader": {
          "grade": false,
          "grade_id": "c-044",
          "locked": false,
          "schema_version": 3,
          "solution": false,
          "task": false
        }
      },
      "source": [
        "python3 fork_execvp.py"
      ],
      "execution_count": null,
      "outputs": []
    },
    {
      "cell_type": "markdown",
      "metadata": {
        "kernel": "SoS",
        "nbgrader": {
          "grade": false,
          "grade_id": "c-045",
          "locked": true,
          "schema_version": 3,
          "solution": false,
          "task": false
        }
      },
      "source": [
        "* なお, PATHの中身を見て, コマンド名に対応するファイル名を表示してくれるのが which というコマンド\n",
        "* コマンドを打ち込んで実行されているファイルがどこにあるのかを知りたいときに使う\n",
        "* Linux, Macを使っている人は普段使っているプログラム, firefox, zoomなどがどこにあるのかを探ってみよ"
      ]
    },
    {
      "cell_type": "code",
      "metadata": {
        "kernel": "Bash",
        "nbgrader": {
          "grade": false,
          "grade_id": "c-046",
          "locked": false,
          "schema_version": 3,
          "solution": false,
          "task": false
        }
      },
      "source": [
        "which firefox\n",
        "which zoom"
      ],
      "execution_count": null,
      "outputs": []
    },
    {
      "cell_type": "markdown",
      "metadata": {
        "kernel": "SoS",
        "nbgrader": {
          "grade": false,
          "grade_id": "c-047",
          "locked": true,
          "schema_version": 3,
          "solution": false,
          "task": false
        }
      },
      "source": [
        "# 7. forkにまつわる悲劇",
        "\n",
        "* 以下のようなプログラムを書いたらプロセスはいくつ生成されるのだろう?\n",
        "* そして以下を実行するとどんな表示が出てくるか?\n",
        "* 頭で予想してから実行してみよ\n",
        "* n=100としたら何が起こるか(<- 決してやってはいけない)?\n",
        "\n",
        "## 7-1. C"
      ]
    },
    {
      "cell_type": "code",
      "metadata": {
        "kernel": "Python 3 (ipykernel)",
        "nbgrader": {
          "grade": false,
          "grade_id": "c-048",
          "locked": false,
          "schema_version": 3,
          "solution": false,
          "task": false
        }
      },
      "source": [
        "%%writefile fork_n.c\n",
        "#include <stdio.h>\n",
        "#include <unistd.h>\n",
        "\n",
        "int main() {\n",
        "  int n = 5;\n",
        "  for (int i = 0; i < n; i++) {\n",
        "    pid_t cid = fork();\n",
        "    printf(\"%d -> %d\\n\", getpid(), cid);\n",
        "    fflush(stdout);\n",
        "  }\n",
        "  return 0;\n",
        "}"
      ],
      "execution_count": null,
      "outputs": []
    },
    {
      "cell_type": "code",
      "metadata": {
        "kernel": "Bash",
        "nbgrader": {
          "grade": false,
          "grade_id": "c-049",
          "locked": false,
          "schema_version": 3,
          "solution": false,
          "task": false
        }
      },
      "source": [
        "gcc -Wall fork_n.c -o fork_n"
      ],
      "execution_count": null,
      "outputs": []
    },
    {
      "cell_type": "markdown",
      "metadata": {
        "kernel": "SoS",
        "nbgrader": {
          "grade": false,
          "grade_id": "c-050",
          "locked": true,
          "schema_version": 3,
          "solution": false,
          "task": false
        }
      },
      "source": [
        "* 以下を実行して (左側のファイル一覧から) out.txt を開いて見てみよ\n",
        "* プログラムと結果を見て, このプログラムを実行した結果何が起きたのかを考えよ (わかりにくければ n を小さくして)"
      ]
    },
    {
      "cell_type": "code",
      "metadata": {
        "kernel": "Bash",
        "nbgrader": {
          "grade": false,
          "grade_id": "c-051",
          "locked": false,
          "schema_version": 3,
          "solution": false,
          "task": false
        }
      },
      "source": [
        "./fork_n > out.txt"
      ],
      "execution_count": null,
      "outputs": []
    },
    {
      "cell_type": "markdown",
      "metadata": {
        "kernel": "SoS",
        "nbgrader": {
          "grade": false,
          "grade_id": "c-052",
          "locked": true,
          "schema_version": 3,
          "solution": false,
          "task": false
        }
      },
      "source": [
        "## 7-2. Python"
      ]
    },
    {
      "cell_type": "code",
      "metadata": {
        "kernel": "Python 3 (ipykernel)",
        "nbgrader": {
          "grade": false,
          "grade_id": "c-053",
          "locked": false,
          "schema_version": 3,
          "solution": false,
          "task": false
        }
      },
      "source": [
        "%%writefile fork_n.py\n",
        "import os\n",
        "\n",
        "n = 5\n",
        "for i in range(5):\n",
        "    cid = os.fork()\n",
        "    print(f\"{os.getpid()} -> {cid}\", flush=True)"
      ],
      "execution_count": null,
      "outputs": []
    },
    {
      "cell_type": "markdown",
      "metadata": {
        "kernel": "SoS",
        "nbgrader": {
          "grade": false,
          "grade_id": "c-054",
          "locked": true,
          "schema_version": 3,
          "solution": false,
          "task": false
        }
      },
      "source": [
        "* 以下を実行して (左側のファイル一覧から) out.txt を開いて見てみよ\n",
        "* プログラムと結果を見て, このプログラムを実行した結果何が起きたのかを考えよ (わかりにくければ n を小さくして)"
      ]
    },
    {
      "cell_type": "code",
      "metadata": {
        "kernel": "Bash",
        "nbgrader": {
          "grade": false,
          "grade_id": "c-055",
          "locked": false,
          "schema_version": 3,
          "solution": false,
          "task": false
        }
      },
      "source": [
        "python3 fork_n.py > out.txt"
      ],
      "execution_count": null,
      "outputs": []
    },
    {
      "cell_type": "markdown",
      "metadata": {
        "kernel": "SoS",
        "nbgrader": {
          "grade": false,
          "grade_id": "c-056",
          "locked": true,
          "schema_version": 3,
          "solution": false,
          "task": false
        }
      },
      "source": [
        "* 注: > out.txt なしで直接表示することもできるが, 結果をすべて出力てくれないことがしばしばある. これは多分, Jupyterのbashカーネルのバグ\n",
        "* 多分以下のように, このセルの終了まで間を作ると全部出力してくれる(Jupyterのバグを回避しているだけで全く本質的なことではない. 端末で実行すればこんなことをする必要はない)"
      ]
    },
    {
      "cell_type": "code",
      "metadata": {
        "kernel": "Bash",
        "nbgrader": {
          "grade": false,
          "grade_id": "c-057",
          "locked": false,
          "schema_version": 3,
          "solution": false,
          "task": false
        }
      },
      "source": [
        "./fork_n\n",
        "sleep 1 "
      ],
      "execution_count": null,
      "outputs": []
    },
    {
      "cell_type": "markdown",
      "metadata": {
        "kernel": "SoS",
        "nbgrader": {
          "grade": false,
          "grade_id": "c-058",
          "locked": true,
          "schema_version": 3,
          "solution": false,
          "task": false
        }
      },
      "source": [
        "# <font color=\"green\"> Problem 1 :  fork, exec, waitの練習</font>",
        "\n",
        "以下を行うプログラムを書け\n",
        "\n",
        "1. 時刻をナノ秒単位で取得($t_0$とする)\n",
        "2. 以下を多数回($n$回)繰り返す\n",
        " * 子プロセスをforkする\n",
        "  * 子プロセスはただちに ./do_nothing という, 何もしないプログラムをexecする\n",
        "  * 親プロセスはただちに子プロセスの終了をwaitする\n",
        "3. 時刻をナノ秒単位で取得($t_1$とする)\n",
        "4. 1回あたりの時間($(t_1 - t_0)/n$) をナノ秒単位で出力\n",
        "\n",
        "* do_nothingは以下のような, 何もしないプログラム"
      ]
    },
    {
      "cell_type": "code",
      "metadata": {
        "kernel": "Python 3 (ipykernel)",
        "nbgrader": {
          "grade": false,
          "grade_id": "c-059",
          "locked": false,
          "schema_version": 3,
          "solution": false,
          "task": false
        }
      },
      "source": [
        "%%writefile do_nothing.c\n",
        "int main() {\n",
        "  return 0;\n",
        "}"
      ],
      "execution_count": null,
      "outputs": []
    },
    {
      "cell_type": "code",
      "metadata": {
        "kernel": "Bash",
        "nbgrader": {
          "grade": false,
          "grade_id": "c-060",
          "locked": false,
          "schema_version": 3,
          "solution": false,
          "task": false
        }
      },
      "source": [
        "gcc -Wall do_nothing.c -o do_nothing"
      ],
      "execution_count": null,
      "outputs": []
    },
    {
      "cell_type": "markdown",
      "metadata": {
        "kernel": "SoS",
        "nbgrader": {
          "grade": false,
          "grade_id": "c-061",
          "locked": true,
          "schema_version": 3,
          "solution": false,
          "task": false
        }
      },
      "source": [
        "* $n$はコマンドラインから取得できるようにする\n",
        "* 以下のコードを修正して上記を達成せよ(PythonとC両方)\n",
        "\n",
        "## 7-3. C"
      ]
    },
    {
      "cell_type": "code",
      "metadata": {
        "kernel": "Python 3 (ipykernel)",
        "nbgrader": {
          "grade": true,
          "grade_id": "p-001",
          "locked": false,
          "schema_version": 3,
          "solution": true,
          "task": false,
          "points": 1
        }
      },
      "source": [
        "BEGIN SOLUTION\n",
        "END SOLUTION\n",
        "%%writefile time_fork_exec_wait.c\n",
        "#include <err.h>\n",
        "#include <stdio.h>\n",
        "#include <stdlib.h>\n",
        "#include <unistd.h>\n",
        "#include <time.h>\n",
        "#include <sys/types.h>\n",
        "#include <sys/wait.h>\n",
        "\n",
        "long cur_time() {\n",
        "  struct timespec ts[1];\n",
        "  clock_gettime(CLOCK_REALTIME, ts);\n",
        "  return ts->tv_sec * 1000000000L + ts->tv_nsec;\n",
        "}\n",
        "\n",
        "int main(int argc, char ** argv) {\n",
        "  int n = (argc > 1 ? atoi(argv[1]) : 5);\n",
        "  long t0 = cur_time();\n",
        "\n",
        "  \n",
        "  ここにプログラムを書く\n",
        "\n",
        "  \n",
        "  long t1 = cur_time();\n",
        "  long dt = t1 - t0;\n",
        "  printf(\"%ld nsec to fork-exec-wait %d processes (%ld nsec/proc)\\n\",\n",
        "         dt, n, dt / n);\n",
        "  return 0;\n",
        "}"
      ],
      "execution_count": null,
      "outputs": []
    },
    {
      "cell_type": "code",
      "metadata": {
        "kernel": "Bash",
        "nbgrader": {
          "grade": true,
          "grade_id": "p-002",
          "locked": false,
          "schema_version": 3,
          "solution": true,
          "task": false,
          "points": 1
        }
      },
      "source": [
        "BEGIN SOLUTION\n",
        "END SOLUTION\n",
        "gcc -Wall time_fork_exec_wait.c -o time_fork_exec_wait"
      ],
      "execution_count": null,
      "outputs": []
    },
    {
      "cell_type": "code",
      "metadata": {
        "kernel": "Python 3 (ipykernel)",
        "nbgrader": {
          "grade": false,
          "grade_id": "c-062",
          "locked": false,
          "schema_version": 3,
          "solution": false,
          "task": false
        }
      },
      "source": [
        "%%writefile time_fork_exec_wait_ans.c\n",
        "#include <err.h>\n",
        "#include <stdio.h>\n",
        "#include <stdlib.h>\n",
        "#include <unistd.h>\n",
        "#include <time.h>\n",
        "#include <sys/types.h>\n",
        "#include <sys/wait.h>\n",
        "\n",
        "long cur_time() {\n",
        "  struct timespec ts[1];\n",
        "  clock_gettime(CLOCK_REALTIME, ts);\n",
        "  return ts->tv_sec * 1000000000L + ts->tv_nsec;\n",
        "}\n",
        "\n",
        "int main(int argc, char ** argv) {\n",
        "  int n = (argc > 1 ? atoi(argv[1]) : 5);\n",
        "  long t0 = cur_time();\n",
        "  for (int i = 0; i < n; i++) {\n",
        "    pid_t pid = fork();           /* 現プロセスをコピー */\n",
        "    if (pid == -1) {\n",
        "      err(1, \"fork\");\n",
        "    } else if (pid == 0) {        /* 新しいプロセス(子プロセス) */\n",
        "      char * const argv[] = { \"./do_nothing\", 0 };\n",
        "      execvp(argv[0], argv);\n",
        "      err(1, \"execve\");\n",
        "    } else {\n",
        "      int ws;\n",
        "      pid_t cid = waitpid(pid, &ws, 0);\n",
        "      if (cid == -1) err(1, \"waitpid\");\n",
        "    }\n",
        "  }\n",
        "  long t1 = cur_time();\n",
        "  long dt = t1 - t0;\n",
        "  printf(\"%ld nsec to fork-exec-wait %d processes (%ld nsec/proc)\\n\",\n",
        "         dt, n, dt / n);\n",
        "  return 0;\n",
        "}"
      ],
      "execution_count": null,
      "outputs": []
    },
    {
      "cell_type": "code",
      "metadata": {
        "kernel": "Bash",
        "nbgrader": {
          "grade": false,
          "grade_id": "c-063",
          "locked": false,
          "schema_version": 3,
          "solution": false,
          "task": false
        }
      },
      "source": [
        "gcc -Wall time_fork_exec_wait_ans.c -o time_fork_exec_wait_ans"
      ],
      "execution_count": null,
      "outputs": []
    },
    {
      "cell_type": "markdown",
      "metadata": {
        "kernel": "SoS",
        "nbgrader": {
          "grade": false,
          "grade_id": "c-064",
          "locked": true,
          "schema_version": 3,
          "solution": false,
          "task": false
        }
      },
      "source": [
        "* 同様に以下のコマンドラインを色々変更して, 1回あたりの時間を計測せよ"
      ]
    },
    {
      "cell_type": "code",
      "metadata": {
        "kernel": "Bash",
        "nbgrader": {
          "grade": true,
          "grade_id": "p-003",
          "locked": false,
          "schema_version": 3,
          "solution": true,
          "task": false,
          "points": 1
        }
      },
      "source": [
        "BEGIN SOLUTION\n",
        "END SOLUTION\n",
        "./time_fork_exec_wait 10"
      ],
      "execution_count": null,
      "outputs": []
    },
    {
      "cell_type": "code",
      "metadata": {
        "kernel": "Bash",
        "nbgrader": {
          "grade": false,
          "grade_id": "c-065",
          "locked": false,
          "schema_version": 3,
          "solution": false,
          "task": false
        }
      },
      "source": [
        "./time_fork_exec_wait_ans 10"
      ],
      "execution_count": null,
      "outputs": []
    },
    {
      "cell_type": "markdown",
      "metadata": {
        "kernel": "SoS",
        "nbgrader": {
          "grade": false,
          "grade_id": "c-066",
          "locked": true,
          "schema_version": 3,
          "solution": false,
          "task": false
        }
      },
      "source": [
        "## 7-4. Python"
      ]
    },
    {
      "cell_type": "code",
      "metadata": {
        "kernel": "Python 3 (ipykernel)",
        "nbgrader": {
          "grade": true,
          "grade_id": "p-004",
          "locked": false,
          "schema_version": 3,
          "solution": true,
          "task": false,
          "points": 1
        }
      },
      "source": [
        "BEGIN SOLUTION\n",
        "END SOLUTION\n",
        "%%writefile time_fork_exec_wait.py\n",
        "import os\n",
        "import sys\n",
        "import time\n",
        "\n",
        "def cur_time():\n",
        "    return int(time.time() * 1.0e9)\n",
        "\n",
        "def main():\n",
        "    n = int(sys.argv[1]) if 1 < len(sys.argv) else 5\n",
        "    t0 = cur_time()\n",
        "\n",
        "  \n",
        "    ここにプログラムを書く\n",
        "\n",
        "  \n",
        "    t1 = cur_time()\n",
        "    dt = t1 - t0\n",
        "    print(f\"{dt} nsec to fork-exec-wait {n} processes ({dt / n} nsec/proc)\")\n",
        "\n",
        "main()"
      ],
      "execution_count": null,
      "outputs": []
    },
    {
      "cell_type": "code",
      "metadata": {
        "kernel": "Python 3 (ipykernel)",
        "nbgrader": {
          "grade": false,
          "grade_id": "c-067",
          "locked": false,
          "schema_version": 3,
          "solution": false,
          "task": false
        }
      },
      "source": [
        "%%writefile time_fork_exec_wait_ans.py\n",
        "import os\n",
        "import sys\n",
        "import time\n",
        "\n",
        "def cur_time():\n",
        "    return int(time.time() * 1.0e9)\n",
        "\n",
        "def main():\n",
        "    n = int(sys.argv[1]) if 1 < len(sys.argv) else 5\n",
        "    t0 = cur_time()\n",
        "    for i in range(n):\n",
        "        pid = os.fork()             # 現プロセスをコピー\n",
        "        if pid == 0:                #  新しいプロセス(子プロセス)\n",
        "            argv = [ \"./do_nothing\" ]\n",
        "            os.execvp(argv[0], argv)\n",
        "        else:\n",
        "            cid, ws = os.waitpid(pid, 0)\n",
        "    t1 = cur_time()\n",
        "    dt = t1 - t0\n",
        "    print(f\"{dt} nsec to fork-exec-wait {n} processes ({dt / n} nsec/proc)\")\n",
        "\n",
        "main()"
      ],
      "execution_count": null,
      "outputs": []
    },
    {
      "cell_type": "markdown",
      "metadata": {
        "kernel": "SoS",
        "nbgrader": {
          "grade": false,
          "grade_id": "c-068",
          "locked": true,
          "schema_version": 3,
          "solution": false,
          "task": false
        }
      },
      "source": [
        "* 以下のコマンドラインを色々変更して, 1回あたりの時間を計測せよ\n",
        "* これは概ね, fork + exec + exit + wait の時間 (プログラムを起動して終了するまでにかかる最小の時間)を計測していることに相当する\n",
        "* 正しく動いているかを確認するために, do_nothingで何かをprintするとか, time_fork_exec_wait中でwaitpidの結果を表示するようにせよ\n",
        "* 時間を計測するときはそれらの表示を消すこと(消さないと, 測っているのは出力時間が大半を占めることになる)"
      ]
    },
    {
      "cell_type": "code",
      "metadata": {
        "kernel": "Bash",
        "nbgrader": {
          "grade": true,
          "grade_id": "p-005",
          "locked": false,
          "schema_version": 3,
          "solution": true,
          "task": false,
          "points": 1
        }
      },
      "source": [
        "BEGIN SOLUTION\n",
        "END SOLUTION\n",
        "python3 time_fork_exec_wait.py 10"
      ],
      "execution_count": null,
      "outputs": []
    },
    {
      "cell_type": "code",
      "metadata": {
        "kernel": "Bash",
        "nbgrader": {
          "grade": false,
          "grade_id": "c-069",
          "locked": false,
          "schema_version": 3,
          "solution": false,
          "task": false
        }
      },
      "source": [
        "python3 time_fork_exec_wait_ans.py 10"
      ],
      "execution_count": null,
      "outputs": []
    },
    {
      "cell_type": "markdown",
      "metadata": {
        "kernel": "SoS",
        "nbgrader": {
          "grade": false,
          "grade_id": "c-070",
          "locked": true,
          "schema_version": 3,
          "solution": false,
          "task": false
        }
      },
      "source": [
        "# <font color=\"green\"> Problem 2 :  fork + waitの測定</font>",
        "\n",
        "* 子プロセスが do_nothing を exec する代わりに, 直ちにexit した場合の時間(fork + wait の時間)も計測せよ\n",
        "\n",
        "## 7-5. C"
      ]
    },
    {
      "cell_type": "code",
      "metadata": {
        "kernel": "Python 3 (ipykernel)",
        "nbgrader": {
          "grade": true,
          "grade_id": "p-006",
          "locked": false,
          "schema_version": 3,
          "solution": true,
          "task": false,
          "points": 1
        }
      },
      "source": [
        "BEGIN SOLUTION\n",
        "END SOLUTION\n",
        "%%writefile time_fork_exit_wait.c\n",
        "#include <err.h>\n",
        "#include <stdio.h>\n",
        "#include <stdlib.h>\n",
        "#include <unistd.h>\n",
        "#include <time.h>\n",
        "#include <sys/types.h>\n",
        "#include <sys/wait.h>\n",
        "\n",
        "long cur_time() {\n",
        "  struct timespec ts[1];\n",
        "  clock_gettime(CLOCK_REALTIME, ts);\n",
        "  return ts->tv_sec * 1000000000L + ts->tv_nsec;\n",
        "}\n",
        "\n",
        "int main(int argc, char ** argv) {\n",
        "  int n = (argc > 1 ? atoi(argv[1]) : 5);\n",
        "  long t0 = cur_time();\n",
        "\n",
        "  \n",
        "  ここにプログラムを書く\n",
        "\n",
        "  \n",
        "  long t1 = cur_time();\n",
        "  long dt = t1 - t0;\n",
        "  printf(\"%ld nsec to fork-wait %d processes (%ld nsec/proc)\\n\",\n",
        "         dt, n, dt / n);\n",
        "  return 0;\n",
        "}"
      ],
      "execution_count": null,
      "outputs": []
    },
    {
      "cell_type": "code",
      "metadata": {
        "kernel": "Bash",
        "nbgrader": {
          "grade": true,
          "grade_id": "p-007",
          "locked": false,
          "schema_version": 3,
          "solution": true,
          "task": false,
          "points": 1
        }
      },
      "source": [
        "BEGIN SOLUTION\n",
        "END SOLUTION\n",
        "gcc -Wall time_fork_exit_wait.c -o time_fork_exit_wait"
      ],
      "execution_count": null,
      "outputs": []
    },
    {
      "cell_type": "code",
      "metadata": {
        "kernel": "Bash",
        "nbgrader": {
          "grade": true,
          "grade_id": "p-008",
          "locked": false,
          "schema_version": 3,
          "solution": true,
          "task": false,
          "points": 1
        }
      },
      "source": [
        "BEGIN SOLUTION\n",
        "END SOLUTION\n",
        "./time_fork_exit_wait 10"
      ],
      "execution_count": null,
      "outputs": []
    },
    {
      "cell_type": "code",
      "metadata": {
        "kernel": "Python 3 (ipykernel)",
        "nbgrader": {
          "grade": false,
          "grade_id": "c-071",
          "locked": false,
          "schema_version": 3,
          "solution": false,
          "task": false
        }
      },
      "source": [
        "%%writefile time_fork_exit_wait_ans.c\n",
        "#include <err.h>\n",
        "#include <stdio.h>\n",
        "#include <stdlib.h>\n",
        "#include <unistd.h>\n",
        "#include <time.h>\n",
        "#include <sys/types.h>\n",
        "#include <sys/wait.h>\n",
        "\n",
        "long cur_time() {\n",
        "  struct timespec ts[1];\n",
        "  clock_gettime(CLOCK_REALTIME, ts);\n",
        "  return ts->tv_sec * 1000000000L + ts->tv_nsec;\n",
        "}\n",
        "\n",
        "int main(int argc, char ** argv) {\n",
        "  int n = (argc > 1 ? atoi(argv[1]) : 5);\n",
        "  long t0 = cur_time();\n",
        "  for (int i = 0; i < n; i++) {\n",
        "    pid_t pid = fork();           /* 現プロセスをコピー */\n",
        "    if (pid == -1) {\n",
        "      err(1, \"fork\");\n",
        "    } else if (pid == 0) {        /* 新しいプロセス(子プロセス) */\n",
        "      exit(0);\n",
        "    } else {\n",
        "      int ws;\n",
        "      pid_t cid = waitpid(pid, &ws, 0);\n",
        "      if (cid == -1) err(1, \"waitpid\");\n",
        "    }\n",
        "  }\n",
        "  long t1 = cur_time();\n",
        "  long dt = t1 - t0;\n",
        "  printf(\"%ld nsec to fork-wait %d processes (%ld nsec/proc)\\n\",\n",
        "         dt, n, dt / n);\n",
        "  return 0;\n",
        "}"
      ],
      "execution_count": null,
      "outputs": []
    },
    {
      "cell_type": "code",
      "metadata": {
        "kernel": "Bash",
        "nbgrader": {
          "grade": false,
          "grade_id": "c-072",
          "locked": false,
          "schema_version": 3,
          "solution": false,
          "task": false
        }
      },
      "source": [
        "gcc -Wall time_fork_exit_wait_ans.c -o time_fork_exit_wait_ans"
      ],
      "execution_count": null,
      "outputs": []
    },
    {
      "cell_type": "code",
      "metadata": {
        "kernel": "Bash",
        "nbgrader": {
          "grade": false,
          "grade_id": "c-073",
          "locked": false,
          "schema_version": 3,
          "solution": false,
          "task": false
        }
      },
      "source": [
        "./time_fork_exit_wait_ans 10"
      ],
      "execution_count": null,
      "outputs": []
    },
    {
      "cell_type": "markdown",
      "metadata": {
        "kernel": "SoS",
        "nbgrader": {
          "grade": false,
          "grade_id": "c-074",
          "locked": true,
          "schema_version": 3,
          "solution": false,
          "task": false
        }
      },
      "source": [
        "## 7-6. Python"
      ]
    },
    {
      "cell_type": "code",
      "metadata": {
        "kernel": "Python 3 (ipykernel)",
        "nbgrader": {
          "grade": true,
          "grade_id": "p-009",
          "locked": false,
          "schema_version": 3,
          "solution": true,
          "task": false,
          "points": 1
        }
      },
      "source": [
        "BEGIN SOLUTION\n",
        "END SOLUTION\n",
        "%%writefile time_fork_exit_wait.py\n",
        "import os\n",
        "import sys\n",
        "import time\n",
        "\n",
        "def cur_time():\n",
        "    return int(time.time() * 1.0e9)\n",
        "\n",
        "def main():\n",
        "    n = int(sys.argv[1]) if 1 < len(sys.argv) else 5\n",
        "    t0 = cur_time()\n",
        "\n",
        "  \n",
        "    ここにプログラムを書く\n",
        "\n",
        "  \n",
        "    t1 = cur_time()\n",
        "    dt = t1 - t0\n",
        "    print(f\"{dt} nsec to fork-wait {n} processes ({dt / n} nsec/proc)\")\n",
        "\n",
        "main()"
      ],
      "execution_count": null,
      "outputs": []
    },
    {
      "cell_type": "code",
      "metadata": {
        "kernel": "Bash",
        "nbgrader": {
          "grade": true,
          "grade_id": "p-010",
          "locked": false,
          "schema_version": 3,
          "solution": true,
          "task": false,
          "points": 1
        }
      },
      "source": [
        "BEGIN SOLUTION\n",
        "END SOLUTION\n",
        "python3 time_fork_exit_wait.py 10"
      ],
      "execution_count": null,
      "outputs": []
    },
    {
      "cell_type": "code",
      "metadata": {
        "kernel": "Python 3 (ipykernel)",
        "nbgrader": {
          "grade": false,
          "grade_id": "c-075",
          "locked": false,
          "schema_version": 3,
          "solution": false,
          "task": false
        }
      },
      "source": [
        "%%writefile time_fork_exit_wait_ans.py\n",
        "import os\n",
        "import sys\n",
        "import time\n",
        "\n",
        "def cur_time():\n",
        "    return int(time.time() * 1.0e9)\n",
        "\n",
        "def main():\n",
        "    n = int(sys.argv[1]) if 1 < len(sys.argv) else 5\n",
        "    t0 = cur_time()\n",
        "    for i in range(n):\n",
        "        pid = os.fork()             # 現プロセスをコピー\n",
        "        if pid == 0:                #  新しいプロセス(子プロセス)\n",
        "            os._exit(0)\n",
        "        else:\n",
        "            cid, ws = os.waitpid(pid, 0)\n",
        "    t1 = cur_time()\n",
        "    dt = t1 - t0\n",
        "    print(f\"{dt} nsec to fork-wait {n} processes ({dt / n} nsec/proc)\")\n",
        "\n",
        "main()"
      ],
      "execution_count": null,
      "outputs": []
    },
    {
      "cell_type": "code",
      "metadata": {
        "kernel": "Bash",
        "nbgrader": {
          "grade": false,
          "grade_id": "c-076",
          "locked": false,
          "schema_version": 3,
          "solution": false,
          "task": false
        }
      },
      "source": [
        "python3 time_fork_exit_wait_ans.py 10"
      ],
      "execution_count": null,
      "outputs": []
    }
  ],
  "metadata": {
    "celltoolbar": "Create Assignment",
    "kernelspec": {
      "display_name": "SoS",
      "language": "sos",
      "name": "sos"
    },
    "language_info": {
      "codemirror_mode": "sos",
      "file_extension": ".sos",
      "mimetype": "text/x-sos",
      "name": "sos",
      "nbconvert_exporter": "sos_notebook.converter.SoS_Exporter",
      "pygments_lexer": "sos"
    },
    "sos": {
      "kernels": [
        [
          "Bash",
          "bash",
          "bash",
          "",
          "shell"
        ],
        [
          "C",
          "c_kernel",
          "c",
          "",
          ""
        ],
        [
          "Go",
          "gophernotes",
          "go",
          "",
          ""
        ],
        [
          "Julia 1.10.2",
          "julia-1.10",
          "julia",
          "",
          ""
        ],
        [
          "OCaml default",
          "ocaml-jupyter",
          "OCaml",
          "",
          "text/x-ocaml"
        ],
        [
          "Python 3 (ipykernel)",
          "python3",
          "python3",
          "",
          {
            "name": "ipython",
            "version": 3
          }
        ],
        [
          "Rust",
          "rust",
          "rust",
          "",
          ""
        ]
      ],
      "panel": {
        "displayed": true,
        "height": 0
      },
      "version": "0.23.3"
    }
  },
  "nbformat": 4,
  "nbformat_minor": 4
}