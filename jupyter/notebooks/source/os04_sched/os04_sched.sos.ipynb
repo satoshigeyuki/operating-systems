{
 "cells": [
  {
   "cell_type": "markdown",
   "metadata": {
    "kernel": "SoS",
    "nbgrader": {
     "grade": false,
     "grade_id": "c-001",
     "locked": true,
     "schema_version": 3,
     "solution": false,
     "task": false
    }
   },
   "source": [
    "\n",
    "#  オペレーティングシステム 演習 04\n",
    "#  スケジューリング"
   ]
  },
  {
   "cell_type": "markdown",
   "metadata": {
    "kernel": "SoS",
    "nbgrader": {
     "grade": false,
     "grade_id": "c-002",
     "locked": false,
     "schema_version": 3,
     "solution": false,
     "task": false
    }
   },
   "source": [
    "\n",
    "名前と学生証番号を書け. Enter your name and student ID.\n",
    "\n",
    " * 名前 Name:\n",
    " * 学生証番号 Student ID:\n"
   ]
  },
  {
   "cell_type": "markdown",
   "metadata": {
    "kernel": "SoS",
    "nbgrader": {
     "grade": false,
     "grade_id": "c-003",
     "locked": true,
     "schema_version": 3,
     "solution": false,
     "task": false
    }
   },
   "source": [
    "# 1. スケジューリングの記録と可視化"
   ]
  },
  {
   "cell_type": "markdown",
   "metadata": {
    "kernel": "SoS",
    "nbgrader": {
     "grade": false,
     "grade_id": "c-004",
     "locked": true,
     "schema_version": 3,
     "solution": false,
     "task": false
    }
   },
   "source": [
    "\n",
    "* スレッド(プロセス)が脇目もふらず実行をしているつもりでも, そのようなスレッドが(仮想)コア数以上あれば, それらすべてのスレッドが, 同時に実行されているはずはない. \n",
    "* OSは, 時折スレッドをCPUコア上で切り替えながら実行しているはずである. その様子を観測する実験をしてみよう."
   ]
  },
  {
   "cell_type": "markdown",
   "metadata": {
    "kernel": "SoS",
    "nbgrader": {
     "grade": false,
     "grade_id": "c-005",
     "locked": true,
     "schema_version": 3,
     "solution": false,
     "task": false
    }
   },
   "source": [
    "\n",
    "以下のプログラムは擬似コードで書けば以下のようなことをしている\n",
    "\n",
    "```\n",
    " 1: int main() {\n",
    " 2:   t = 現在時刻();\n",
    " 3:   while (10秒たつか記録する配列があふれるまで) {\n",
    " 4:     t' = 現在時刻();\n",
    " 5:     t'と, 最後に見た現在時刻(t)を比べる;\n",
    " 6:     tとt'の差が非常に小さければ, 自分はtからt'までCPUが割り当てられていた,\n",
    " 7:     そうでなければ, tからt'まで自分は走っていなかった\n",
    " 8:     (CPUが他のスレッドに割り当てられていた)と考える;\n",
    " 9:     t = t';\n",
    "10:   }\n",
    "11:   CPUが自分に割り当てられていたと考えられる時間帯を表示する;\n",
    "12: }\n",
    "```\n",
    "\n",
    "* スレッドは実質的に時計を見る以外のことをせずにひたすら走り続けている\n",
    "* したがってほんとんどの時, tとt'の差は小さいのだが稀に, そうでないことがある\n",
    "* それはおそらくその間他のスレッドにCPUが割り当てられており自分はその時間帯OSによって止められていた場合に生ずる\n"
   ]
  },
  {
   "cell_type": "markdown",
   "metadata": {
    "kernel": "SoS",
    "nbgrader": {
     "grade": false,
     "grade_id": "c-006",
     "locked": true,
     "schema_version": 3,
     "solution": false,
     "task": false
    }
   },
   "source": [
    "\n",
    "* 以下が実際のCコード\n"
   ]
  },
  {
   "cell_type": "code",
   "execution_count": null,
   "metadata": {
    "kernel": "Python 3 (ipykernel)",
    "nbgrader": {
     "grade": false,
     "grade_id": "c-007",
     "locked": false,
     "schema_version": 3,
     "solution": false,
     "task": false
    }
   },
   "outputs": [],
   "source": [
    "%%writefile sched_rec.c\n",
    "#define _GNU_SOURCE\n",
    "#include <assert.h>\n",
    "#include <sched.h>\n",
    "#include <sys/time.h>\n",
    "#include <stdio.h>\n",
    "#include <stdlib.h>\n",
    "#include <unistd.h>\n",
    "\n",
    "\n",
    "/* 時刻 begin -- end まで proc 上で動いていた記録 */\n",
    "typedef struct {\n",
    "  double begin;\n",
    "  double end;\n",
    "  int proc;\n",
    "} rec_t;\n",
    "\n",
    "/* 現在時刻を得る */\n",
    "double cur_time() {\n",
    "  struct timeval tp[1];\n",
    "  gettimeofday(tp, 0);\n",
    "  return tp->tv_sec + tp->tv_usec * 1.0E-6;\n",
    "}\n",
    "\n",
    "/* T秒間走り続け, CPUが割り当てられていたと思しき時間帯を記録する */\n",
    "int run(double T, int n) {\n",
    "  pid_t pid = getpid();\n",
    "  double limit = cur_time() + T;\n",
    "  rec_t * R = (rec_t *)calloc(n, sizeof(rec_t));\n",
    "  int i = 0;\n",
    "  R[i].begin = R[i].end = cur_time();\n",
    "  R[i].proc = sched_getcpu();\n",
    "\n",
    "  while (R[i].end < limit && i < n) {\n",
    "    double t = cur_time(); /* 現在時刻を得る */\n",
    "    int proc = sched_getcpu();\n",
    "    if (t - R[i].end < 1.0E-3 && proc == R[i].proc) {\n",
    "      /* 最後に見た時刻とあまり変わらない(< 1ms) -> R[i].endを増やす */\n",
    "      R[i].end = t;\n",
    "    } else {\n",
    "      /* 最後に見た時刻から1ms以上たっている -> 新しい区間に入る */\n",
    "      if (i + 1 >= n) break;\n",
    "      i++;\n",
    "      R[i].proc = proc;\n",
    "      R[i].begin = R[i].end = cur_time();\n",
    "    }\n",
    "  }\n",
    "  assert(i < n);\n",
    "  int j;\n",
    "  for (j = 0; j <= i; j++) {\n",
    "    printf(\"%d %f %f %d %f\\n\", \n",
    "           pid, R[j].begin, R[j].end, R[j].proc,\n",
    "           R[j].end - R[j].begin);\n",
    "  }\n",
    "  return 0;\n",
    "}\n",
    "\n",
    "\n",
    "int main(int argc, char ** argv) {\n",
    "  double T = (argc > 1 ? atof(argv[1]) : 10.0);\n",
    "  int n    = (argc > 2 ? atoi(argv[2]) : 100000);\n",
    "\n",
    "  run(T, n);\n",
    "  return 0;\n",
    "}"
   ]
  },
  {
   "cell_type": "code",
   "execution_count": null,
   "metadata": {
    "kernel": "Bash",
    "nbgrader": {
     "grade": false,
     "grade_id": "c-008",
     "locked": false,
     "schema_version": 3,
     "solution": false,
     "task": false
    }
   },
   "outputs": [],
   "source": [
    "gcc -Wall -o sched_rec sched_rec.c"
   ]
  },
  {
   "cell_type": "markdown",
   "metadata": {
    "kernel": "SoS",
    "nbgrader": {
     "grade": false,
     "grade_id": "c-009",
     "locked": true,
     "schema_version": 3,
     "solution": false,
     "task": false
    }
   },
   "source": [
    "\n",
    "* 以下は1秒ほど, 単独で走らせてみる例\n",
    "* 1行の読み方は以下\n",
    "```\n",
    "プロセスID  区間開始時刻  区間終了時刻  CPU番号 区間の長さ\n",
    "```\n",
    "* なお, Jupyterのbash kernelのバグによって出力が出ない場合があるかもしれない(経験上, 最初の一回がそうなることが多い). そういうときは何度か実行してみてください\n"
   ]
  },
  {
   "cell_type": "code",
   "execution_count": null,
   "metadata": {
    "kernel": "Bash",
    "nbgrader": {
     "grade": false,
     "grade_id": "c-010",
     "locked": false,
     "schema_version": 3,
     "solution": false,
     "task": false
    }
   },
   "outputs": [],
   "source": [
    "./sched_rec 1"
   ]
  },
  {
   "cell_type": "markdown",
   "metadata": {
    "kernel": "SoS",
    "nbgrader": {
     "grade": false,
     "grade_id": "c-011",
     "locked": true,
     "schema_version": 3,
     "solution": false,
     "task": false
    }
   },
   "source": [
    "\n",
    "* 各行はひとつの, 連続してOSにCPUを与えられていた時間(区間)を表している\n",
    "* もし上記の結果が1行しか表示されなければそれは, 約1秒間, まったく(正確には1ms以上連続して)他のスレッドにCPUを奪われずに走っていたということになる(最後の行がほぼ1秒であることを確認せよ)\n",
    "* 2行以上に渡った場合, ある区間の終了時刻と次の区間の開始時刻の差を観察してみよ(最後の行を合計するとほぼ1秒になることを確認せよ)\n"
   ]
  },
  {
   "cell_type": "markdown",
   "metadata": {
    "kernel": "SoS",
    "nbgrader": {
     "grade": false,
     "grade_id": "c-012",
     "locked": true,
     "schema_version": 3,
     "solution": false,
     "task": false
    }
   },
   "source": [
    "\n",
    "* 以下ではこのプロセスを複数同時に走らせると何が起きるかを観察, 可視化する\n",
    "* その前に以下で, このJupyter環境(をホストしてるマシン)にいくつのCPU (正確には仮想コア)がつまれているかを見てみる\n"
   ]
  },
  {
   "cell_type": "code",
   "execution_count": null,
   "metadata": {
    "kernel": "Bash",
    "nbgrader": {
     "grade": false,
     "grade_id": "c-013",
     "locked": false,
     "schema_version": 3,
     "solution": false,
     "task": false
    }
   },
   "outputs": [],
   "source": [
    "lscpu"
   ]
  },
  {
   "cell_type": "markdown",
   "metadata": {
    "kernel": "SoS",
    "nbgrader": {
     "grade": false,
     "grade_id": "c-014",
     "locked": true,
     "schema_version": 3,
     "solution": false,
     "task": false
    }
   },
   "source": [
    "\n",
    "* 以下はシェルスクリプトで同時に4個, 3秒間このプロセスを走らせ, 結果はファイル sched.0, sched.1, sched.2, sched.3 に記録したもの\n"
   ]
  },
  {
   "cell_type": "code",
   "execution_count": null,
   "metadata": {
    "kernel": "Bash",
    "nbgrader": {
     "grade": false,
     "grade_id": "c-015",
     "locked": false,
     "schema_version": 3,
     "solution": false,
     "task": false
    }
   },
   "outputs": [],
   "source": [
    "./sched_rec 3 > sched.0 | ./sched_rec 3 > sched.1 | ./sched_rec 3 > sched.2 | ./sched_rec 3 > sched.3"
   ]
  },
  {
   "cell_type": "markdown",
   "metadata": {
    "kernel": "SoS",
    "nbgrader": {
     "grade": false,
     "grade_id": "c-016",
     "locked": true,
     "schema_version": 3,
     "solution": false,
     "task": false
    }
   },
   "source": [
    "\n",
    "# 2. スケジューリングの可視化\n",
    "* sched_vis は sched_rec の結果を可視化する関数\n",
    "* 同時に結果は sched.svg という画像ファイルに保存される\n"
   ]
  },
  {
   "cell_type": "code",
   "execution_count": null,
   "metadata": {
    "kernel": "Python 3 (ipykernel)",
    "nbgrader": {
     "grade": false,
     "grade_id": "c-017",
     "locked": false,
     "schema_version": 3,
     "solution": false,
     "task": false
    }
   },
   "outputs": [],
   "source": [
    "#!/usr/bin/python3\n",
    "import matplotlib.collections as mc\n",
    "import matplotlib.pyplot as plt\n",
    "\n",
    "def read_dats(files):\n",
    "    sched = {}\n",
    "    for f in files:\n",
    "        with open(f) as fp:\n",
    "            for line in fp:\n",
    "                fields = line.strip().split()\n",
    "                [ pid,a,b,proc,dt ] = fields\n",
    "                pid = int(pid)\n",
    "                a = float(a)\n",
    "                b = float(b)\n",
    "                proc = int(proc)\n",
    "                if pid not in sched:\n",
    "                    sched[pid] = []\n",
    "                sched[pid].append((a, b, proc))\n",
    "    return sched\n",
    "\n",
    "def sched_vis(files, start_t=0, end_t=float(\"inf\")):\n",
    "    '''\n",
    "    files : sched_rec の結果が入ったファイル名のリスト \n",
    "            (例: [ \"rec.0\", \"rec.1\", .. ])\n",
    "    start_t, end_t : その中で可視化したい区間の開始と終了\n",
    "            (結果の中の一番早い時点を0として指定. 例えば\n",
    "             begin_t=1, end_t=3, は開始から1秒目〜3秒目の\n",
    "             2秒間を可視化する)\n",
    "    '''\n",
    "    log = read_dats(files)\n",
    "    T0 = min(min(a for a, _, _ in T)  for T in log.values())\n",
    "    n_procs = max(max(p for _, _, p in T) for T in log.values()) + 1\n",
    "    # cmap = plt.cm.get_cmap('RdYlGn', n_procs)\n",
    "    cmap = plt.get_cmap('RdYlGn', n_procs)\n",
    "    segs = []\n",
    "    cols = []\n",
    "    fig, ax = plt.subplots()\n",
    "    for i,(pid,T) in enumerate(sorted(log.items())):\n",
    "        T.sort()\n",
    "        for a,b,proc in T:\n",
    "            t0 = max(a - T0, start_t)\n",
    "            t1 = min(b - T0, end_t)\n",
    "            if t0 >= t1:\n",
    "                continue\n",
    "            rect = plt.Rectangle((a - T0, i), b - a, 1, fc=cmap(proc))\n",
    "            ax.add_patch(rect)\n",
    "    ax.autoscale()\n",
    "    plt.title(\"thread scheduling\")\n",
    "    plt.xlabel(\"time\")\n",
    "    plt.ylabel(\"thread\")\n",
    "    plt.ylim(0, len(log))\n",
    "    plt.savefig(\"sched.svg\")\n",
    "    plt.show()"
   ]
  },
  {
   "cell_type": "markdown",
   "metadata": {
    "kernel": "SoS",
    "nbgrader": {
     "grade": false,
     "grade_id": "c-018",
     "locked": true,
     "schema_version": 3,
     "solution": false,
     "task": false
    }
   },
   "source": [
    "* 以下で実際に可視化\n",
    "* 以下は sched.0, sched.1, sched.2, sched.3 の4つのファイルを可視化する\n",
    "* start_t, end_tを指定すれば可視化の開始時刻と終了時刻を指定できる(start_t=None, end_t=Noneにすると, それぞれファイル中に含まれる最小, 最大の時刻という意味)"
   ]
  },
  {
   "cell_type": "code",
   "execution_count": null,
   "metadata": {
    "kernel": "Python 3 (ipykernel)",
    "nbgrader": {
     "grade": false,
     "grade_id": "c-019",
     "locked": false,
     "schema_version": 3,
     "solution": false,
     "task": false
    }
   },
   "outputs": [],
   "source": [
    "sched_vis([\"sched.{}\".format(i) for i in range(4)])\n",
    "#sched_vis([\"sched.{}\".format(i) for i in range(4)], start_t=1.0, end_t=1.5)"
   ]
  },
  {
   "cell_type": "markdown",
   "metadata": {
    "kernel": "SoS",
    "nbgrader": {
     "grade": false,
     "grade_id": "c-020",
     "locked": true,
     "schema_version": 3,
     "solution": false,
     "task": false
    }
   },
   "source": [
    "\n",
    "* 本題は, プロセスをさらに増やしたらどうなるかということ\n",
    "* 上記の書き方で複数同時に走らせるのはタイプ量の限界を超えるので, シェルスクリプトのループを使う\n",
    "* 以下は8個のプロセスを3秒間走らせる\n",
    "* 記録はsched.0 ... sched.7 に記録される"
   ]
  },
  {
   "cell_type": "code",
   "execution_count": null,
   "metadata": {
    "kernel": "Bash",
    "nbgrader": {
     "grade": false,
     "grade_id": "c-021",
     "locked": false,
     "schema_version": 3,
     "solution": false,
     "task": false
    }
   },
   "outputs": [],
   "source": [
    "for i in $(seq 0 7); do\n",
    "  taskset -c 0-3 ./sched_rec 3 > sched.${i} &\n",
    "done\n",
    "wait"
   ]
  },
  {
   "cell_type": "markdown",
   "metadata": {
    "kernel": "SoS",
    "nbgrader": {
     "grade": false,
     "grade_id": "c-022",
     "locked": true,
     "schema_version": 3,
     "solution": false,
     "task": false
    }
   },
   "source": [
    "\n",
    "* <font color=\"blue\">実行し終えたら再び, 可視化せよ</font>\n"
   ]
  },
  {
   "cell_type": "code",
   "execution_count": null,
   "metadata": {
    "kernel": "Python 3 (ipykernel)",
    "nbgrader": {
     "grade": false,
     "grade_id": "c-023",
     "locked": false,
     "schema_version": 3,
     "solution": false,
     "task": false
    }
   },
   "outputs": [],
   "source": [
    "sched_vis([\"sched.{}\".format(i) for i in range(8)])\n",
    "#sched_vis([\"sched.{}\".format(i) for i in range(8)], start_t=1.0, end_t=1.5)"
   ]
  },
  {
   "cell_type": "markdown",
   "metadata": {
    "kernel": "SoS",
    "nbgrader": {
     "grade": false,
     "grade_id": "c-024",
     "locked": true,
     "schema_version": 3,
     "solution": false,
     "task": false
    }
   },
   "source": [
    "* sched.svg というファイルが生成されているのでそれを開いて, 適宜拡大表示してみよ"
   ]
  },
  {
   "cell_type": "markdown",
   "metadata": {
    "kernel": "SoS",
    "nbgrader": {
     "grade": false,
     "grade_id": "c-025",
     "locked": true,
     "schema_version": 3,
     "solution": false,
     "task": false
    }
   },
   "source": [
    "\n",
    "* 上記の taskset コマンドはプロセスを特定のCPUでしか実行できないようにするコマンド(man参照)\n",
    "```\n",
    "taskset -c 0-3 ./sched_rec 3\n",
    "```\n",
    "はCPU 0 ... 3 を使えということ. <font color=\"blue\">tasksetの引数を変えて結果の違いを観察せよ</font>\n",
    "* プロセス数を 使うCPU数より少し少ないあたりから, 使うCPU数x2くらいまで, <font color=\"blue\">色々変えて結果の違いを観察せよ</font>\n"
   ]
  },
  {
   "cell_type": "markdown",
   "metadata": {
    "kernel": "SoS",
    "nbgrader": {
     "grade": false,
     "grade_id": "c-026",
     "locked": true,
     "schema_version": 3,
     "solution": false,
     "task": false
    }
   },
   "source": [
    "\n",
    "* 注: 大勢で同じ環境を共有しているので, 複数の人が同時に同じ実験をすると自分は少数のプロセスしか立ち上げていなくても, 他の人のプロセスにCPUを奪われているかも知れない\n",
    "* それ以外にもこのJupyterノートブック自身の処理やWebサーバの処理も行われるのでそれらにCPUを奪われることもある\n",
    "* 従って, 同じ設定で実験しても結果は毎回同じとは限らない\n",
    "* 自分だけの環境で走らせると結果の予測はしやすい\n"
   ]
  },
  {
   "cell_type": "markdown",
   "metadata": {
    "kernel": "SoS",
    "nbgrader": {
     "grade": false,
     "grade_id": "c-027",
     "locked": true,
     "schema_version": 3,
     "solution": false,
     "task": false
    }
   },
   "source": [
    "## 2-1. PythonでもCでも同じ\n",
    "* プログラムがどの言語で書かれていてもOSがやることは同じであることを見せておく\n",
    "* sched_rec.c と同じことをする Python プログラム\n"
   ]
  },
  {
   "cell_type": "code",
   "execution_count": null,
   "metadata": {
    "kernel": "Python 3 (ipykernel)",
    "nbgrader": {
     "grade": false,
     "grade_id": "c-028",
     "locked": false,
     "schema_version": 3,
     "solution": false,
     "task": false
    }
   },
   "outputs": [],
   "source": [
    "%%writefile sched_rec.py\n",
    "import os\n",
    "import time\n",
    "import sys\n",
    "\n",
    "# Structure to store the time period and the CPU it ran on\n",
    "class Rec:\n",
    "    def __init__(self, begin, end, proc):\n",
    "        self.begin = begin\n",
    "        self.end = end\n",
    "        self.proc = proc\n",
    "\n",
    "# Get the current time\n",
    "def cur_time():\n",
    "    return time.time()\n",
    "\n",
    "def get_current_cpu():\n",
    "    with open(\"/proc/self/stat\", \"r\") as f:\n",
    "        stat = f.read().split()\n",
    "        return int(stat[38])  # 39th field in /proc/self/stat is the CPU number\n",
    "\n",
    "# Function that simulates continuous running for T seconds and records the CPU it ran on\n",
    "def run(T, n):\n",
    "    pid = os.getpid()  # Get process ID\n",
    "    limit = cur_time() + T\n",
    "    records = [Rec(cur_time(), cur_time(), get_current_cpu()) for _ in range(n)]\n",
    "    i = 0\n",
    "    records[i].begin = records[i].end = cur_time()\n",
    "\n",
    "    while records[i].end < limit and i < n:\n",
    "        t = cur_time()\n",
    "        proc = get_current_cpu()  # Simulate sched_getcpu with affinity\n",
    "        if t - records[i].end < 1.0E-3 and proc == records[i].proc:\n",
    "            records[i].end = t\n",
    "        else:\n",
    "            if i + 1 >= n:\n",
    "                break\n",
    "            i += 1\n",
    "            records[i].proc = proc\n",
    "            records[i].begin = records[i].end = cur_time()\n",
    "    assert i < n\n",
    "    for j in range(i + 1):\n",
    "        print(f'{pid} {records[j].begin:.6f} {records[j].end:.6f} {records[j].proc} {records[j].end - records[j].begin:.6f}')\n",
    "    return 0\n",
    "\n",
    "def main():\n",
    "    # Get command line arguments\n",
    "    T = float(sys.argv[1]) if len(sys.argv) > 1 else 10.0\n",
    "    n = int(sys.argv[2]) if len(sys.argv) > 2 else 100000\n",
    "    run(T, n)\n",
    "\n",
    "if __name__ == \"__main__\":\n",
    "    main()"
   ]
  },
  {
   "cell_type": "markdown",
   "metadata": {
    "kernel": "SoS",
    "nbgrader": {
     "grade": false,
     "grade_id": "c-029",
     "locked": true,
     "schema_version": 3,
     "solution": false,
     "task": false
    }
   },
   "source": [
    "* 上記と同様, 8 プロセスを4 仮想コア上で走らせる例"
   ]
  },
  {
   "cell_type": "code",
   "execution_count": null,
   "metadata": {
    "kernel": "Bash",
    "nbgrader": {
     "grade": false,
     "grade_id": "c-030",
     "locked": false,
     "schema_version": 3,
     "solution": false,
     "task": false
    }
   },
   "outputs": [],
   "source": [
    "for i in $(seq 0 7); do\n",
    "  taskset -c 0-3 python3 sched_rec.py 3 > sched.${i} &\n",
    "done\n",
    "wait"
   ]
  },
  {
   "cell_type": "markdown",
   "metadata": {
    "kernel": "SoS",
    "nbgrader": {
     "grade": false,
     "grade_id": "c-031",
     "locked": true,
     "schema_version": 3,
     "solution": false,
     "task": false
    }
   },
   "source": [
    "\n",
    "* 可視化\n"
   ]
  },
  {
   "cell_type": "code",
   "execution_count": null,
   "metadata": {
    "kernel": "Python 3 (ipykernel)",
    "nbgrader": {
     "grade": false,
     "grade_id": "c-032",
     "locked": false,
     "schema_version": 3,
     "solution": false,
     "task": false
    }
   },
   "outputs": [],
   "source": [
    "sched_vis([\"sched.{}\".format(i) for i in range(8)])\n",
    "#sched_vis([\"sched.{}\".format(i) for i in range(8)], start_t=1.0, end_t=1.5)"
   ]
  },
  {
   "cell_type": "markdown",
   "metadata": {
    "kernel": "SoS",
    "nbgrader": {
     "grade": false,
     "grade_id": "c-033",
     "locked": true,
     "schema_version": 3,
     "solution": false,
     "task": false
    }
   },
   "source": [
    "# 3. Linux CFSスケジューラ"
   ]
  },
  {
   "cell_type": "markdown",
   "metadata": {
    "kernel": "SoS",
    "nbgrader": {
     "grade": false,
     "grade_id": "c-034",
     "locked": true,
     "schema_version": 3,
     "solution": false,
     "task": false
    }
   },
   "source": [
    "\n",
    "* OSによるスケジューリングの基本\n",
    "  * 中断しているスレッドと実行可能なスレッドを区別する\n",
    "  * 実行可能なスレッドに公平にCPU時間を割り当てる\n",
    "\n",
    "* 公平にCPU時間を割り当てる方法は色々あるがLinux のデフォルトスケジューラである, Complete Fair Scheduler (CFS) はCPUの利用時間累計を記録して, スレッド切り替え(実行中スレッドが中断した, 中断中スレッドが復帰した, タイマ割り込みがおきたなど)のタイミングで, それが最も少ないものに割り当てるという自然なもの\n",
    "* CFSではCPUの利用時間累計を, スレッドごとに vruntime という変数を割り当てて管理してる. すなわち使ったCPU時間だけvruntimeを加算し, 次に実行するスレッドを選ぶときにvruntime最小のスレッドにCPU時間を割り当てるのがCFSの基本である\n",
    "* しかしvruntimeに文字通りのCPU利用時間累計を記録していくと, 生まれたばかりのスレッドはvruntime=0, また, ほとんどCPUを使わずにずっと中断していたスレッドも vruntime $\\approx$ 0ということになり, それらのスレッドが急に計算を始めると, それらに長時間CPUが連続して割り当てられる(すでにCPUを10秒消費しているスレッドには10秒間順番がまわってこない)ということになりかねない\n",
    "* したがってvruntimeは以下のような管理がなされる\n",
    "\n",
    "1. 親スレッドAが子スレッドBを生成した時, BはAのvruntimeを引き継ぐ (プロセスの場合も同様)\n",
    "   Bのvruntime = Aのvruntime\n",
    "2. 実行中のスレッドAから別のスレッドBに実行が切り替わる(コンテクストスイッチ)時\n",
    "   Aのvruntime += Aが今回消費した時間\n",
    "3. 中断中のスレッドAが復帰する時\n",
    "   Aのvruntime += max(Aのvruntime, min { tのvruntime | t : 実行可能なスレッド})\n"
   ]
  },
  {
   "cell_type": "markdown",
   "metadata": {
    "kernel": "SoS",
    "nbgrader": {
     "grade": false,
     "grade_id": "c-035",
     "locked": true,
     "schema_version": 3,
     "solution": false,
     "task": false
    }
   },
   "source": [
    "\n",
    "# 4. Vruntime の記録と可視化\n",
    "* 以下のプログラムはvruntimeをずっと観測し続け, 時間とともにどう変化したかを記録する\n",
    "* 以下が実際のCコード\n"
   ]
  },
  {
   "cell_type": "code",
   "execution_count": null,
   "metadata": {
    "kernel": "Python 3 (ipykernel)",
    "nbgrader": {
     "grade": false,
     "grade_id": "c-036",
     "locked": false,
     "schema_version": 3,
     "solution": false,
     "task": false
    }
   },
   "outputs": [],
   "source": [
    "%%writefile vruntime_rec.c\n",
    "#define _GNU_SOURCE\n",
    "#include <assert.h>\n",
    "#include <sched.h>\n",
    "#include <time.h>\n",
    "#include <stdio.h>\n",
    "#include <stdlib.h>\n",
    "#include <string.h>\n",
    "#include <unistd.h>\n",
    "\n",
    "/* 時刻 begin -- end まで proc 上で動いていた記録 */\n",
    "typedef struct {\n",
    "  double begin;\n",
    "  double end;\n",
    "  double vruntime;\n",
    "  int proc;\n",
    "} rec_t;\n",
    "\n",
    "/* 現在時刻を得る */\n",
    "double cur_time() {\n",
    "  struct timespec tp[1];\n",
    "  clock_gettime(CLOCK_REALTIME, tp);\n",
    "  return tp->tv_sec + tp->tv_nsec * 1.0e-9;\n",
    "}\n",
    "\n",
    "\n",
    "double cur_vruntime() {\n",
    "  char buf[100];\n",
    "  char field[100];\n",
    "  double val;\n",
    "  FILE * fp = fopen(\"/proc/self/sched\", \"rb\");\n",
    "  char * r;\n",
    "  int x;\n",
    "  r = fgets(buf, sizeof(buf), fp);\n",
    "  assert(r);\n",
    "  r = fgets(buf, sizeof(buf), fp);\n",
    "  assert(r);\n",
    "  assert(strcmp(\"-------------------------------------------------------------------\\n\",\n",
    "\t\tbuf) == 0);\n",
    "  fseek(fp, 68, SEEK_CUR);\n",
    "  r = fgets(buf, sizeof(buf), fp);\n",
    "  if (!r) {\n",
    "    perror(\"fgets\"); \n",
    "    fclose(fp);\n",
    "    exit(1);\n",
    "  }\n",
    "  fclose(fp);\n",
    "  //printf(\"%s\", buf);\n",
    "  x = sscanf(buf, \"%s : %lf\\n\", field, &val);\n",
    "  assert(x == 2);\n",
    "  assert(strcmp(field, \"se.vruntime\") == 0);\n",
    "  //printf(\"%s=%f\\n\", field, val);\n",
    "  return val;\n",
    "}\n",
    "\n",
    "/* T秒間走り続け, vruntimeの変化を記録する */\n",
    "int run(double T,\n",
    "        long n) {\n",
    "  pid_t pid = getpid();\n",
    "  double limit = cur_time() + T;\n",
    "  rec_t * R = (rec_t *)calloc(n, sizeof(rec_t));\n",
    "  long i = 0;\n",
    "  R[i].begin = R[i].end = cur_time();\n",
    "  R[i].vruntime = cur_vruntime();\n",
    "  R[i].proc = sched_getcpu();\n",
    "  while (R[i].end < limit && i < n) {\n",
    "    double t = cur_time(); /* 現在時刻を得る */\n",
    "    double vr = cur_vruntime();\n",
    "    int proc = sched_getcpu();\n",
    "    if (vr == R[i].vruntime && proc == R[i].proc) {\n",
    "      /* 最後に見たvruntimeと変化なし */\n",
    "      R[i].end = t;\n",
    "      R[i].vruntime = vr;\n",
    "    } else {\n",
    "      /* vruntimeが変化している -> 新しい区間に入る */\n",
    "      if (i + 1 >= n) break;\n",
    "      i++;\n",
    "      R[i].proc = proc;\n",
    "      R[i].begin = R[i].end = cur_time();\n",
    "      R[i].vruntime = cur_vruntime();\n",
    "    }\n",
    "  }\n",
    "  assert(i < n);\n",
    "  int j;\n",
    "  for (j = 0; j <= i; j++) {\n",
    "    printf(\"%d %d %f %f %f %f\\n\", \n",
    "\t   pid, R[j].proc,\n",
    "           R[j].begin, R[j].end, R[j].end - R[j].begin,\n",
    "           R[j].vruntime);\n",
    "  }\n",
    "  return 0;\n",
    "}\n",
    "\n",
    "int main(int argc, char ** argv) {\n",
    "  long i = 1;\n",
    "  double T     = (argc > i ? atof(argv[i]) : 10.0);    i++; /* 合計時間 */\n",
    "  long n       = (argc > i ? atoi(argv[i]) : 1000000); i++;\n",
    "  run(T, n);\n",
    "  return 0;\n",
    "}"
   ]
  },
  {
   "cell_type": "code",
   "execution_count": null,
   "metadata": {
    "kernel": "Bash",
    "nbgrader": {
     "grade": false,
     "grade_id": "c-037",
     "locked": false,
     "schema_version": 3,
     "solution": false,
     "task": false
    }
   },
   "outputs": [],
   "source": [
    "gcc -Wall -o vruntime_rec vruntime_rec.c"
   ]
  },
  {
   "cell_type": "markdown",
   "metadata": {
    "kernel": "SoS",
    "nbgrader": {
     "grade": false,
     "grade_id": "c-038",
     "locked": true,
     "schema_version": 3,
     "solution": false,
     "task": false
    }
   },
   "source": [
    "\n",
    "* 以下は1秒ほど, 単独で走らせてみて, 出力の最初の10行を表示する例\n",
    "* 出力1行の読み方は以下\n",
    "```\n",
    "プロセスID CPU番号 区間開始時刻  区間終了時刻  区間の長さ その間のvruntime\n",
    "```\n",
    "* 各行は, vruntimeが変わらなかった区間を表している\n"
   ]
  },
  {
   "cell_type": "code",
   "execution_count": null,
   "metadata": {
    "kernel": "Bash",
    "nbgrader": {
     "grade": false,
     "grade_id": "c-039",
     "locked": false,
     "schema_version": 3,
     "solution": false,
     "task": false
    }
   },
   "outputs": [],
   "source": [
    "taskset -c 2 ./vruntime_rec 3 > vr.0\n",
    "head vr.0"
   ]
  },
  {
   "cell_type": "markdown",
   "metadata": {
    "kernel": "SoS",
    "nbgrader": {
     "grade": false,
     "grade_id": "c-040",
     "locked": true,
     "schema_version": 3,
     "solution": false,
     "task": false
    }
   },
   "source": [
    "\n",
    "* なお以下の taskset -c 2 は processor (仮想コア) 2番 だけで実行せよという指示\n",
    "* これはそのスレッドが1つの仮想コアでしか実行されないようにするための仕掛け(2番であることには意味はない)\n",
    "* vruntime はprocessorごとに別々に管理されているため, スレッドがprocessor間を移動するとvruntimeは急に変化する(それはそれで見ておくと良い)\n"
   ]
  },
  {
   "cell_type": "markdown",
   "metadata": {
    "kernel": "SoS",
    "nbgrader": {
     "grade": false,
     "grade_id": "c-041",
     "locked": true,
     "schema_version": 3,
     "solution": false,
     "task": false
    }
   },
   "source": [
    "\n",
    "# 5. Vruntimeの可視化\n",
    "* 以下が結果を可視化するプログラム\n"
   ]
  },
  {
   "cell_type": "code",
   "execution_count": 25,
   "metadata": {
    "kernel": "Python 3 (ipykernel)",
    "nbgrader": {
     "grade": false,
     "grade_id": "c-042",
     "locked": false,
     "schema_version": 3,
     "solution": false,
     "task": false
    }
   },
   "outputs": [],
   "source": [
    "#!/usr/bin/python3\n",
    "import sys\n",
    "import re\n",
    "import matplotlib.collections as mc\n",
    "import matplotlib.pyplot as plt\n",
    "import numpy as np\n",
    "\n",
    "def read_dat(dat):\n",
    "    pat = re.compile(r\"(?P<pid>\\d+) (?P<cpu>\\d+) (?P<begin>\\d+\\.\\d+) (?P<end>\\d+\\.\\d+) (?P<dt>\\d+\\.\\d+) (?P<vruntime>\\d+)\")\n",
    "    log = {}\n",
    "    with open(dat) as fp:\n",
    "        for line in fp:\n",
    "            m = pat.match(line)\n",
    "            if not m:\n",
    "                sys.stderr.write(\"warning: ignore line [%s]\\n\" % line.rstrip())\n",
    "                continue\n",
    "            pid = int(m.group(\"pid\"))\n",
    "            cpu = int(m.group(\"cpu\"))\n",
    "            begin = float(m.group(\"begin\"))\n",
    "            end = float(m.group(\"end\"))\n",
    "            dt = float(m.group(\"dt\"))\n",
    "            vruntime = int(m.group(\"vruntime\"))\n",
    "            if pid not in log:\n",
    "                log[pid] = []\n",
    "            log[pid].append((begin, end, vruntime, cpu))\n",
    "    return log\n",
    "\n",
    "def read_dats(dats):\n",
    "    log = {}\n",
    "    for dat in dats:\n",
    "        log.update(read_dat(dat))\n",
    "    return log\n",
    "\n",
    "def vruntime_vis(files, start_t=0, end_t=float(\"inf\")):\n",
    "    log = read_dats(files)\n",
    "    n_procs = len(log)\n",
    "    n_cpus = max(max(cpu for _, _, _, cpu in recs) for recs in log.values()) + 1\n",
    "    #cmap = plt.cm.get_cmap('RdYlGn', n_procs)\n",
    "    cmap = plt.get_cmap('RdYlGn', n_procs)\n",
    "    T0 = min(min(begin for begin, _, _, _ in recs) for recs in log.values())\n",
    "    V0 = min(min(vrunt for _, _, vrunt, _ in recs) for recs in log.values())\n",
    "    segs = []\n",
    "    cols = []\n",
    "    fig, ax = plt.subplots()\n",
    "    for i, (pid, recs) in enumerate(log.items()):\n",
    "        recs.sort()\n",
    "        for begin, end, vruntime, cpu in recs:\n",
    "            t0 = max(begin - T0, start_t)\n",
    "            t1 = min(end - T0, end_t)\n",
    "            if t0 >= t1:\n",
    "                continue\n",
    "            c = cmap(i)\n",
    "            segs.append([(t0, vruntime), (t1, vruntime)])\n",
    "            cols.append(c)\n",
    "    wc = mc.LineCollection(segs, colors=cols, linewidths=3)\n",
    "    ax.add_collection(wc)\n",
    "    ax.autoscale()\n",
    "    plt.title(\"thread vruntime\")\n",
    "    plt.xlabel(\"time\")\n",
    "    plt.ylabel(\"vruntime\")\n",
    "    plt.savefig(\"vruntime.svg\")\n",
    "    plt.show()\n",
    "    \n",
    "# usage:\n",
    "# if you have n processes\n",
    "# vruntime_vis([\"vr.{}\".format(i) for i in range(n)])"
   ]
  },
  {
   "cell_type": "markdown",
   "metadata": {
    "kernel": "SoS",
    "nbgrader": {
     "grade": false,
     "grade_id": "c-043",
     "locked": true,
     "schema_version": 3,
     "solution": false,
     "task": false
    }
   },
   "source": [
    "\n",
    "* 以下で実際に可視化\n"
   ]
  },
  {
   "cell_type": "code",
   "execution_count": 26,
   "metadata": {
    "kernel": "Python 3 (ipykernel)",
    "nbgrader": {
     "grade": true,
     "grade_id": "p-001",
     "locked": false,
     "points": 1,
     "schema_version": 3,
     "solution": true,
     "task": false
    }
   },
   "outputs": [
    {
     "data": {
      "image/png": "[encoded data removed]",
      "text/plain": [
       "<Figure size 640x480 with 1 Axes>"
      ]
     },
     "metadata": {},
     "output_type": "display_data"
    }
   ],
   "source": [
    "vruntime_vis([\"vr.0\"])"
   ]
  },
  {
   "cell_type": "markdown",
   "metadata": {
    "kernel": "SoS",
    "nbgrader": {
     "grade": false,
     "grade_id": "c-044",
     "locked": true,
     "schema_version": 3,
     "solution": false,
     "task": false
    }
   },
   "source": [
    "* 特定の領域を可視化するには, `start_t=開始時刻, end_t=終了時刻` を与える\n",
    "* 一見して連続的に変化しているように見えるが, 狭い範囲をどんどん拡大してみると, 区間ごとに一定で, それが定期的に, 階段状に増加していることがわかる\n",
    "* 以下の引数を変更して小さな区間を拡大表示してみよ\n",
    "\n",
    "* 下記を実行するとvruntime.svgというSVG (ベクタ画像)ファイルが生成されるので, ある程度まで拡大表示した画像をダウンロードして適当な画像ビューアで拡大しても良い\n"
   ]
  },
  {
   "cell_type": "code",
   "execution_count": 29,
   "metadata": {
    "kernel": "Python 3 (ipykernel)",
    "nbgrader": {
     "grade": false,
     "grade_id": "c-045",
     "locked": false,
     "schema_version": 3,
     "solution": false,
     "task": false
    }
   },
   "outputs": [
    {
     "data": {
      "image/png": "[encoded data removed]",
      "text/plain": [
       "<Figure size 640x480 with 1 Axes>"
      ]
     },
     "metadata": {},
     "output_type": "display_data"
    }
   ],
   "source": [
    "vruntime_vis([\"vr.0\"], start_t=1.0, end_t=1.01)"
   ]
  },
  {
   "cell_type": "markdown",
   "metadata": {
    "kernel": "SoS",
    "nbgrader": {
     "grade": false,
     "grade_id": "c-046",
     "locked": true,
     "schema_version": 3,
     "solution": false,
     "task": false
    }
   },
   "source": [
    "# 6. taskset でスレッドをprocessorに固定しない場合\n",
    "* taskset でスレッドを特定のprocessorに固定しない場合, スレッドがprocessor間を動き回れるようになる\n",
    "* 実際にスレッドがprocessor間を移動するかはわからないが, 途中でvruntime値が大きくジャンプしたらそれはおそらくprocessor (仮想コア)間をスレッドが移動したとき\n"
   ]
  },
  {
   "cell_type": "code",
   "execution_count": 30,
   "metadata": {
    "kernel": "Bash",
    "nbgrader": {
     "grade": true,
     "grade_id": "p-002",
     "locked": false,
     "points": 1,
     "schema_version": 3,
     "solution": true,
     "task": false
    }
   },
   "outputs": [],
   "source": [
    "./vruntime_rec 3 > vr.0"
   ]
  },
  {
   "cell_type": "code",
   "execution_count": 31,
   "metadata": {
    "kernel": "Python 3 (ipykernel)",
    "nbgrader": {
     "grade": true,
     "grade_id": "p-003",
     "locked": false,
     "points": 1,
     "schema_version": 3,
     "solution": true,
     "task": false
    }
   },
   "outputs": [
    {
     "data": {
      "image/png": "[encoded data removed]",
      "text/plain": [
       "<Figure size 640x480 with 1 Axes>"
      ]
     },
     "metadata": {},
     "output_type": "display_data"
    }
   ],
   "source": [
    "vruntime_vis([\"vr.0\"])\n",
    "# vruntime_vis([\"vr.0\"], start_t=1.0, end_t=1.5)"
   ]
  },
  {
   "cell_type": "markdown",
   "metadata": {
    "kernel": "SoS",
    "nbgrader": {
     "grade": false,
     "grade_id": "c-047",
     "locked": true,
     "schema_version": 3,
     "solution": false,
     "task": false
    }
   },
   "source": [
    "\n",
    "# 7. 複数のスレッドがいる場合\n",
    "* 以下はシェルスクリプトで同時に4個, 3秒間このプロセスを走らせ, 結果はファイル vr.0, vr.1, vr.2, vr.3 に記録したもの\n",
    "* tasksetコマンドですべて同じprocessor (仮想コア) で実行するようにしている\n"
   ]
  },
  {
   "cell_type": "code",
   "execution_count": 32,
   "metadata": {
    "kernel": "Bash",
    "nbgrader": {
     "grade": true,
     "grade_id": "p-004",
     "locked": false,
     "points": 1,
     "schema_version": 3,
     "solution": true,
     "task": false
    }
   },
   "outputs": [
    {
     "name": "stdout",
     "output_type": "stream",
     "text": [
      "[1] 78131\n",
      "[2] 78132\n",
      "[3] 78133\n",
      "[4] 78134\n",
      "[1]   Done                    taskset -c 2 ./vruntime_rec 3 > vr.${i}\n",
      "[2]   Done                    taskset -c 2 ./vruntime_rec 3 > vr.${i}\n",
      "[3]-  Done                    taskset -c 2 ./vruntime_rec 3 > vr.${i}\n",
      "[4]+  Done                    taskset -c 2 ./vruntime_rec 3 > vr.${i}\n"
     ]
    }
   ],
   "source": [
    "for i in $(seq 0 3); do\n",
    "  taskset -c 2 ./vruntime_rec 3 > vr.${i} &\n",
    "done\n",
    "wait"
   ]
  },
  {
   "cell_type": "markdown",
   "metadata": {
    "kernel": "SoS",
    "nbgrader": {
     "grade": false,
     "grade_id": "c-048",
     "locked": true,
     "schema_version": 3,
     "solution": false,
     "task": false
    }
   },
   "source": [
    "\n",
    "* 実行し終えたら再び可視化せよ\n",
    "* 適切に短い区間を拡大表示するなどして4つのプロセスのvruntimeがどのように増えていくかを観察せよ\n"
   ]
  },
  {
   "cell_type": "code",
   "execution_count": 33,
   "metadata": {
    "kernel": "Python 3 (ipykernel)",
    "nbgrader": {
     "grade": false,
     "grade_id": "c-049",
     "locked": false,
     "schema_version": 3,
     "solution": false,
     "task": false
    }
   },
   "outputs": [
    {
     "data": {
      "image/png": "[encoded data removed]",
      "text/plain": [
       "<Figure size 640x480 with 1 Axes>"
      ]
     },
     "metadata": {},
     "output_type": "display_data"
    }
   ],
   "source": [
    "vruntime_vis([\"vr.0\", \"vr.1\", \"vr.2\", \"vr.3\"])\n",
    "#vruntime_vis([\"vr.0\", \"vr.1\", \"vr.2\", \"vr.3\"], start_t=1.0, end_t=1.5)"
   ]
  },
  {
   "cell_type": "markdown",
   "metadata": {
    "kernel": "SoS",
    "nbgrader": {
     "grade": false,
     "grade_id": "c-050",
     "locked": true,
     "schema_version": 3,
     "solution": false,
     "task": false
    }
   },
   "source": [
    "* なお, プロセス数が多いときにも通用するもう少しスマートな書き方は以下 (これは純粋にPythonの話)"
   ]
  },
  {
   "cell_type": "code",
   "execution_count": 34,
   "metadata": {
    "kernel": "Python 3 (ipykernel)",
    "nbgrader": {
     "grade": false,
     "grade_id": "c-051",
     "locked": false,
     "schema_version": 3,
     "solution": false,
     "task": false
    }
   },
   "outputs": [
    {
     "data": {
      "image/png": "[encoded data removed]",
      "text/plain": [
       "<Figure size 640x480 with 1 Axes>"
      ]
     },
     "metadata": {},
     "output_type": "display_data"
    }
   ],
   "source": [
    "vruntime_vis([f\"vr.{i}\" for i in range(4)])\n",
    "#vruntime_vis([f\"vr.{i}\" for i in range(4)], start_t=1.0, end_t=1.5)"
   ]
  },
  {
   "cell_type": "markdown",
   "metadata": {
    "kernel": "SoS",
    "nbgrader": {
     "grade": false,
     "grade_id": "c-052",
     "locked": true,
     "schema_version": 3,
     "solution": false,
     "task": false
    }
   },
   "source": [
    "\n",
    "# 8. Blockしている間はvruntimeは増えない\n",
    "* 「vruntimeはCPUを使っていない時間は増えない」ことを確かめるために, 先のプログラムを少し走っては少し休むように変更したものが以下\n",
    "\n",
    "```\n",
    "./vruntime_rec_slp T R S\n",
    "```\n",
    "\n",
    "とすると, 「R秒走ってS秒sleepする」を, 合計T秒間繰り返す\n"
   ]
  },
  {
   "cell_type": "code",
   "execution_count": 35,
   "metadata": {
    "kernel": "Python 3 (ipykernel)",
    "nbgrader": {
     "grade": true,
     "grade_id": "p-005",
     "locked": false,
     "points": 1,
     "schema_version": 3,
     "solution": true,
     "task": false
    }
   },
   "outputs": [
    {
     "name": "stdout",
     "output_type": "stream",
     "text": [
      "Writing vruntime_rec_slp.c\n"
     ]
    }
   ],
   "source": [
    "%%writefile vruntime_rec_slp.c\n",
    "#define _GNU_SOURCE\n",
    "#include <assert.h>\n",
    "#include <sched.h>\n",
    "#include <time.h>\n",
    "#include <stdio.h>\n",
    "#include <stdlib.h>\n",
    "#include <string.h>\n",
    "#include <unistd.h>\n",
    "\n",
    "/* 時刻 begin -- end まで proc 上で動いていた記録 */\n",
    "typedef struct {\n",
    "  double begin;\n",
    "  double end;\n",
    "  double vruntime;\n",
    "  int proc;\n",
    "} rec_t;\n",
    "\n",
    "/* 現在時刻を得る */\n",
    "double cur_time() {\n",
    "  struct timespec tp[1];\n",
    "  clock_gettime(CLOCK_REALTIME, tp);\n",
    "  return tp->tv_sec + tp->tv_nsec * 1.0e-9;\n",
    "}\n",
    "\n",
    "void sleep_sec(double slp_t) {\n",
    "  struct timespec tp[1];\n",
    "  tp->tv_sec = (long)slp_t;\n",
    "  tp->tv_nsec = (slp_t - (long)slp_t) * 1.0e9;\n",
    "  nanosleep(tp, 0);\n",
    "}\n",
    "\n",
    "double cur_vruntime() {\n",
    "  char buf[100];\n",
    "  char field[100];\n",
    "  double val;\n",
    "  FILE * fp = fopen(\"/proc/self/sched\", \"rb\");\n",
    "  char * r;\n",
    "  int x;\n",
    "  r = fgets(buf, sizeof(buf), fp);\n",
    "  assert(r);\n",
    "  r = fgets(buf, sizeof(buf), fp);\n",
    "  assert(r);\n",
    "  assert(strcmp(\"-------------------------------------------------------------------\\n\",\n",
    "\t\tbuf) == 0);\n",
    "  fseek(fp, 68, SEEK_CUR);\n",
    "  r = fgets(buf, sizeof(buf), fp);\n",
    "  if (!r) {\n",
    "    perror(\"fgets\"); \n",
    "    fclose(fp);\n",
    "    exit(1);\n",
    "  }\n",
    "  fclose(fp);\n",
    "  //printf(\"%s\", buf);\n",
    "  x = sscanf(buf, \"%s : %lf\\n\", field, &val);\n",
    "  assert(x == 2);\n",
    "  assert(strcmp(field, \"se.vruntime\") == 0);\n",
    "  //printf(\"%s=%f\\n\", field, val);\n",
    "  return val;\n",
    "}\n",
    "\n",
    "/* T秒間走り続け, vruntimeの変化を記録する */\n",
    "int run(double T,\n",
    "        double run_t, double slp_t,\n",
    "        long n) {\n",
    "  pid_t pid = getpid();\n",
    "  double limit = cur_time() + T;\n",
    "  rec_t * R = (rec_t *)calloc(n, sizeof(rec_t));\n",
    "  long i = 0;\n",
    "  sleep_sec(slp_t);\n",
    "  double start = R[i].begin = R[i].end = cur_time();\n",
    "  R[i].vruntime = cur_vruntime();\n",
    "  R[i].proc = sched_getcpu();\n",
    "  while (R[i].end < limit && i < n) {\n",
    "    double t = cur_time(); /* 現在時刻を得る */\n",
    "    double vr = cur_vruntime();\n",
    "    int proc = sched_getcpu();\n",
    "    if (vr == R[i].vruntime && proc == R[i].proc) {\n",
    "      /* 最後に見たvruntimeと変化なし */\n",
    "      R[i].end = t;\n",
    "      R[i].vruntime = vr;\n",
    "    } else {\n",
    "      /* vruntimeが変化している -> 新しい区間に入る */\n",
    "      if (i + 1 >= n) break;\n",
    "      i++;\n",
    "      R[i].proc = proc;\n",
    "      R[i].begin = R[i].end = cur_time();\n",
    "      R[i].vruntime = cur_vruntime();\n",
    "    }\n",
    "    if (t > start + run_t) {\n",
    "      sleep_sec(slp_t);\n",
    "      start = cur_time();\n",
    "    }\n",
    "  }\n",
    "  assert(i < n);\n",
    "  int j;\n",
    "  for (j = 0; j <= i; j++) {\n",
    "    printf(\"%d %d %f %f %f %f\\n\", \n",
    "\t   pid, R[j].proc,\n",
    "           R[j].begin, R[j].end, R[j].end - R[j].begin,\n",
    "           R[j].vruntime);\n",
    "  }\n",
    "  return 0;\n",
    "}\n",
    "\n",
    "int main(int argc, char ** argv) {\n",
    "  long i = 1;\n",
    "  double T     = (argc > i ? atof(argv[i]) : 10.0);    i++; /* 合計時間 */\n",
    "  double run_t = (argc > i ? atof(argv[i]) : T);       i++; /* 1回走り続ける時間 */\n",
    "  double slp_t = (argc > i ? atof(argv[i]) : 0);       i++; /* 1回sleepする時間 */\n",
    "  long n       = (argc > i ? atoi(argv[i]) : 1000000); i++;\n",
    "  run(T, run_t, slp_t, n);\n",
    "  return 0;\n",
    "}"
   ]
  },
  {
   "cell_type": "code",
   "execution_count": 36,
   "metadata": {
    "kernel": "Bash",
    "nbgrader": {
     "grade": true,
     "grade_id": "p-006",
     "locked": false,
     "points": 1,
     "schema_version": 3,
     "solution": true,
     "task": false
    }
   },
   "outputs": [],
   "source": [
    "gcc -Wall -o vruntime_rec_slp vruntime_rec_slp.c"
   ]
  },
  {
   "cell_type": "markdown",
   "metadata": {
    "kernel": "SoS",
    "nbgrader": {
     "grade": false,
     "grade_id": "c-053",
     "locked": true,
     "schema_version": 3,
     "solution": false,
     "task": false
    }
   },
   "source": [
    "* 実行"
   ]
  },
  {
   "cell_type": "code",
   "execution_count": 37,
   "metadata": {
    "kernel": "Bash",
    "nbgrader": {
     "grade": true,
     "grade_id": "p-007",
     "locked": false,
     "points": 1,
     "schema_version": 3,
     "solution": true,
     "task": false
    }
   },
   "outputs": [],
   "source": [
    "taskset -c 2 ./vruntime_rec_slp 3 0.2 0.1 > vr.0"
   ]
  },
  {
   "cell_type": "markdown",
   "metadata": {
    "kernel": "SoS",
    "nbgrader": {
     "grade": false,
     "grade_id": "c-054",
     "locked": true,
     "schema_version": 3,
     "solution": false,
     "task": false
    }
   },
   "source": [
    "* vruntime可視化"
   ]
  },
  {
   "cell_type": "code",
   "execution_count": 38,
   "metadata": {
    "kernel": "Python 3 (ipykernel)",
    "nbgrader": {
     "grade": false,
     "grade_id": "c-055",
     "locked": false,
     "schema_version": 3,
     "solution": false,
     "task": false
    }
   },
   "outputs": [
    {
     "data": {
      "image/png": "[encoded data removed]",
      "text/plain": [
       "<Figure size 640x480 with 1 Axes>"
      ]
     },
     "metadata": {},
     "output_type": "display_data"
    }
   ],
   "source": [
    "vruntime_vis([\"vr.0\"])\n",
    "#vruntime_vis([\"vr.0\"], start_t=1.0, end_t=1.5)"
   ]
  },
  {
   "cell_type": "markdown",
   "metadata": {
    "kernel": "SoS",
    "nbgrader": {
     "grade": false,
     "grade_id": "c-056",
     "locked": true,
     "schema_version": 3,
     "solution": false,
     "task": false
    }
   },
   "source": [
    "\n",
    "* ずっとCPUを使っているスレッドの傍ら, 少し走っては少しsleepを繰り返すスレッドがいた場合, 後者がsleepから目覚めたときのvruntimeには何が起きているか\n",
    "* 以下は\n",
    "  * 0.2秒走って0.1秒sleep する (./vruntime_rec_slp 3 0.2 0.1) を1つと\n",
    "  * ずっと走る (./vruntime_rec_slp 3 3 0) を3つ\n",
    "同時に走らせる\n"
   ]
  },
  {
   "cell_type": "code",
   "execution_count": 39,
   "metadata": {
    "kernel": "Bash",
    "nbgrader": {
     "grade": false,
     "grade_id": "c-057",
     "locked": false,
     "schema_version": 3,
     "solution": false,
     "task": false
    }
   },
   "outputs": [
    {
     "name": "stdout",
     "output_type": "stream",
     "text": [
      "[1] 78172\n",
      "[2] 78173\n",
      "[3] 78174\n",
      "[4] 78176\n",
      "[1]   Done                    if [ ${i} = 0 ]; then\n",
      "    taskset -c 2 ./vruntime_rec_slp 3 0.2 0.1;\n",
      "else\n",
      "    taskset -c 2 ./vruntime_rec_slp 3 3 0;\n",
      "fi > vr.${i}\n",
      "[3]-  Done                    if [ ${i} = 0 ]; then\n",
      "    taskset -c 2 ./vruntime_rec_slp 3 0.2 0.1;\n",
      "else\n",
      "    taskset -c 2 ./vruntime_rec_slp 3 3 0;\n",
      "fi > vr.${i}\n",
      "[2]-  Done                    if [ ${i} = 0 ]; then\n",
      "    taskset -c 2 ./vruntime_rec_slp 3 0.2 0.1;\n",
      "else\n",
      "    taskset -c 2 ./vruntime_rec_slp 3 3 0;\n",
      "fi > vr.${i}\n",
      "[4]+  Done                    if [ ${i} = 0 ]; then\n",
      "    taskset -c 2 ./vruntime_rec_slp 3 0.2 0.1;\n",
      "else\n",
      "    taskset -c 2 ./vruntime_rec_slp 3 3 0;\n",
      "fi > vr.${i}\n"
     ]
    }
   ],
   "source": [
    "for i in $(seq 0 3); do\n",
    "  if [ ${i} = 0 ]; then\n",
    "    taskset -c 2 ./vruntime_rec_slp 3 0.2 0.1 ;\n",
    "  else\n",
    "    taskset -c 2 ./vruntime_rec_slp 3 3 0 ;\n",
    "  fi > vr.${i} &\n",
    "done\n",
    "wait"
   ]
  },
  {
   "cell_type": "markdown",
   "metadata": {
    "kernel": "SoS",
    "nbgrader": {
     "grade": false,
     "grade_id": "c-058",
     "locked": true,
     "schema_version": 3,
     "solution": false,
     "task": false
    }
   },
   "source": [
    "* 可視化"
   ]
  },
  {
   "cell_type": "code",
   "execution_count": 40,
   "metadata": {
    "kernel": "Python 3 (ipykernel)",
    "nbgrader": {
     "grade": false,
     "grade_id": "c-059",
     "locked": false,
     "schema_version": 3,
     "solution": false,
     "task": false
    }
   },
   "outputs": [
    {
     "data": {
      "image/png": "[encoded data removed]",
      "text/plain": [
       "<Figure size 640x480 with 1 Axes>"
      ]
     },
     "metadata": {},
     "output_type": "display_data"
    }
   ],
   "source": [
    "vruntime_vis([f\"vr.{i}\" for i in range(4)])\n",
    "#vruntime_vis([f\"vr.{i}\" for i in range(4)], start_t=1.0, end_t=1.5)"
   ]
  },
  {
   "cell_type": "markdown",
   "metadata": {
    "kernel": "SoS",
    "nbgrader": {
     "grade": false,
     "grade_id": "c-060",
     "locked": true,
     "schema_version": 3,
     "solution": false,
     "task": false
    }
   },
   "source": [
    "# 9. niceの効果\n",
    "* niceというコマンドならびにシステムコールがある\n",
    "* プロセスの「nice値」を決めるもので, nice値が高い = 他のプロセスに実行をよく譲る(だからnice) = 優先度を非掬するというもの\n",
    "\n",
    "```\n",
    "nice -19 コマンド\n",
    "```\n",
    "\n",
    "は「コマンド」の「nice値」を19 (最大)にする. 同名のシステムコールもある.\n",
    "\n",
    "* デフォルトのnice値は0. 正の値は多少なりとも優先度を下げるという意味になる\n",
    "\n",
    "* nice値大きいプロセスと普通のプロセスが並走すると, ほとんどの時間を後者が消費するようになる\n",
    "\n",
    "* CFSスケジューラでniceがどのように実現されているのかをvruntimeを観測することで考えてみよ"
   ]
  },
  {
   "cell_type": "code",
   "execution_count": 41,
   "metadata": {
    "kernel": "Bash",
    "nbgrader": {
     "grade": false,
     "grade_id": "c-061",
     "locked": false,
     "schema_version": 3,
     "solution": false,
     "task": false
    }
   },
   "outputs": [
    {
     "name": "stdout",
     "output_type": "stream",
     "text": [
      "[1] 78191\n",
      "[2] 78192\n",
      "[3] 78193\n",
      "[4] 78195\n",
      "[1]   Done                    if [ ${i} = 0 ]; then\n",
      "    taskset -c 2 nice -5 ./vruntime_rec 3;\n",
      "else\n",
      "    taskset -c 2 ./vruntime_rec 3;\n",
      "fi > vr.${i}\n",
      "[2]   Done                    if [ ${i} = 0 ]; then\n",
      "    taskset -c 2 nice -5 ./vruntime_rec 3;\n",
      "else\n",
      "    taskset -c 2 ./vruntime_rec 3;\n",
      "fi > vr.${i}\n",
      "[3]-  Done                    if [ ${i} = 0 ]; then\n",
      "    taskset -c 2 nice -5 ./vruntime_rec 3;\n",
      "else\n",
      "    taskset -c 2 ./vruntime_rec 3;\n",
      "fi > vr.${i}\n",
      "[4]+  Done                    if [ ${i} = 0 ]; then\n",
      "    taskset -c 2 nice -5 ./vruntime_rec 3;\n",
      "else\n",
      "    taskset -c 2 ./vruntime_rec 3;\n",
      "fi > vr.${i}\n"
     ]
    }
   ],
   "source": [
    "for i in $(seq 0 3); do\n",
    "  if [ ${i} = 0 ]; then\n",
    "    taskset -c 2 nice -5 ./vruntime_rec 3 ;\n",
    "  else\n",
    "    taskset -c 2 ./vruntime_rec 3 ;\n",
    "  fi > vr.${i} &\n",
    "done\n",
    "wait"
   ]
  },
  {
   "cell_type": "code",
   "execution_count": 42,
   "metadata": {
    "kernel": "Python 3 (ipykernel)",
    "nbgrader": {
     "grade": false,
     "grade_id": "c-062",
     "locked": false,
     "schema_version": 3,
     "solution": false,
     "task": false
    }
   },
   "outputs": [
    {
     "data": {
      "image/png": "[encoded data removed]",
      "text/plain": [
       "<Figure size 640x480 with 1 Axes>"
      ]
     },
     "metadata": {},
     "output_type": "display_data"
    }
   ],
   "source": [
    "vruntime_vis([f\"vr.{i}\" for i in range(4)])\n",
    "#vruntime_vis([f\"vr.{i}\" for i in range(4)], start_t=1.0, end_t=1.5)"
   ]
  },
  {
   "cell_type": "code",
   "execution_count": null,
   "metadata": {
    "kernel": "Python 3 (ipykernel)"
   },
   "outputs": [],
   "source": []
  }
 ],
 "metadata": {
  "celltoolbar": "Create Assignment",
  "kernelspec": {
   "display_name": "SoS",
   "language": "sos",
   "name": "sos"
  },
  "language_info": {
   "codemirror_mode": "sos",
   "file_extension": ".sos",
   "mimetype": "text/x-sos",
   "name": "sos",
   "nbconvert_exporter": "sos_notebook.converter.SoS_Exporter",
   "pygments_lexer": "sos"
  },
  "sos": {
   "kernels": [
    [
     "Bash",
     "bash",
     "bash",
     "",
     "shell"
    ],
    [
     "C",
     "c_kernel",
     "c",
     "",
     ""
    ],
    [
     "Go",
     "gophernotes",
     "go",
     "",
     ""
    ],
    [
     "Julia 1.10.2",
     "julia-1.10",
     "julia",
     "",
     ""
    ],
    [
     "OCaml default",
     "ocaml-jupyter",
     "OCaml",
     "",
     "text/x-ocaml"
    ],
    [
     "Python 3 (ipykernel)",
     "python3",
     "python3",
     "",
     {
      "name": "ipython",
      "version": 3
     }
    ],
    [
     "Rust",
     "rust",
     "rust",
     "",
     ""
    ]
   ],
   "panel": {
    "displayed": true,
    "height": 0
   },
   "version": "0.23.3"
  }
 },
 "nbformat": 4,
 "nbformat_minor": 4
}
