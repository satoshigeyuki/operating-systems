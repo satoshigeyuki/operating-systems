{
 "cells": [
  {
   "cell_type": "markdown",
   "metadata": {
    "kernel": "SoS",
    "nbgrader": {
     "grade": false,
     "grade_id": "c-001",
     "locked": true,
     "schema_version": 3,
     "solution": false,
     "task": false
    }
   },
   "source": [
    "\n",
    "#  オペレーティングシステム 演習 10\n",
    "#  キャッシュ"
   ]
  },
  {
   "cell_type": "markdown",
   "metadata": {
    "kernel": "SoS",
    "nbgrader": {
     "grade": false,
     "grade_id": "c-002",
     "locked": false,
     "schema_version": 3,
     "solution": false,
     "task": false
    }
   },
   "source": [
    "名前と学生証番号を書け. Enter your name and student ID.\n",
    "\n",
    " * 名前 Name:\n",
    " * 学生証番号 Student ID:"
   ]
  },
  {
   "cell_type": "markdown",
   "metadata": {
    "kernel": "SoS",
    "nbgrader": {
     "grade": false,
     "grade_id": "c-003",
     "locked": true,
     "schema_version": 3,
     "solution": false,
     "task": false
    }
   },
   "source": [
    "# 1. はじめに\n",
    "* OSは一度読んだファイルはメモリ上に保持する<font color=\"blue\">(キャッシュ)</font>\n",
    "* ファイル読み込み時にすでにキャッシュされていれば, ディスクからの読み出し(IO)は行われず, 読み出しが高速に行われる\n",
    "* キャッシュは物理メモリを消費するので, メモリ管理の節で述べたのと似た仕組み(LRUの近似)で管理される\n",
    "* つまりしばらく使われなかったファイルがキャッシュから追い出される\n",
    "* キャッシュにどれくらいのメモリが使われているかはこれまでも紹介したfree, vmstat, (端末上では) topなどで知ることができる\n"
   ]
  },
  {
   "cell_type": "code",
   "execution_count": 1,
   "metadata": {
    "kernel": "Bash",
    "nbgrader": {
     "grade": false,
     "grade_id": "c-004",
     "locked": false,
     "schema_version": 3,
     "solution": false,
     "task": false
    }
   },
   "outputs": [
    {
     "name": "stdout",
     "output_type": "stream",
     "text": [
      "               total        used        free      shared  buff/cache   available\n",
      "Mem:        32506280     9624364    17929144     2095904     7531848    22881916\n",
      "Swap:        8388604           0     8388604\n"
     ]
    }
   ],
   "source": [
    "free"
   ]
  },
  {
   "cell_type": "code",
   "execution_count": 2,
   "metadata": {
    "kernel": "Bash",
    "nbgrader": {
     "grade": false,
     "grade_id": "c-005",
     "locked": false,
     "schema_version": 3,
     "solution": false,
     "task": false
    }
   },
   "outputs": [
    {
     "name": "stdout",
     "output_type": "stream",
     "text": [
      "procs -----------memory---------- ---swap-- -----io---- -system-- -------cpu-------\n",
      " r  b   swpd   free   buff  cache   si   so    bi    bo   in   cs us sy id wa st gu\n",
      " 4  0      0 17936160 429032 7103316    0    0  1869   645 4246    9  6  2 92  0  0  0\n"
     ]
    }
   ],
   "source": [
    "vmstat"
   ]
  },
  {
   "cell_type": "markdown",
   "metadata": {
    "kernel": "SoS",
    "nbgrader": {
     "grade": false,
     "grade_id": "c-006",
     "locked": true,
     "schema_version": 3,
     "solution": false,
     "task": false
    }
   },
   "source": [
    "* 以下ではファイルキャッシュの効果を体感する"
   ]
  },
  {
   "cell_type": "markdown",
   "metadata": {
    "kernel": "SoS",
    "nbgrader": {
     "grade": false,
     "grade_id": "c-007",
     "locked": true,
     "schema_version": 3,
     "solution": false,
     "task": false
    }
   },
   "source": [
    "# 2. 準備: 適当な大きさのファイルを作る\n",
    "* 適当なサイズで, 中身がランダムなファイルを作るPythonプログラム"
   ]
  },
  {
   "cell_type": "code",
   "execution_count": 3,
   "metadata": {
    "kernel": "Python 3 (ipykernel)",
    "nbgrader": {
     "grade": false,
     "grade_id": "c-008",
     "locked": false,
     "schema_version": 3,
     "solution": false,
     "task": false
    }
   },
   "outputs": [],
   "source": [
    "#!/usr/bin/python3\n",
    "import os\n",
    "import numpy as np\n",
    "\n",
    "def mk_random_file(filename, size):\n",
    "    assert(size <= 1000 * 1024 * 1024), \"don't make it > 1GB\"\n",
    "    rg = np.random.RandomState()\n",
    "    rg.seed(1234)\n",
    "    a = rg.randint(0, 256, size=size, dtype=np.uint8)\n",
    "    with open(filename, \"wb\") as wp:\n",
    "        a.tofile(wp)\n"
   ]
  },
  {
   "cell_type": "code",
   "execution_count": 4,
   "metadata": {
    "kernel": "Python 3 (ipykernel)",
    "nbgrader": {
     "grade": false,
     "grade_id": "c-009",
     "locked": false,
     "schema_version": 3,
     "solution": false,
     "task": false
    }
   },
   "outputs": [],
   "source": [
    "mk_random_file(\"data.bin\", 500 * 1000 * 1000)"
   ]
  },
  {
   "cell_type": "code",
   "execution_count": 5,
   "metadata": {
    "kernel": "Bash",
    "nbgrader": {
     "grade": false,
     "grade_id": "c-010",
     "locked": false,
     "schema_version": 3,
     "solution": false,
     "task": false
    }
   },
   "outputs": [
    {
     "name": "stdout",
     "output_type": "stream",
     "text": [
      "total 488332\n",
      "-rw-r--r-- 1 tau tau 500000000 Dec 10 22:30 data.bin\n",
      "-rw-r--r-- 1 tau tau     38189 Dec  4 01:01 os10_cache.sos.ipynb\n",
      "-rw-r--r-- 1 tau tau      2630 Dec  4 01:01 read_file_vis.py\n"
     ]
    }
   ],
   "source": [
    "ls -l "
   ]
  },
  {
   "cell_type": "markdown",
   "metadata": {
    "kernel": "SoS",
    "nbgrader": {
     "grade": false,
     "grade_id": "c-011",
     "locked": true,
     "schema_version": 3,
     "solution": false,
     "task": false
    }
   },
   "source": [
    "#  参考\n",
    "* プログラムを書かずにコマンドを駆使するなら以下 (ddコマンドは知っておくと良いので参考までに紹介)\n",
    "* ifは入力, ofは出力, bsは一度に読み書きする量, countはその回数なので以下は/dev/urandomというファイルから1000000 バイト読み出してdata.binに書く, を500回繰り返す"
   ]
  },
  {
   "cell_type": "code",
   "execution_count": 6,
   "metadata": {
    "kernel": "Bash",
    "nbgrader": {
     "grade": false,
     "grade_id": "c-012",
     "locked": false,
     "schema_version": 3,
     "solution": false,
     "task": false
    }
   },
   "outputs": [],
   "source": [
    "# 参考: 実行する必要なし\n",
    "\n",
    "## dd if=/dev/urandom of=data.bin bs=$((1000 * 1000)) count=500"
   ]
  },
  {
   "cell_type": "markdown",
   "metadata": {
    "kernel": "SoS",
    "nbgrader": {
     "grade": false,
     "grade_id": "c-013",
     "locked": true,
     "schema_version": 3,
     "solution": false,
     "task": false
    }
   },
   "source": [
    "* `/dev/urandom`は読み出すたびに乱数を返す擬似ファイルなので, 上記は乱数でファイルを作ることになる\n",
    "* 実際は中身は何でも良い(ゼロでも良い)のだが, ゼロでは中身が正しく読めていることのチェックにならないので乱数で埋めておく\n",
    "* `/dev/urandom`の読み出しには無駄に時間がかかるし, 作るたびに異なるファイルできてしまうので, 以下のように自分でプログラムを書いてしまうほうが便利で速い"
   ]
  },
  {
   "cell_type": "markdown",
   "metadata": {
    "kernel": "SoS",
    "nbgrader": {
     "grade": false,
     "grade_id": "c-014",
     "locked": true,
     "schema_version": 3,
     "solution": false,
     "task": false
    }
   },
   "source": [
    "# 3. ファイルをキャッシュから追い出すには?\n",
    "* キャッシュの効果を図るために, ファイルがキャッシュされた状態とそうでない状態を比べたいのだが, そうでない状態を作るのにトリックがいる\n",
    "* ファイルは作った直後もキャッシュされているので上記を実行した直後はおそらくキャッシュされている\n",
    "* ファイルをキャッシュから追い出すためにはいくつかの方法がある\n",
    "  1. <font color=\"blue\">たくさんのプロセスメモリを消費して, 追い出す.</font> 例えば32GBのメモリを持つマシンなら32GBのメモリを割り当て, 実際にアクセスして物理メモリを32GB使うプロセスを走らせれば, おそらくキャッシュは全て追い出される. しかしこれは一時的にメモリ不足を引き起こし, 最悪の場合はスラッシングを引き起こす. やるなら自分専用の仮想マシンにしておくべきだろう\n",
    "  1. もう少し穏当には, <font color=\"blue\">たくさんのキャッシュメモリを消費して追い出す.</font> 例えば32GBのメモリを持つマシンなら32GB以上のファイルを作ってそれを何度か読み出す. 果たして本当に追い出されるかは多少疑ったほうが良い(通常は古いものが追い出されるが, 小さいファイルや最近書き込まれたファイルのキャッシュを救って, 32GBの大きなファイルの一部を追い出すという判断がありえないわけではない). スラッシングなどの心配はないが, 32GBをディスクから読み出すのは時間がかかるし, これを何十人もの人が同時にやったら結構大変なことになる. 大きなメモリを持つマシンでこんなことを実験のためにやりたくはない\n",
    "  1. 管理者権限があればできる裏技. 以下はOSに直接, <font color=\"blue\">キャッシュを開放するよう指示するコマンド</font>\n",
    "```\n",
    "sudo sysctl -w vm.drop_caches=3\n",
    "```\n",
    "管理者権限が必要である\n",
    "  1. <font color=\"blue\">ユーザでも出来る上, 特定ファイルのキャッシュだけを開放できる裏技. `posix_fadvise`というシステムコール</font>でファイルへこれからどういうアクセスをするかのヒントを与えることが出来るがそのうちの, <font color=\"blue\">`POSIX_FADV_DONTNEED`</font>というヒントを与えると, 指定した領域は当分不要とみなされ, キャッシュが開放される <font color=\"green\">以下ではこれを使う</font>"
   ]
  },
  {
   "cell_type": "code",
   "execution_count": 7,
   "metadata": {
    "kernel": "Python 3 (ipykernel)",
    "nbgrader": {
     "grade": false,
     "grade_id": "c-015",
     "locked": false,
     "schema_version": 3,
     "solution": false,
     "task": false
    }
   },
   "outputs": [
    {
     "name": "stdout",
     "output_type": "stream",
     "text": [
      "Writing drop_cache.c\n"
     ]
    }
   ],
   "source": [
    "%%writefile drop_cache.c\n",
    "#include <assert.h>\n",
    "#include <err.h>\n",
    "#include <fcntl.h>\n",
    "#include <stdio.h>\n",
    "#include <stdlib.h>\n",
    "#include <sys/mman.h>\n",
    "#include <sys/stat.h>\n",
    "#include <sys/types.h>\n",
    "#include <unistd.h>\n",
    "\n",
    "int drop_cache(const char * filename) {\n",
    "  /* ファイルを開く */\n",
    "  int fd = open(filename, O_RDWR, 0777);\n",
    "  if (fd == -1) err(1, \"open\");\n",
    "  struct stat sb[1];\n",
    "  if (fstat(fd, sb) == -1) err(1, \"fstat\");\n",
    "  if (fdatasync(fd) == -1) err(1, \"fdatasync\");\n",
    "  long sz = sb->st_size;\n",
    "  if (posix_fadvise(fd, 0, sz, POSIX_FADV_DONTNEED) == -1) {\n",
    "    err(1, \"posix_fadvise\");\n",
    "  }\n",
    "  if (close(fd) == -1) err(1, \"close\");\n",
    "  return 1;                     /* OK */\n",
    "}\n",
    "\n",
    "int main(int argc, char ** argv) {\n",
    "  for (int i = 1; i < argc; i++) {\n",
    "    drop_cache(argv[i]);\n",
    "  }\n",
    "  return 0;\n",
    "}"
   ]
  },
  {
   "cell_type": "code",
   "execution_count": 8,
   "metadata": {
    "kernel": "Bash",
    "nbgrader": {
     "grade": false,
     "grade_id": "c-016",
     "locked": false,
     "schema_version": 3,
     "solution": false,
     "task": false
    }
   },
   "outputs": [],
   "source": [
    "gcc -Wall -O3 -o drop_cache drop_cache.c"
   ]
  },
  {
   "cell_type": "markdown",
   "metadata": {
    "kernel": "SoS",
    "nbgrader": {
     "grade": false,
     "grade_id": "c-017",
     "locked": true,
     "schema_version": 3,
     "solution": false,
     "task": false
    }
   },
   "source": [
    "* 以下で, 上で作った5つのファルをキャッシュから追い出せる"
   ]
  },
  {
   "cell_type": "code",
   "execution_count": 9,
   "metadata": {
    "kernel": "Bash",
    "nbgrader": {
     "grade": false,
     "grade_id": "c-018",
     "locked": false,
     "schema_version": 3,
     "solution": false,
     "task": false
    }
   },
   "outputs": [],
   "source": [
    "./drop_cache data.bin"
   ]
  },
  {
   "cell_type": "markdown",
   "metadata": {
    "kernel": "SoS",
    "nbgrader": {
     "grade": false,
     "grade_id": "c-019",
     "locked": true,
     "schema_version": 3,
     "solution": false,
     "task": false
    }
   },
   "source": [
    "# 4. キャッシュをざっくり体感する\n",
    "* キャッシュされた状態とそうでない状態を比べたければ同じファイルを2度アクセスしてみれば良い\n",
    "\n",
    "* 1回目"
   ]
  },
  {
   "cell_type": "code",
   "execution_count": 10,
   "metadata": {
    "kernel": "Bash",
    "nbgrader": {
     "grade": false,
     "grade_id": "c-020",
     "locked": false,
     "schema_version": 3,
     "solution": false,
     "task": false
    }
   },
   "outputs": [
    {
     "name": "stdout",
     "output_type": "stream",
     "text": [
      "\n",
      "real\t0m1.128s\n",
      "user\t0m0.000s\n",
      "sys\t0m0.155s\n"
     ]
    }
   ],
   "source": [
    "time cat data.bin > /dev/null"
   ]
  },
  {
   "cell_type": "markdown",
   "metadata": {
    "kernel": "SoS",
    "nbgrader": {
     "grade": false,
     "grade_id": "c-021",
     "locked": true,
     "schema_version": 3,
     "solution": false,
     "task": false
    }
   },
   "source": [
    "* 2回目"
   ]
  },
  {
   "cell_type": "code",
   "execution_count": 11,
   "metadata": {
    "kernel": "Bash",
    "nbgrader": {
     "grade": false,
     "grade_id": "c-022",
     "locked": false,
     "schema_version": 3,
     "solution": false,
     "task": false
    }
   },
   "outputs": [
    {
     "name": "stdout",
     "output_type": "stream",
     "text": [
      "\n",
      "real\t0m0.049s\n",
      "user\t0m0.001s\n",
      "sys\t0m0.048s\n"
     ]
    }
   ],
   "source": [
    "time cat data.bin > /dev/null"
   ]
  },
  {
   "cell_type": "markdown",
   "metadata": {
    "kernel": "SoS",
    "nbgrader": {
     "grade": false,
     "grade_id": "c-023",
     "locked": true,
     "schema_version": 3,
     "solution": false,
     "task": false
    }
   },
   "source": [
    "* キャッシュは偉大で, 普段コンピュータがキビキビと動いている理由の一部は, よく使うもの(プログラムのコード, ライブラリなどを含め, 編集中のファイル, 何度も閉じたり開いたりしているファイルなど)がキャッシュ上に載っているからである\n",
    "* コンピュータを立ち上げた直後プログラムの立ち上げが遅いが, 2度目は速くなるということを感じたことがないだろうか? 今度意識してみてください\n",
    "\n",
    "# 5. (参考) ファイルがキャッシュにあるかどうかを知る\n",
    "* ファイルがキャッシュにあるかどうかを知るのに fincore というコマンドがある"
   ]
  },
  {
   "cell_type": "code",
   "execution_count": 12,
   "metadata": {
    "kernel": "Bash",
    "nbgrader": {
     "grade": false,
     "grade_id": "c-024",
     "locked": false,
     "schema_version": 3,
     "solution": false,
     "task": false
    }
   },
   "outputs": [
    {
     "name": "stdout",
     "output_type": "stream",
     "text": [
      "Command 'fincore' not found, but can be installed with:\n",
      "sudo apt install util-linux-extra\n"
     ]
    },
    {
     "ename": "",
     "evalue": "127",
     "output_type": "error",
     "traceback": []
    }
   ],
   "source": [
    "fincore data.bin"
   ]
  },
  {
   "cell_type": "markdown",
   "metadata": {
    "kernel": "SoS",
    "nbgrader": {
     "grade": false,
     "grade_id": "c-025",
     "locked": true,
     "schema_version": 3,
     "solution": false,
     "task": false
    }
   },
   "source": [
    "* 以下で追い出してまたチェックしてみよ"
   ]
  },
  {
   "cell_type": "code",
   "execution_count": 13,
   "metadata": {
    "kernel": "Bash",
    "nbgrader": {
     "grade": false,
     "grade_id": "c-026",
     "locked": false,
     "schema_version": 3,
     "solution": false,
     "task": false
    }
   },
   "outputs": [],
   "source": [
    "./drop_cache data.bin"
   ]
  },
  {
   "cell_type": "code",
   "execution_count": 14,
   "metadata": {
    "kernel": "Bash",
    "nbgrader": {
     "grade": false,
     "grade_id": "c-027",
     "locked": false,
     "schema_version": 3,
     "solution": false,
     "task": false
    }
   },
   "outputs": [
    {
     "name": "stdout",
     "output_type": "stream",
     "text": [
      "Command 'fincore' not found, but can be installed with:\n",
      "sudo apt install util-linux-extra\n"
     ]
    },
    {
     "ename": "",
     "evalue": "127",
     "output_type": "error",
     "traceback": []
    }
   ],
   "source": [
    "fincore data.bin"
   ]
  },
  {
   "cell_type": "code",
   "execution_count": 15,
   "metadata": {
    "kernel": "Bash",
    "nbgrader": {
     "grade": false,
     "grade_id": "c-028",
     "locked": false,
     "schema_version": 3,
     "solution": false,
     "task": false
    }
   },
   "outputs": [
    {
     "name": "stdout",
     "output_type": "stream",
     "text": [
      "\n",
      "real\t0m1.129s\n",
      "user\t0m0.002s\n",
      "sys\t0m0.159s\n"
     ]
    }
   ],
   "source": [
    "# 再び読み出してみる\n",
    "time cat data.bin > /dev/null"
   ]
  },
  {
   "cell_type": "markdown",
   "metadata": {
    "kernel": "SoS",
    "nbgrader": {
     "grade": false,
     "grade_id": "c-029",
     "locked": true,
     "schema_version": 3,
     "solution": false,
     "task": false
    }
   },
   "source": [
    "* システムコールとしては実は, mincore を使ってる. ファイルをmmapしておいてその領域が物理メモリにあるか否かをmincoreで調べれば, 「物理メモリ上にある = キャッシュ上にある」という関係になっている\n",
    "\n",
    "* 以下は参考まで(fincoreの中身相当)"
   ]
  },
  {
   "cell_type": "code",
   "execution_count": 16,
   "metadata": {
    "kernel": "Python 3 (ipykernel)",
    "nbgrader": {
     "grade": false,
     "grade_id": "c-030",
     "locked": false,
     "schema_version": 3,
     "solution": false,
     "task": false
    }
   },
   "outputs": [
    {
     "name": "stdout",
     "output_type": "stream",
     "text": [
      "Writing check_incore.c\n"
     ]
    }
   ],
   "source": [
    "%%writefile check_incore.c\n",
    "#include <assert.h>\n",
    "#include <err.h>\n",
    "#include <fcntl.h>\n",
    "#include <stdio.h>\n",
    "#include <stdlib.h>\n",
    "#include <string.h>\n",
    "#include <sys/mman.h>\n",
    "#include <sys/stat.h>\n",
    "#include <sys/types.h>\n",
    "#include <unistd.h>\n",
    "\n",
    "int check_incore(char * filename) {\n",
    "  /* ファイルを開く */\n",
    "  int fd = open(filename, O_RDONLY);\n",
    "  if (fd == -1) err(1, \"open\");\n",
    "  /* ファイルのサイズ */\n",
    "  struct stat sb[1];\n",
    "  if (fstat(fd, sb) == -1) err(1, \"fstat\");\n",
    "  /* mmap (読み出しのみ) */\n",
    "  long sz = sb->st_size;\n",
    "  char * a = mmap(0, sz, PROT_READ, MAP_SHARED, fd, 0);\n",
    "  if (a == MAP_FAILED) err(1, \"mmap\");\n",
    "  const long page_sz = 4096;\n",
    "  long n_pages = (sz + page_sz - 1) / page_sz;\n",
    "  unsigned char * incore = malloc(n_pages);\n",
    "  memset(incore, 2, n_pages);\n",
    "\n",
    "  if (mincore(a, n_pages * page_sz, incore) == -1) {\n",
    "    err(1, \"mincore\");\n",
    "  }\n",
    "  long bytes_incore = 0;\n",
    "  for (long i = 0; i < n_pages; i++) {\n",
    "    assert(incore[i] == 0 || incore[i] == 1);\n",
    "    if (incore[i]) bytes_incore += page_sz;\n",
    "  }\n",
    "  printf(\"%s : %ld bytes of %ld bytes on memory\\n\", filename, bytes_incore, sz);\n",
    "  if (munmap(a, sz) == -1) err(1, \"mumap\");\n",
    "  if (close(fd) == -1) err(1, \"close\");\n",
    "  return 1;                     /* OK */\n",
    "}\n",
    "\n",
    "int main(int argc, char ** argv) {\n",
    "  for (int i = 1; i < argc; i++) {\n",
    "    check_incore(argv[i]);\n",
    "  }\n",
    "  return 0;\n",
    "}"
   ]
  },
  {
   "cell_type": "code",
   "execution_count": 17,
   "metadata": {
    "kernel": "Bash",
    "nbgrader": {
     "grade": false,
     "grade_id": "c-031",
     "locked": false,
     "schema_version": 3,
     "solution": false,
     "task": false
    }
   },
   "outputs": [],
   "source": [
    "gcc -Wall -O3 -o check_incore check_incore.c"
   ]
  },
  {
   "cell_type": "markdown",
   "metadata": {
    "kernel": "SoS",
    "nbgrader": {
     "grade": false,
     "grade_id": "c-032",
     "locked": true,
     "schema_version": 3,
     "solution": false,
     "task": false
    }
   },
   "source": [
    "* 参考までに実行(fincoreと同じ)"
   ]
  },
  {
   "cell_type": "code",
   "execution_count": 18,
   "metadata": {
    "kernel": "Bash",
    "nbgrader": {
     "grade": false,
     "grade_id": "c-033",
     "locked": false,
     "schema_version": 3,
     "solution": false,
     "task": false
    }
   },
   "outputs": [
    {
     "name": "stdout",
     "output_type": "stream",
     "text": [
      "data.bin : 500002816 bytes of 500000000 bytes on memory\n"
     ]
    }
   ],
   "source": [
    "./check_incore data.bin"
   ]
  },
  {
   "cell_type": "code",
   "execution_count": 19,
   "metadata": {
    "kernel": "Bash",
    "nbgrader": {
     "grade": false,
     "grade_id": "c-034",
     "locked": false,
     "schema_version": 3,
     "solution": false,
     "task": false
    }
   },
   "outputs": [],
   "source": [
    "./drop_cache data.bin"
   ]
  },
  {
   "cell_type": "code",
   "execution_count": 20,
   "metadata": {
    "kernel": "Bash",
    "nbgrader": {
     "grade": false,
     "grade_id": "c-035",
     "locked": false,
     "schema_version": 3,
     "solution": false,
     "task": false
    }
   },
   "outputs": [
    {
     "name": "stdout",
     "output_type": "stream",
     "text": [
      "data.bin : 0 bytes of 500000000 bytes on memory\n"
     ]
    }
   ],
   "source": [
    "./check_incore data.bin"
   ]
  },
  {
   "cell_type": "code",
   "execution_count": 21,
   "metadata": {
    "kernel": "Bash",
    "nbgrader": {
     "grade": false,
     "grade_id": "c-036",
     "locked": false,
     "schema_version": 3,
     "solution": false,
     "task": false
    }
   },
   "outputs": [
    {
     "name": "stdout",
     "output_type": "stream",
     "text": [
      "\n",
      "real\t0m1.144s\n",
      "user\t0m0.001s\n",
      "sys\t0m0.159s\n"
     ]
    }
   ],
   "source": [
    "time cat data.bin > /dev/null"
   ]
  },
  {
   "cell_type": "markdown",
   "metadata": {
    "kernel": "SoS",
    "nbgrader": {
     "grade": false,
     "grade_id": "c-037",
     "locked": true,
     "schema_version": 3,
     "solution": false,
     "task": false
    }
   },
   "source": [
    "# 6. キャッシュの効果を測定する\n",
    "* キャッシュの効果をきちんと測定してみよう\n",
    "* 以下は\n",
    "```\n",
    "./read_file F S R B > s.dat\n",
    "```\n",
    "で <font color=\"blue\">ファイルF の先頭 S [MB] をR回読む. 但し一回の読み出し(read)で B [バイト]ずつ読み出す</font>\n",
    "* 読み出しごとに時刻を見て read に入った時点と readからリターンした時点を記録し, 標準出力に出す"
   ]
  },
  {
   "cell_type": "code",
   "execution_count": 22,
   "metadata": {
    "kernel": "Python 3 (ipykernel)",
    "nbgrader": {
     "grade": false,
     "grade_id": "c-038",
     "locked": false,
     "schema_version": 3,
     "solution": false,
     "task": false
    }
   },
   "outputs": [
    {
     "name": "stdout",
     "output_type": "stream",
     "text": [
      "Writing read_file.c\n"
     ]
    }
   ],
   "source": [
    "%%writefile read_file.c\n",
    "#define _GNU_SOURCE             /* See feature_test_macros(7) */\n",
    "#include <assert.h>\n",
    "#include <err.h>\n",
    "#include <fcntl.h>\n",
    "#include <stdio.h>\n",
    "#include <stdlib.h>\n",
    "#include <string.h>\n",
    "#include <sys/time.h>\n",
    "#include <unistd.h>\n",
    "\n",
    "/* イベントの種類 */\n",
    "typedef enum {\n",
    "  ek_read_enter,\n",
    "  ek_read_return,\n",
    "} event_kind_t;\n",
    "\n",
    "/* 1イベントの記録 */\n",
    "typedef struct {\n",
    "  double t;                     /* 時刻 */\n",
    "  event_kind_t kind;            /* イベントの種類(read呼び出し, read復帰, etc.) */\n",
    "  size_t offset;                /* 読んだ場所 */\n",
    "  size_t size;                  /* 読んだサイズ */\n",
    "} record_t;\n",
    "\n",
    "/* 全イベントの記録 */\n",
    "typedef struct {\n",
    "  long n_records;              /* 配列aのサイズ */\n",
    "  long i;                       /* 次に書き込むインデクス */\n",
    "  record_t * a;                 /* recordの配列 */\n",
    "  int fd;                       /* ファイルディスクリプタ */\n",
    "  long data_sz;                 /* ファイル(使う部分)のサイズ */\n",
    "} records_t;\n",
    "\n",
    "const char * event_kind_string(event_kind_t k) {\n",
    "  switch (k) {\n",
    "  case ek_read_enter:\n",
    "    return \"read_enter\";\n",
    "  case ek_read_return:\n",
    "    return \"read_return\";\n",
    "  default:\n",
    "    assert(0);\n",
    "  }\n",
    "}\n",
    "\n",
    "const long page_sz = 4096;\n",
    "\n",
    "/* n_records分の記録を保持できるrecords_tを作る */\n",
    "records_t * mk_records(long n_records\n",
    "                       ) {\n",
    "  record_t * a = (record_t *)malloc(sizeof(record_t) * n_records);\n",
    "  memset(a, 0, sizeof(record_t) * n_records);\n",
    "  /* records_tの割当て */\n",
    "  records_t * R = (records_t *)malloc(sizeof(records_t));\n",
    "  R->n_records = n_records;\n",
    "  R->i = 0;\n",
    "  R->a = a;\n",
    "  return R;\n",
    "}\n",
    "\n",
    "void destroy_records(records_t * R) {\n",
    "  free((records_t *)R);\n",
    "}\n",
    "\n",
    "/* 時刻を返す */\n",
    "double cur_time() {\n",
    "  struct timeval tp[1];\n",
    "  gettimeofday(tp, 0);\n",
    "  double t = tp->tv_sec + 1.0e-6 * tp->tv_usec;\n",
    "  return t;\n",
    "}\n",
    "\n",
    "/* 1イベントの記録 */\n",
    "void record_event(records_t * R, event_kind_t k, size_t offset, size_t size) {\n",
    "  long i = __sync_fetch_and_add(&R->i, 1);\n",
    "  assert(i < R->n_records);\n",
    "  R->a[i].t = cur_time();\n",
    "  R->a[i].kind = k;\n",
    "  R->a[i].offset = offset;\n",
    "  R->a[i].size = size;\n",
    "}\n",
    "\n",
    "/* 全イベントの記録を標準出力へ表示 */\n",
    "void print_records(records_t * R) {\n",
    "  long m = R->i;\n",
    "  for (long i = 0; i < m; i++) {\n",
    "    printf(\"%f %s %ld %ld\\n\",\n",
    "           R->a[i].t - R->a[0].t,\n",
    "           event_kind_string(R->a[i].kind),\n",
    "           R->a[i].offset,\n",
    "           R->a[i].size);\n",
    "  }\n",
    "}\n",
    "\n",
    "/* szバイトぴったり読む. その前にEOFになったらエラー */\n",
    "long read_sz_at(int fd, char * buf, off_t offset, size_t sz, records_t * R) {\n",
    "  //if (lseek(fd, offset, SEEK_SET) == -1) err(1, \"lseek\");\n",
    "  record_event(R, ek_read_enter, offset, sz);\n",
    "  size_t rd = 0;\n",
    "  while (rd < sz) {\n",
    "    ssize_t x = pread(fd, buf + rd, sz - rd, offset + rd);\n",
    "    if (x == -1) err(1, \"read\");\n",
    "    assert(x > 0);\n",
    "    rd += x;\n",
    "  }\n",
    "  assert(rd == sz);\n",
    "  size_t begin_offset = offset + page_sz - 1;\n",
    "  begin_offset -= begin_offset % page_sz;\n",
    "  long s = 0;\n",
    "  for (size_t o = begin_offset; o < offset + sz; o += page_sz) {\n",
    "    s += buf[o - offset];\n",
    "  }\n",
    "  record_event(R, ek_read_return, offset, sz);\n",
    "  return s;\n",
    "}\n",
    "\n",
    "/* 10m, 100k みたいな文字列を読んで数に変換\n",
    "   e.g., 10k -> 10 * 1024 */\n",
    "long parse_size(char * s) {\n",
    "  long n = strlen(s);\n",
    "  long unit = -1;\n",
    "  assert(n > 0);\n",
    "  switch (s[n - 1]) {\n",
    "  case 'K' :\n",
    "  case 'k' :\n",
    "    unit = 1024L;\n",
    "    break;\n",
    "  case 'M' :\n",
    "  case 'm' :\n",
    "    unit = 1024L * 1024L;\n",
    "    break;\n",
    "  case '0' ... '9' :\n",
    "    unit = 1L;\n",
    "    break;\n",
    "  case 'G' :\n",
    "  case 'g' :\n",
    "    fprintf(stderr, \"do you mean GB? don't be so aggressive\\n\");\n",
    "    break;\n",
    "  case 'T' :\n",
    "  case 't' :\n",
    "    fprintf(stderr, \"do you mean TB? don't be so aggressive\\n\");\n",
    "    break;\n",
    "  default:\n",
    "    fprintf(stderr, \"invalid unit (%c) specified\\n\", s[n - 1]);\n",
    "    break;\n",
    "  }\n",
    "  if (unit == -1) return -1;\n",
    "  long x = atol(s);\n",
    "  assert(x > 0);\n",
    "  return x * unit;\n",
    "}\n",
    "\n",
    "/* \n",
    "./read_file_1 FILE SZ N_TIMES BLK_SZ\n",
    " */\n",
    "int main(int argc, char ** argv) {\n",
    "  int i = 1;\n",
    "  char * const filename = (argc > i ? argv[i] : \"data.bin\"); i++;\n",
    "  /* 使うデータサイズ (ファイルの先頭から; MB単位) */\n",
    "  const long data_sz_   = (argc > i ? parse_size(argv[i]) : parse_size(\"64m\")); i++;\n",
    "  /* ファイル全体を読む周回数 */\n",
    "  const long n_times    = (argc > i ? atol(argv[i]) : 3); i++;\n",
    "  /* read一回で読む量 */\n",
    "  const long block_sz   = (argc > i ? parse_size(argv[i]) : parse_size(\"4k\")); i++;\n",
    "  /* ブロック数 (中途半端は切り捨て) */\n",
    "  const long n_blocks   = data_sz_ / block_sz;\n",
    "  const long data_sz    = block_sz * n_blocks;\n",
    "  /* 読み出すオフセットを作成 */\n",
    "  const long n_records  = 2 * n_blocks * n_times;\n",
    "  records_t * const R = mk_records(n_records);\n",
    "\n",
    "  fprintf(stderr, \"read %ld bytes %ld times, %ld bytes at a time\\n\",\n",
    "          data_sz, n_times, block_sz); fflush(stderr);\n",
    "  for (long i = 0; i < n_times; i++) {\n",
    "    fprintf(stderr, \"%ld th read starts\\n\", i); fflush(stderr);\n",
    "    const double t0 = cur_time();\n",
    "    const int fd = open(filename, O_RDONLY);\n",
    "    if (fd == -1) err(1, \"open\");\n",
    "    long s = 0;\n",
    "    {\n",
    "      char * const buf = (char *)malloc(block_sz);\n",
    "      if (!buf) err(1, \"malloc\");\n",
    "      for (long j = 0; j < n_blocks; j++) {\n",
    "        s += read_sz_at(fd, buf, j * block_sz, block_sz, R);\n",
    "      }\n",
    "      free(buf);\n",
    "    }\n",
    "    if (close(fd) == -1) err(1, \"close\");\n",
    "    double t1 = cur_time();\n",
    "    double dt = t1 - t0;\n",
    "    fprintf(stderr, \"took %f sec, %f MB/sec, sum = %ld\\n\",\n",
    "            dt, data_sz / (1024.0 * 1024.0) / dt, s);\n",
    "    fflush(stderr);\n",
    "  }\n",
    "  print_records(R);\n",
    "  destroy_records(R);\n",
    "  return 0;\n",
    "}"
   ]
  },
  {
   "cell_type": "code",
   "execution_count": 23,
   "metadata": {
    "kernel": "Bash",
    "nbgrader": {
     "grade": false,
     "grade_id": "c-039",
     "locked": false,
     "schema_version": 3,
     "solution": false,
     "task": false
    }
   },
   "outputs": [],
   "source": [
    "gcc -Wall -O3 -o read_file read_file.c"
   ]
  },
  {
   "cell_type": "markdown",
   "metadata": {
    "kernel": "SoS",
    "nbgrader": {
     "grade": false,
     "grade_id": "c-040",
     "locked": true,
     "schema_version": 3,
     "solution": false,
     "task": false
    }
   },
   "source": [
    "* 実行 (64MB を 4KBずつ読み出す; 3回繰り返す)"
   ]
  },
  {
   "cell_type": "code",
   "execution_count": 24,
   "metadata": {
    "kernel": "Bash",
    "nbgrader": {
     "grade": false,
     "grade_id": "c-041",
     "locked": false,
     "schema_version": 3,
     "solution": false,
     "task": false
    }
   },
   "outputs": [
    {
     "name": "stdout",
     "output_type": "stream",
     "text": [
      "read 67108864 bytes 3 times, 4096 bytes at a time\n",
      "0 th read starts\n",
      "took 0.367877 sec, 173.971188 MB/sec, sum = -12600\n",
      "1 th read starts\n",
      "took 0.011870 sec, 5391.785964 MB/sec, sum = -12600\n",
      "2 th read starts\n",
      "took 0.011279 sec, 5674.328450 MB/sec, sum = -12600\n"
     ]
    }
   ],
   "source": [
    "export data=data.bin\n",
    "./drop_cache ${data}\n",
    "./read_file ${data} 64m 3 4k > s.dat"
   ]
  },
  {
   "cell_type": "markdown",
   "metadata": {
    "kernel": "SoS",
    "nbgrader": {
     "grade": false,
     "grade_id": "c-042",
     "locked": true,
     "schema_version": 3,
     "solution": false,
     "task": false
    }
   },
   "source": [
    "#  可視化"
   ]
  },
  {
   "cell_type": "code",
   "execution_count": 25,
   "metadata": {
    "kernel": "Python 3 (ipykernel)",
    "nbgrader": {
     "grade": false,
     "grade_id": "c-043",
     "locked": false,
     "schema_version": 3,
     "solution": false,
     "task": false
    }
   },
   "outputs": [
    {
     "data": {
      "image/png": "[encoded data removed]",
      "text/plain": [
       "<Figure size 640x480 with 1 Axes>"
      ]
     },
     "metadata": {},
     "output_type": "display_data"
    }
   ],
   "source": [
    "import read_file_vis\n",
    "read_file_vis.graph([\"s.dat\"])"
   ]
  },
  {
   "cell_type": "markdown",
   "metadata": {
    "kernel": "SoS",
    "nbgrader": {
     "grade": false,
     "grade_id": "c-044",
     "locked": true,
     "schema_version": 3,
     "solution": false,
     "task": false
    }
   },
   "source": [
    "# 7. 結び\n",
    "* 効果(1回目と2回目の違い)は, ディスクの性能や読み出しパターンによっても異なる\n",
    "* 上記のプログラムを自分の手元にダウンロードして同じ実験をしてみることもオススメ\n",
    "\n",
    "* 今後生きてく上で, くれぐれも, <font color=\"blue\">キャッシュから読んだときの性能 (&gt; 数GB/sec) がディスク装置の性能である</font>と誤解しないようにしましょう\n",
    "* 売られているHDD装置の性能: 1本でおおよそ100MB/sec\n",
    "* 売られているSSD装置の性能: 1本でおおよそ200-300MB/sec (SATA接続) 〜 1-2GB程度 (PCI接続)\n",
    "* 主記憶の性能: メモリの搭載の仕方にもよるが数十GB 〜 数百GB"
   ]
  }
 ],
 "metadata": {
  "celltoolbar": "Create Assignment",
  "kernelspec": {
   "display_name": "SoS",
   "language": "sos",
   "name": "sos"
  },
  "language_info": {
   "codemirror_mode": "sos",
   "file_extension": ".sos",
   "mimetype": "text/x-sos",
   "name": "sos",
   "nbconvert_exporter": "sos_notebook.converter.SoS_Exporter",
   "pygments_lexer": "sos"
  },
  "sos": {
   "kernels": [
    [
     "Bash",
     "bash",
     "bash",
     "",
     "shell"
    ],
    [
     "C",
     "c_kernel",
     "c",
     "",
     ""
    ],
    [
     "Go",
     "gophernotes",
     "go",
     "",
     ""
    ],
    [
     "Julia 1.10.2",
     "julia-1.10",
     "julia",
     "",
     ""
    ],
    [
     "OCaml default",
     "ocaml-jupyter",
     "OCaml",
     "",
     "text/x-ocaml"
    ],
    [
     "Python 3 (ipykernel)",
     "python3",
     "python3",
     "",
     {
      "name": "ipython",
      "version": 3
     }
    ],
    [
     "Rust",
     "rust",
     "rust",
     "",
     ""
    ]
   ],
   "panel": {
    "displayed": true,
    "height": 0
   },
   "version": "0.23.3"
  }
 },
 "nbformat": 4,
 "nbformat_minor": 4
}
