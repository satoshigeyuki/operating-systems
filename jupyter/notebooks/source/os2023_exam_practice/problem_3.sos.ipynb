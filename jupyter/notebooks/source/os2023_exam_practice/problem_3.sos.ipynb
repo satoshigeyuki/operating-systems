{
  "cells": [
    {
      "cell_type": "markdown",
      "metadata": {
        "kernel": "SoS",
        "nbgrader": {
          "grade": false,
          "grade_id": "c-001",
          "locked": true,
          "schema_version": 3,
          "solution": false,
          "task": false
        }
      },
      "source": [
        "#  問題3"
      ]
    },
    {
      "cell_type": "markdown",
      "metadata": {
        "kernel": "SoS",
        "nbgrader": {
          "grade": false,
          "grade_id": "c-002",
          "locked": true,
          "schema_version": 3,
          "solution": false,
          "task": false
        }
      },
      "source": [
        "* 解答用セル(以下のセルを修正せよ)"
      ]
    },
    {
      "cell_type": "code",
      "metadata": {
        "kernel": "Python 3 (ipykernel)",
        "nbgrader": {
          "grade": true,
          "grade_id": "p-001",
          "locked": false,
          "schema_version": 3,
          "solution": true,
          "task": false,
          "points": 1
        }
      },
      "source": [
        "BEGIN SOLUTION\n",
        "END SOLUTION\n",
        "%%writefile count_char.c\n",
        "#include <err.h>\n",
        "\n",
        "#define BLK_SZ 4096\n",
        "\n",
        "int main(int argc, char ** argv) {\n",
        "  int idx = 1;\n",
        "  char * file = (idx < argc ? argv[idx++] : \"wikipedia-operating-system.html\");\n",
        "  char c =      (idx < argc ? argv[idx++][0] : 'a');\n",
        "  if (fd == -1) err(1, \"open\");\n",
        "  char a[BLK_SZ];\n",
        "  ssize_t count = 0;\n",
        "  while (1) {\n",
        "    if (rd == -1) err(1, \"read\");\n",
        "    for (ssize_t i = 0; i < rd; i++) {\n",
        "      if (a[i] == c) count++;\n",
        "    }\n",
        "  }\n",
        "  printf(\"%ld\\n\", count);\n",
        "  return 0;\n",
        "}"
      ],
      "execution_count": null,
      "outputs": []
    },
    {
      "cell_type": "code",
      "metadata": {
        "kernel": "Bash",
        "nbgrader": {
          "grade": true,
          "grade_id": "p-002",
          "locked": true,
          "schema_version": 3,
          "solution": true,
          "task": false,
          "points": 1
        }
      },
      "source": [
        "BEGIN SOLUTION\n",
        "END SOLUTION\n",
        "gcc -Wall -Wextra -o count_char count_char.c"
      ],
      "execution_count": null,
      "outputs": []
    },
    {
      "cell_type": "markdown",
      "metadata": {
        "kernel": "SoS",
        "nbgrader": {
          "grade": false,
          "grade_id": "c-003",
          "locked": true,
          "schema_version": 3,
          "solution": false,
          "task": false
        }
      },
      "source": [
        "* テスト(実行せよ)"
      ]
    },
    {
      "cell_type": "code",
      "metadata": {
        "kernel": "Bash",
        "nbgrader": {
          "grade": true,
          "grade_id": "p-003",
          "locked": true,
          "schema_version": 3,
          "solution": true,
          "task": false,
          "points": 1
        }
      },
      "source": [
        "BEGIN SOLUTION\n",
        "END SOLUTION\n",
        "if ./count_char misc/wikipedia-operating-system.html a | grep 22513 ; then\n",
        "   echo OK\n",
        "else\n",
        "   echo NG\n",
        "fi   "
      ],
      "execution_count": null,
      "outputs": []
    },
    {
      "cell_type": "code",
      "metadata": {
        "kernel": "Bash",
        "nbgrader": {
          "grade": true,
          "grade_id": "p-004",
          "locked": true,
          "schema_version": 3,
          "solution": true,
          "task": false,
          "points": 1
        }
      },
      "source": [
        "BEGIN SOLUTION\n",
        "END SOLUTION\n",
        "if ./count_char misc/wikipedia-operating-system.html b | grep 3690 ; then\n",
        "   echo OK\n",
        "else\n",
        "   echo NG\n",
        "fi   "
      ],
      "execution_count": null,
      "outputs": []
    },
    {
      "cell_type": "code",
      "metadata": {
        "kernel": "Bash",
        "nbgrader": {
          "grade": true,
          "grade_id": "p-005",
          "locked": true,
          "schema_version": 3,
          "solution": true,
          "task": false,
          "points": 1
        }
      },
      "source": [
        "BEGIN SOLUTION\n",
        "END SOLUTION\n",
        "if ./count_char misc/wikipedia-operating-system.html x | grep 2146 ; then\n",
        "   echo OK\n",
        "else\n",
        "   echo NG\n",
        "fi   "
      ],
      "execution_count": null,
      "outputs": []
    },
    {
      "cell_type": "markdown",
      "metadata": {
        "kernel": "SoS",
        "nbgrader": {
          "grade": false,
          "grade_id": "c-004",
          "locked": true,
          "schema_version": 3,
          "solution": false,
          "task": false
        }
      },
      "source": [
        "プログラム原版(やり直したい時はこのセルのプログラムをコピーせよ)"
      ]
    },
    {
      "cell_type": "code",
      "metadata": {
        "kernel": "Python 3 (ipykernel)",
        "nbgrader": {
          "grade": false,
          "grade_id": "c-005",
          "locked": true,
          "schema_version": 3,
          "solution": false,
          "task": false
        }
      },
      "source": [
        "%%writefile count_char.c\n",
        "#include <err.h>\n",
        "\n",
        "#define BLK_SZ 4096\n",
        "\n",
        "int main(int argc, char ** argv) {\n",
        "  int idx = 1;\n",
        "  char * file = (idx < argc ? argv[idx++] : \"wikipedia-operating-system.html\");\n",
        "  char c =      (idx < argc ? argv[idx++][0] : 'a');\n",
        "  if (fd == -1) err(1, \"open\");\n",
        "  char a[BLK_SZ];\n",
        "  ssize_t count = 0;\n",
        "  while (1) {\n",
        "    if (rd == -1) err(1, \"read\");\n",
        "    for (ssize_t i = 0; i < rd; i++) {\n",
        "      if (a[i] == c) count++;\n",
        "    }\n",
        "  }\n",
        "  printf(\"%ld\\n\", count);\n",
        "  return 0;\n",
        "}"
      ],
      "execution_count": null,
      "outputs": []
    }
  ],
  "metadata": {
    "celltoolbar": "Create Assignment",
    "kernelspec": {
      "display_name": "SoS",
      "language": "sos",
      "name": "sos"
    },
    "language_info": {
      "codemirror_mode": "sos",
      "file_extension": ".sos",
      "mimetype": "text/x-sos",
      "name": "sos",
      "nbconvert_exporter": "sos_notebook.converter.SoS_Exporter",
      "pygments_lexer": "sos"
    },
    "sos": {
      "kernels": [
        [
          "Bash",
          "bash",
          "bash",
          "",
          "shell"
        ],
        [
          "C",
          "c_kernel",
          "c",
          "",
          ""
        ],
        [
          "Go",
          "gophernotes",
          "go",
          "",
          ""
        ],
        [
          "Julia 1.8.5",
          "julia-1.8",
          "julia",
          "",
          ""
        ],
        [
          "OCaml default",
          "ocaml-jupyter",
          "OCaml",
          "",
          "text/x-ocaml"
        ],
        [
          "Python 3 (ipykernel)",
          "python3",
          "python3",
          "",
          {
            "name": "ipython",
            "version": 3
          }
        ],
        [
          "Rust",
          "rust",
          "rust",
          "",
          ""
        ]
      ],
      "panel": {
        "displayed": true,
        "height": 0
      },
      "version": "0.23.3"
    }
  },
  "nbformat": 4,
  "nbformat_minor": 4
}