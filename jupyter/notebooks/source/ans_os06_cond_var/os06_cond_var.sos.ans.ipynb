{
  "cells": [
    {
      "cell_type": "markdown",
      "metadata": {
        "kernel": "SoS",
        "nbgrader": {
          "grade": false,
          "grade_id": "c-001",
          "locked": true,
          "schema_version": 3,
          "solution": false,
          "task": false
        }
      },
      "source": [
        "\n",
        "#  オペレーティングシステム 演習 06",
        "\n",
        "#  条件変数",
        ""
      ]
    },
    {
      "cell_type": "markdown",
      "metadata": {
        "kernel": "SoS",
        "nbgrader": {
          "grade": false,
          "grade_id": "c-002",
          "locked": false,
          "schema_version": 3,
          "solution": false,
          "task": false
        }
      },
      "source": [
        "\n",
        "名前と学生証番号を書け. Enter your name and student ID.\n",
        "\n",
        " * 名前 Name:\n",
        " * 学生証番号 Student ID:\n",
        ""
      ]
    },
    {
      "cell_type": "markdown",
      "metadata": {
        "kernel": "SoS",
        "nbgrader": {
          "grade": false,
          "grade_id": "c-003",
          "locked": true,
          "schema_version": 3,
          "solution": false,
          "task": false
        }
      },
      "source": [
        "# 1. 条件変数",
        "\n",
        "* もう一つの代表的な同期APIは条件変数\n",
        "* 条件変数は汎用的な同期機構であり, つまり, 「待つ(ブロックする)」「起こす」という二つの操作だけを提供する\n",
        "* どういう条件で待つか, 起こすかというのは条件変数を使う方が決める\n",
        "\n",
        "## 1-1. C",
        "\n",
        "* C言語 Pthreadの条件変数関連のAPIは以下\n",
        "  * [pthread_cond_init](https://linux.die.net/man/3/pthread_cond_init)\n",
        "  * [pthread_cond_destroy](https://linux.die.net/man/3/pthread_cond_destroy)\n",
        "  * [pthread_cond_wait](https://linux.die.net/man/3/pthread_cond_wait)\n",
        "  * [pthread_cond_signal](https://linux.die.net/man/3/pthread_cond_signal)\n",
        "  * [pthread_cond_broadcast](https://linux.die.net/man/3/pthread_cond_broadcast)\n",
        "\n",
        "* テンプレートは,\n",
        "  * 何かデータ構造を見て, 望む状態_C_になっていなければ待つ\n",
        "  * さらにそのデータ構造を変更して, 必要であれば待っているかもしれない人を起こす\n",
        "というもので, それを以下のようにして実現する\n",
        "\n",
        "```\n",
        "pthread_mutex_lock(m);\n",
        "while (1) {\n",
        "    ...\n",
        "    if (望む状態) break;\n",
        "    pthread_cond_wait(c, m); // ...じゃないので寝る\n",
        "}\n",
        "変更;\n",
        "場合により, pthread_cond_broadcast(c); // またはsignal\n",
        "pthread_mutex_unlock(m);\n",
        "```\n",
        "\n",
        "## 1-2. Python",
        "\n",
        "* Python threadingの条件変数関連のAPIは以下\n",
        "* Pthreadと少し違うのは m を条件変数を作る際に渡すことができること\n",
        "  * c = threading.Condition([m]) # m は Lock() オブジェクト\n",
        "    * mを省略するとmを新しく作ったのと同じ意味になる\n",
        "  * c.acquire()  # m.acquire() と同じ\n",
        "  * c.release()  # m.release() と同じ\n",
        "  * c.wait()     # pthread_cond_wait 相当\n",
        "  * c.notify()   # pthread_cond_signal 相当\n",
        "  * c.notify_all() # pthread_cond_broadcast 相当\n",
        "\n",
        "* テンプレートは,\n",
        "  * 何かデータ構造を見て, 望む状態_C_になっていなければ待つ\n",
        "  * さらにそのデータ構造を変更して, 必要であれば待っているかもしれない人を起こす\n",
        "というもので, それを以下のようにして実現する\n",
        "\n",
        "```\n",
        "c.acquire()\n",
        "while 1:\n",
        "    ...\n",
        "    if 望む状態: break\n",
        "    c.wait() # ...じゃないので寝る\n",
        "}\n",
        "変更\n",
        "場合により, c.notify_all() # またはc.notify()\n",
        "c.release()\n",
        "```\n",
        "\n",
        "# 2. 飽和カウンタ",
        "\n",
        "## 2-1. C ",
        "\n",
        "* 条件変数を使うもっとも簡単な例題として, 飽和カウンタを作ってみよう\n",
        "* 飽和カウンタは上で作ったcounter_tとほぼ同じAPI (名前は scounter_t としておこう)\n",
        "* 違いは以下\n",
        "  * 初期化時に容量(capacity)を指定する. capacityはカウンタが取りうる値の最大値を意味する\n",
        "  * 加算 (inc)をする際にcapacityを越えそうになったら(つまり元々値がcapacityだったら)条件変数の上でブロックする\n",
        "* API  \n",
        "  * データ型\n",
        "```\n",
        "typedef struct { ... } scounter_t;\n",
        "```\n",
        "  * 0 にする \n",
        "```\n",
        "void scounter_init(scounter_t * c, long capacity);\n",
        "```\n",
        "  * +1 する (返り値: 深い意味はないが, 元の値を返すとする)\n",
        "```\n",
        "long scounter_inc(scounter_t * c);\n",
        "```\n",
        "  * -1 する (返り値: 深い意味はないが, 元の値を返すとする)\n",
        "```\n",
        "long scounter_dec(scounter_t * c);\n",
        "```\n",
        "  * 今の値を返す\n",
        "```\n",
        "long scounter_get(scounter_t * c);\n",
        "```\n",
        "\n",
        "* 以下は capacity を無視した版 (mutex は使っているが条件変数は使っていない)"
      ]
    },
    {
      "cell_type": "code",
      "metadata": {
        "kernel": "Python 3 (ipykernel)",
        "nbgrader": {
          "grade": false,
          "grade_id": "c-004",
          "locked": false,
          "schema_version": 3,
          "solution": false,
          "task": false
        }
      },
      "source": [
        "%%writefile scounter.c\n",
        "/* 注: このプログラムはOMP_NUM_THREADSを使わずにコマンドラインで受け取った引数でスレッド数を決めている(#pragma omp parallel num_threads(...)) */\n",
        "\n",
        "#include <assert.h>\n",
        "#include <stdio.h>\n",
        "#include <stdlib.h>\n",
        "#include <pthread.h>\n",
        "#include <omp.h>\n",
        "\n",
        "void die(char * msg) {\n",
        "  perror(msg);\n",
        "  exit(1);\n",
        "}\n",
        "\n",
        "double cur_time() {\n",
        "  struct timespec ts[1];\n",
        "  clock_gettime(CLOCK_REALTIME, ts);\n",
        "  return ts->tv_sec + ts->tv_nsec * 1.0e-9;\n",
        "}\n",
        "\n",
        "/* 飽和カウンタ */\n",
        "typedef struct {\n",
        "  long x;\n",
        "  long capacity;\n",
        "  pthread_mutex_t m[1];\n",
        "} scounter_t;\n",
        "\n",
        "/* 初期化(値を0にする) */\n",
        "void scounter_init(scounter_t * s, long capacity) {\n",
        "  s->x = 0;\n",
        "  s->capacity = capacity;\n",
        "  if (pthread_mutex_init(s->m, 0)) {\n",
        "    die(\"pthread_mutex_init\");\n",
        "  }\n",
        "}\n",
        "\n",
        "/* +1 ただしcapacityに達していたら待つ */\n",
        "long scounter_inc(scounter_t * s) {\n",
        "  pthread_mutex_lock(s->m);\n",
        "  long x = s->x;\n",
        "  s->x = x + 1;\n",
        "  pthread_mutex_unlock(s->m);\n",
        "  assert(x < s->capacity);\n",
        "  return x;\n",
        "}\n",
        "\n",
        "/* -1 */\n",
        "long scounter_dec(scounter_t * s) {\n",
        "  pthread_mutex_lock(s->m);\n",
        "  long x = s->x;\n",
        "  s->x = x - 1;\n",
        "  pthread_mutex_unlock(s->m);\n",
        "  return x;\n",
        "}\n",
        "\n",
        "/* 現在の値を返す */\n",
        "long scounter_get(scounter_t * s) {\n",
        "  return s->x;\n",
        "}\n",
        "\n",
        "int main(int argc, char ** argv) {\n",
        "  int i = 1;\n",
        "  /* incを呼ぶスレッド数 */\n",
        "  int n_inc_threads = (argc > i ? atoi(argv[i]) : 3); i++;\n",
        "  /* decを呼ぶスレッド数 */\n",
        "  int n_dec_threads = (argc > i ? atoi(argv[i]) : 2); i++;\n",
        "  /* incとdecが呼ばれる回数(全スレッドの合計) */\n",
        "  long n            = (argc > i ? atol(argv[i]) : 10000); i++;\n",
        "  /* 飽和する値 */\n",
        "  long capacity     = (argc > i ? atol(argv[i]) : 10000); i++;\n",
        "  \n",
        "  scounter_t s[1];\n",
        "  scounter_init(s, capacity);\n",
        "\n",
        "  printf(\"increment threads : %d\\n\", n_inc_threads);\n",
        "  printf(\"decrement threads : %d\\n\", n_dec_threads);\n",
        "  printf(\"increments/decrements : %ld\\n\", n);\n",
        "  printf(\"capacity : %ld\\n\", capacity);\n",
        "  \n",
        "  double t0 = cur_time();\n",
        "#pragma omp parallel num_threads(n_inc_threads + n_dec_threads)\n",
        "  {\n",
        "    int idx = omp_get_thread_num();\n",
        "    if (idx < n_inc_threads) {\n",
        "      /* increment */\n",
        "      long a = n *  idx      / n_inc_threads;\n",
        "      long b = n * (idx + 1) / n_inc_threads;\n",
        "      for (long i = a; i < b; i++) {\n",
        "        long x = scounter_inc(s);\n",
        "        assert(x < capacity);\n",
        "      }\n",
        "    } else {\n",
        "      /* decrement */\n",
        "      idx -= n_dec_threads;\n",
        "      long a = n *  idx      / n_dec_threads;\n",
        "      long b = n * (idx + 1) / n_dec_threads;\n",
        "      for (long i = a; i < b; i++) {\n",
        "        long x = scounter_dec(s);\n",
        "        assert(x <= capacity);\n",
        "      }\n",
        "    }\n",
        "  }\n",
        "  double t1 = cur_time();\n",
        "  printf(\"took %.9f sec\\n\", t1 - t0);\n",
        "  long x = scounter_get(s);\n",
        "  printf(\"%s : value at the end = %ld\\n\", (x == 0? \"OK\" : \"NG\"), x);\n",
        "  return (x == 0 ? 0 : 1);\n",
        "}"
      ],
      "execution_count": null,
      "outputs": []
    },
    {
      "cell_type": "code",
      "metadata": {
        "kernel": "Bash",
        "nbgrader": {
          "grade": false,
          "grade_id": "c-005",
          "locked": false,
          "schema_version": 3,
          "solution": false,
          "task": false
        }
      },
      "source": [
        "gcc -Wall -fopenmp -o scounter scounter.c"
      ],
      "execution_count": null,
      "outputs": []
    },
    {
      "cell_type": "markdown",
      "metadata": {
        "kernel": "SoS",
        "nbgrader": {
          "grade": false,
          "grade_id": "c-006",
          "locked": true,
          "schema_version": 3,
          "solution": false,
          "task": false
        }
      },
      "source": [
        "* 実行は以下\n",
        "```\n",
        "./scounter INCするスレッド数 DECするスレッド数 INC(DEC)する回数 CAPACITY\n",
        "```\n",
        "\n",
        "* 例えば以下は 3スレッドがincを呼び, 2スレッドがdecを呼ぶ\n",
        "* inc, decはそれぞれ3スレッド, 2スレッドの合計で, 10000回ずつ呼ばれる\n",
        "* capacityも10000で, inc (dec)の回数と同じにしているので, カウンタは実際には飽和しない"
      ]
    },
    {
      "cell_type": "code",
      "metadata": {
        "kernel": "Bash",
        "nbgrader": {
          "grade": false,
          "grade_id": "c-007",
          "locked": false,
          "schema_version": 3,
          "solution": false,
          "task": false
        }
      },
      "source": [
        "./scounter 3 2 10000 10000"
      ],
      "execution_count": null,
      "outputs": []
    },
    {
      "cell_type": "markdown",
      "metadata": {
        "kernel": "SoS",
        "nbgrader": {
          "grade": false,
          "grade_id": "c-008",
          "locked": true,
          "schema_version": 3,
          "solution": false,
          "task": false
        }
      },
      "source": [
        "* 一方, inc回数 &gt; 容量とすると, ほとんどの場合, 途中でエラーになる"
      ]
    },
    {
      "cell_type": "code",
      "metadata": {
        "kernel": "Bash",
        "nbgrader": {
          "grade": false,
          "grade_id": "c-009",
          "locked": false,
          "schema_version": 3,
          "solution": false,
          "task": false
        }
      },
      "source": [
        "./scounter 3 2 100000 10000"
      ],
      "execution_count": null,
      "outputs": []
    },
    {
      "cell_type": "markdown",
      "metadata": {
        "kernel": "SoS",
        "nbgrader": {
          "grade": false,
          "grade_id": "c-010",
          "locked": true,
          "schema_version": 3,
          "solution": false,
          "task": false
        }
      },
      "source": [
        "* 条件変数を使ってこれを直すのが課題である"
      ]
    },
    {
      "cell_type": "markdown",
      "metadata": {
        "kernel": "SoS",
        "nbgrader": {
          "grade": false,
          "grade_id": "c-011",
          "locked": true,
          "schema_version": 3,
          "solution": false,
          "task": false
        }
      },
      "source": [
        "## 2-2. Python",
        "\n",
        "* Python 版 API  \n",
        "  * データ型\n",
        "```\n",
        "class scounter:\n",
        "  ...\n",
        "```\n",
        "  * 値0 のscounterを作る\n",
        "```\n",
        "s = scounter(capacity)\n",
        "```\n",
        "  * +1 する (返り値: 深い意味はないが, 元の値を返すとする)\n",
        "```\n",
        "s.inc()\n",
        "```\n",
        "  * -1 する (返り値: 深い意味はないが, 元の値を返すとする)\n",
        "```\n",
        "s.dec()\n",
        "```\n",
        "  * 今の値を返す\n",
        "```\n",
        "s.get()\n",
        "```\n",
        "\n",
        "* 以下は capacity を無視した版 (mutex は使っているが条件変数は使っていない)"
      ]
    },
    {
      "cell_type": "code",
      "metadata": {
        "kernel": "Python 3 (ipykernel)",
        "nbgrader": {
          "grade": false,
          "grade_id": "c-012",
          "locked": false,
          "schema_version": 3,
          "solution": false,
          "task": false
        }
      },
      "source": [
        "%%writefile scounter.py\n",
        "import sys\n",
        "import threading\n",
        "import time\n",
        "\n",
        "class scounter:\n",
        "    \"\"\"\n",
        "    飽和カウンタ\n",
        "    \"\"\"\n",
        "    def __init__(self, capacity):\n",
        "        self.x = 0\n",
        "        self.capacity = capacity\n",
        "        self.m = threading.Lock()\n",
        "    def inc(self):\n",
        "        self.m.acquire()\n",
        "        x = self.x\n",
        "        self.x = x + 1\n",
        "        self.m.release()\n",
        "        return x\n",
        "    def dec(self):\n",
        "        self.m.acquire()\n",
        "        x = self.x\n",
        "        self.x = x - 1\n",
        "        self.m.release()\n",
        "        return x\n",
        "    def get(self):\n",
        "        return self.x\n",
        "\n",
        "def main():\n",
        "    argv = sys.argv\n",
        "    # incを呼ぶスレッド数 \n",
        "    n_inc_threads = int(argv[1]) if 1 < len(argv) else 3\n",
        "    # decを呼ぶスレッド数 \n",
        "    n_dec_threads = int(argv[2]) if 2 < len(argv) else 2\n",
        "    # incとdecが呼ばれる回数(全スレッドの合計)\n",
        "    n             = int(argv[3]) if 3 < len(argv) else 10000\n",
        "    # 飽和する値\n",
        "    capacity      = int(argv[4]) if 4 < len(argv) else 10000\n",
        "    s = scounter(capacity)\n",
        "    print(f\"increment threads : {n_inc_threads}\")\n",
        "    print(f\"decrement threads : {n_dec_threads}\")\n",
        "    print(f\"increments/decrements : {n}\")\n",
        "    print(f\"capacity : {capacity}\")\n",
        "    def inc_thread_fun(idx):\n",
        "        # increment\n",
        "        a = n *  idx      // n_inc_threads\n",
        "        b = n * (idx + 1) // n_inc_threads\n",
        "        for i in range(a, b):\n",
        "            x = s.inc()\n",
        "            assert(x < capacity), (x, capacity)\n",
        "    def dec_thread_fun(idx):\n",
        "        a = n *  idx      // n_dec_threads;\n",
        "        b = n * (idx + 1) // n_dec_threads;\n",
        "        for i in range(a, b):\n",
        "            x = s.dec()\n",
        "            assert(x <= capacity), (x, capacity)\n",
        "    inc_threads = [threading.Thread(target=inc_thread_fun, args=(i,)) for i in range(n_inc_threads)]\n",
        "    dec_threads = [threading.Thread(target=dec_thread_fun, args=(i,)) for i in range(n_dec_threads)]\n",
        "    t0 = time.time()\n",
        "    for th in inc_threads + dec_threads:\n",
        "        th.start()\n",
        "    for th in inc_threads + dec_threads:\n",
        "        th.join()\n",
        "    t1 = time.time()\n",
        "    dt = t1 - t0\n",
        "    print(f\"took {dt:.9f} sec\")\n",
        "    x = s.get()\n",
        "    ok_ng = \"OK\" if x == 0 else \"NG\"\n",
        "    print(f\"{ok_ng} : value at the end = {x}\")\n",
        "    return x != 0\n",
        "    \n",
        "sys.exit(main())\n",
        ""
      ],
      "execution_count": null,
      "outputs": []
    },
    {
      "cell_type": "markdown",
      "metadata": {
        "kernel": "SoS",
        "nbgrader": {
          "grade": false,
          "grade_id": "c-013",
          "locked": true,
          "schema_version": 3,
          "solution": false,
          "task": false
        }
      },
      "source": [
        "* 実行は以下\n",
        "```\n",
        "python3 scounter.py INCするスレッド数 DECするスレッド数 INC(DEC)する回数 CAPACITY\n",
        "```\n",
        "\n",
        "* 例えば以下は 3スレッドがincを呼び, 2スレッドがdecを呼ぶ\n",
        "* inc, decはそれぞれ3スレッド, 2スレッドの合計で, 10000回ずつ呼ばれる\n",
        "* capacityも10000で, inc (dec)の回数と同じにしているので, カウンタは実際には飽和しない"
      ]
    },
    {
      "cell_type": "code",
      "metadata": {
        "kernel": "Bash",
        "nbgrader": {
          "grade": false,
          "grade_id": "c-014",
          "locked": false,
          "schema_version": 3,
          "solution": false,
          "task": false
        }
      },
      "source": [
        "python3 scounter.py 3 2 10000 10000"
      ],
      "execution_count": null,
      "outputs": []
    },
    {
      "cell_type": "markdown",
      "metadata": {
        "kernel": "SoS",
        "nbgrader": {
          "grade": false,
          "grade_id": "c-015",
          "locked": true,
          "schema_version": 3,
          "solution": false,
          "task": false
        }
      },
      "source": [
        "* 一方, inc回数 &gt; 容量とすると, ほとんどの場合, 途中でエラーになる"
      ]
    },
    {
      "cell_type": "code",
      "metadata": {
        "kernel": "Bash",
        "nbgrader": {
          "grade": false,
          "grade_id": "c-016",
          "locked": false,
          "schema_version": 3,
          "solution": false,
          "task": false
        }
      },
      "source": [
        "python3 scounter.py 3 2 100000 10000"
      ],
      "execution_count": null,
      "outputs": []
    },
    {
      "cell_type": "markdown",
      "metadata": {
        "kernel": "SoS",
        "nbgrader": {
          "grade": false,
          "grade_id": "c-017",
          "locked": true,
          "schema_version": 3,
          "solution": false,
          "task": false
        }
      },
      "source": [
        "# <font color=\"green\"> Problem 1 :  条件変数を使った飽和カウンタ (C)</font>"
      ]
    },
    {
      "cell_type": "markdown",
      "metadata": {
        "kernel": "SoS",
        "nbgrader": {
          "grade": false,
          "grade_id": "c-018",
          "locked": true,
          "schema_version": 3,
          "solution": false,
          "task": false
        }
      },
      "source": [
        "* 下掲のプログラムを変更して, 任意のスレッド数, inc (dec) 回数, capacity で正しく動作するようにせよ\n",
        "* 寝ているスレッドを起こすのに `pthread_cond_broadcast` を使うべきか, `pthread_cond_signal` でもよいか考えよ\n",
        "  * ヒント: 実は後者ではダメ. なかなか気づきにくい落とし穴がある. Terminal + GDBで調査でもしないとなかなか気づかないだろう\n",
        "  * 止まってしまったプログラムをkillする方法は上述したのでそれをマスターしてから実験せよ"
      ]
    },
    {
      "cell_type": "code",
      "metadata": {
        "kernel": "Python 3 (ipykernel)",
        "nbgrader": {
          "grade": true,
          "grade_id": "p-001",
          "locked": false,
          "schema_version": 3,
          "solution": true,
          "task": false,
          "points": 1
        }
      },
      "source": [
        "BEGIN SOLUTION\n",
        "END SOLUTION\n",
        "%%writefile scounter.c\n",
        "/* 注: このプログラムはOMP_NUM_THREADSを使わずにコマンドラインで受け取った引数でスレッド数を決めている(#pragma omp parallel num_threads(...)) */\n",
        "\n",
        "#include <assert.h>\n",
        "#include <stdio.h>\n",
        "#include <stdlib.h>\n",
        "#include <pthread.h>\n",
        "#include <omp.h>\n",
        "\n",
        "void die(char * msg) {\n",
        "  perror(msg);\n",
        "  exit(1);\n",
        "}\n",
        "\n",
        "double cur_time() {\n",
        "  struct timespec ts[1];\n",
        "  clock_gettime(CLOCK_REALTIME, ts);\n",
        "  return ts->tv_sec + ts->tv_nsec * 1.0e-9;\n",
        "}\n",
        "\n",
        "/* 飽和カウンタ */\n",
        "typedef struct {\n",
        "  long x;\n",
        "  long capacity;\n",
        "  pthread_mutex_t m[1];\n",
        "} scounter_t;\n",
        "\n",
        "/* 初期化(値を0にする) */\n",
        "void scounter_init(scounter_t * s, long capacity) {\n",
        "  s->x = 0;\n",
        "  s->capacity = capacity;\n",
        "  if (pthread_mutex_init(s->m, 0)) {\n",
        "    die(\"pthread_mutex_init\");\n",
        "  }\n",
        "}\n",
        "\n",
        "/* +1 ただしcapacityに達していたら待つ */\n",
        "long scounter_inc(scounter_t * s) {\n",
        "  pthread_mutex_lock(s->m);\n",
        "  long x = s->x;\n",
        "  s->x = x + 1;\n",
        "  pthread_mutex_unlock(s->m);\n",
        "  assert(x < s->capacity);\n",
        "  return x;\n",
        "}\n",
        "\n",
        "/* -1 */\n",
        "long scounter_dec(scounter_t * s) {\n",
        "  pthread_mutex_lock(s->m);\n",
        "  long x = s->x;\n",
        "  s->x = x - 1;\n",
        "  pthread_mutex_unlock(s->m);\n",
        "  return x;\n",
        "}\n",
        "\n",
        "/* 現在の値を返す */\n",
        "long scounter_get(scounter_t * s) {\n",
        "  return s->x;\n",
        "}\n",
        "\n",
        "int main(int argc, char ** argv) {\n",
        "  int i = 1;\n",
        "  /* incを呼ぶスレッド数 */\n",
        "  int n_inc_threads = (argc > i ? atoi(argv[i]) : 3); i++;\n",
        "  /* decを呼ぶスレッド数 */\n",
        "  int n_dec_threads = (argc > i ? atoi(argv[i]) : 2); i++;\n",
        "  /* incとdecが呼ばれる回数(全スレッドの合計) */\n",
        "  long n            = (argc > i ? atol(argv[i]) : 10000); i++;\n",
        "  /* 飽和する値 */\n",
        "  long capacity     = (argc > i ? atol(argv[i]) : 10000); i++;\n",
        "  \n",
        "  scounter_t s[1];\n",
        "  scounter_init(s, capacity);\n",
        "\n",
        "  printf(\"increment threads : %d\\n\", n_inc_threads);\n",
        "  printf(\"decrement threads : %d\\n\", n_dec_threads);\n",
        "  printf(\"increments/decrements : %ld\\n\", n);\n",
        "  printf(\"capacity : %ld\\n\", capacity);\n",
        "  \n",
        "  double t0 = cur_time();\n",
        "#pragma omp parallel num_threads(n_inc_threads + n_dec_threads)\n",
        "  {\n",
        "    int idx = omp_get_thread_num();\n",
        "    if (idx < n_inc_threads) {\n",
        "      /* increment */\n",
        "      long a = n *  idx      / n_inc_threads;\n",
        "      long b = n * (idx + 1) / n_inc_threads;\n",
        "      for (long i = a; i < b; i++) {\n",
        "        long x = scounter_inc(s);\n",
        "        assert(x < capacity);\n",
        "      }\n",
        "    } else {\n",
        "      /* decrement */\n",
        "      idx -= n_dec_threads;\n",
        "      long a = n *  idx      / n_dec_threads;\n",
        "      long b = n * (idx + 1) / n_dec_threads;\n",
        "      for (long i = a; i < b; i++) {\n",
        "        long x = scounter_dec(s);\n",
        "        assert(x <= capacity);\n",
        "      }\n",
        "    }\n",
        "  }\n",
        "  double t1 = cur_time();\n",
        "  printf(\"took %.9f sec\\n\", t1 - t0);\n",
        "  long x = scounter_get(s);\n",
        "  printf(\"%s : value at the end = %ld\\n\", (x == 0? \"OK\" : \"NG\"), x);\n",
        "  return (x == 0 ? 0 : 1);\n",
        "}"
      ],
      "execution_count": null,
      "outputs": []
    },
    {
      "cell_type": "code",
      "metadata": {
        "kernel": "Bash",
        "nbgrader": {
          "grade": true,
          "grade_id": "p-002",
          "locked": false,
          "schema_version": 3,
          "solution": true,
          "task": false,
          "points": 1
        }
      },
      "source": [
        "BEGIN SOLUTION\n",
        "END SOLUTION\n",
        "gcc -Wall -fopenmp -o scounter scounter.c"
      ],
      "execution_count": null,
      "outputs": []
    },
    {
      "cell_type": "code",
      "metadata": {
        "kernel": "Python 3 (ipykernel)",
        "nbgrader": {
          "grade": false,
          "grade_id": "c-019",
          "locked": true,
          "schema_version": 3,
          "solution": false,
          "task": false
        }
      },
      "source": [
        "%%writefile scounter_ans.c\n",
        "/* 注: このプログラムはOMP_NUM_THREADSを使わずにコマンドラインで受け取った引数でスレッド数を決めている(#pragma omp parallel num_threads(...)) */\n",
        "\n",
        "#include <assert.h>\n",
        "#include <stdio.h>\n",
        "#include <stdlib.h>\n",
        "#include <pthread.h>\n",
        "#include <omp.h>\n",
        "\n",
        "void die(char * msg) {\n",
        "  perror(msg);\n",
        "  exit(1);\n",
        "}\n",
        "\n",
        "double cur_time() {\n",
        "  struct timespec ts[1];\n",
        "  clock_gettime(CLOCK_REALTIME, ts);\n",
        "  return ts->tv_sec + ts->tv_nsec * 1.0e-9;\n",
        "}\n",
        "\n",
        "/* 飽和カウンタ */\n",
        "typedef struct {\n",
        "  long x;\n",
        "  long capacity;\n",
        "  pthread_mutex_t m[1];\n",
        "  pthread_cond_t c[1];\n",
        "} scounter_t;\n",
        "\n",
        "/* 初期化(値を0にする) */\n",
        "void scounter_init(scounter_t * s, long capacity) {\n",
        "  s->x = 0;\n",
        "  s->capacity = capacity;\n",
        "  if (pthread_mutex_init(s->m, 0)) {\n",
        "    die(\"pthread_mutex_init\");\n",
        "  }\n",
        "  if (pthread_cond_init(s->c, 0)) {\n",
        "    die(\"pthread_cond_init\");\n",
        "  }\n",
        "}\n",
        "\n",
        "/* +1 ただしcapacityに達していたら待つ */\n",
        "long scounter_inc(scounter_t * s) {\n",
        "  pthread_mutex_lock(s->m);\n",
        "  long x = s->x;\n",
        "  while (x >= s->capacity) {\n",
        "    assert(x == s->capacity);\n",
        "    pthread_cond_wait(s->c, s->m);\n",
        "    x = s->x;\n",
        "  }\n",
        "  s->x = x + 1;\n",
        "  pthread_mutex_unlock(s->m);\n",
        "  assert(x < s->capacity);\n",
        "  return x;\n",
        "}\n",
        "\n",
        "/* -1 */\n",
        "long scounter_dec(scounter_t * s) {\n",
        "  pthread_mutex_lock(s->m);\n",
        "  long x = s->x;\n",
        "  s->x = x - 1;\n",
        "  if (x >= s->capacity) {\n",
        "    assert(x == s->capacity);\n",
        "    pthread_cond_broadcast(s->c);\n",
        "  }\n",
        "  pthread_mutex_unlock(s->m);\n",
        "  return x;\n",
        "}\n",
        "\n",
        "/* 現在の値を返す */\n",
        "long scounter_get(scounter_t * s) {\n",
        "  return s->x;\n",
        "}\n",
        "\n",
        "int main(int argc, char ** argv) {\n",
        "  int i = 1;\n",
        "  /* incを呼ぶスレッド数 */\n",
        "  int n_inc_threads = (argc > i ? atoi(argv[i]) : 3); i++;\n",
        "  /* decを呼ぶスレッド数 */\n",
        "  int n_dec_threads = (argc > i ? atoi(argv[i]) : 2); i++;\n",
        "  /* incとdecが呼ばれる回数(全スレッドの合計) */\n",
        "  long n            = (argc > i ? atol(argv[i]) : 10000); i++;\n",
        "  /* 飽和する値 */\n",
        "  long capacity     = (argc > i ? atol(argv[i]) : 10000); i++;\n",
        "  \n",
        "  scounter_t s[1];\n",
        "  scounter_init(s, capacity);\n",
        "\n",
        "  printf(\"increment threads : %d\\n\", n_inc_threads);\n",
        "  printf(\"decrement threads : %d\\n\", n_dec_threads);\n",
        "  printf(\"increments/decrements : %ld\\n\", n);\n",
        "  printf(\"capacity : %ld\\n\", capacity);\n",
        "  \n",
        "  double t0 = cur_time();\n",
        "#pragma omp parallel num_threads(n_inc_threads + n_dec_threads)\n",
        "  {\n",
        "    int idx = omp_get_thread_num();\n",
        "    if (idx < n_inc_threads) {\n",
        "      /* increment */\n",
        "      long a = n *  idx      / n_inc_threads;\n",
        "      long b = n * (idx + 1) / n_inc_threads;\n",
        "      for (long i = a; i < b; i++) {\n",
        "        long x = scounter_inc(s);\n",
        "        assert(x < capacity);\n",
        "      }\n",
        "    } else {\n",
        "      /* decrement */\n",
        "      idx -= n_dec_threads;\n",
        "      long a = n *  idx      / n_dec_threads;\n",
        "      long b = n * (idx + 1) / n_dec_threads;\n",
        "      for (long i = a; i < b; i++) {\n",
        "        long x = scounter_dec(s);\n",
        "        assert(x <= capacity);\n",
        "      }\n",
        "    }\n",
        "  }\n",
        "  double t1 = cur_time();\n",
        "  printf(\"took %.9f sec\\n\", t1 - t0);\n",
        "  long x = scounter_get(s);\n",
        "  printf(\"%s : value at the end = %ld\\n\", (x == 0? \"OK\" : \"NG\"), x);\n",
        "  return (x == 0 ? 0 : 1);\n",
        "}"
      ],
      "execution_count": null,
      "outputs": []
    },
    {
      "cell_type": "code",
      "metadata": {
        "kernel": "Bash",
        "nbgrader": {
          "grade": false,
          "grade_id": "c-020",
          "locked": true,
          "schema_version": 3,
          "solution": false,
          "task": false
        }
      },
      "source": [
        "gcc -Wall -fopenmp -o scounter_ans scounter_ans.c"
      ],
      "execution_count": null,
      "outputs": []
    },
    {
      "cell_type": "markdown",
      "metadata": {
        "kernel": "SoS",
        "nbgrader": {
          "grade": false,
          "grade_id": "c-021",
          "locked": true,
          "schema_version": 3,
          "solution": false,
          "task": false
        }
      },
      "source": [
        "* 以下でテストせよ\n",
        "  * テストは, 「単純(超探しやすい)」かつ「バグが発生しやすいケース」で行うのが基本\n",
        "  * 今回の場合, 容量1というケースが最もバグが発生しやすい(見逃されにくい)と思われる\n",
        "\n",
        "* 単純かつバグが発生しやすいケース (うまく動かなければ適宜 100000 を減らして, なるべく小さい数でテストをするのが基本. 本気でデバッグが必要なら terminal を使うことを推奨)"
      ]
    },
    {
      "cell_type": "code",
      "metadata": {
        "kernel": "Bash",
        "nbgrader": {
          "grade": true,
          "grade_id": "p-003",
          "locked": false,
          "schema_version": 3,
          "solution": true,
          "task": false,
          "points": 1
        }
      },
      "source": [
        "BEGIN SOLUTION\n",
        "END SOLUTION\n",
        "./scounter 1 1 100000 1"
      ],
      "execution_count": null,
      "outputs": []
    },
    {
      "cell_type": "code",
      "metadata": {
        "kernel": "Bash",
        "nbgrader": {
          "grade": false,
          "grade_id": "c-022",
          "locked": false,
          "schema_version": 3,
          "solution": false,
          "task": false
        }
      },
      "source": [
        "./scounter_ans 1 1 100000 1"
      ],
      "execution_count": null,
      "outputs": []
    },
    {
      "cell_type": "markdown",
      "metadata": {
        "kernel": "SoS",
        "nbgrader": {
          "grade": false,
          "grade_id": "c-023",
          "locked": true,
          "schema_version": 3,
          "solution": false,
          "task": false
        }
      },
      "source": [
        "* まともな容量でのテスト"
      ]
    },
    {
      "cell_type": "code",
      "metadata": {
        "kernel": "Bash",
        "nbgrader": {
          "grade": true,
          "grade_id": "p-004",
          "locked": false,
          "schema_version": 3,
          "solution": true,
          "task": false,
          "points": 1
        }
      },
      "source": [
        "BEGIN SOLUTION\n",
        "END SOLUTION\n",
        "./scounter 1 1 100000 1000"
      ],
      "execution_count": null,
      "outputs": []
    },
    {
      "cell_type": "code",
      "metadata": {
        "kernel": "Bash",
        "nbgrader": {
          "grade": false,
          "grade_id": "c-024",
          "locked": false,
          "schema_version": 3,
          "solution": false,
          "task": false
        }
      },
      "source": [
        "./scounter_ans 1 1 100000 1000"
      ],
      "execution_count": null,
      "outputs": []
    },
    {
      "cell_type": "markdown",
      "metadata": {
        "kernel": "SoS",
        "nbgrader": {
          "grade": false,
          "grade_id": "c-025",
          "locked": true,
          "schema_version": 3,
          "solution": false,
          "task": false
        }
      },
      "source": [
        "* 多数のスレッドでのテスト"
      ]
    },
    {
      "cell_type": "code",
      "metadata": {
        "kernel": "Bash",
        "nbgrader": {
          "grade": true,
          "grade_id": "p-005",
          "locked": false,
          "schema_version": 3,
          "solution": true,
          "task": false,
          "points": 1
        }
      },
      "source": [
        "BEGIN SOLUTION\n",
        "END SOLUTION\n",
        "./scounter 10 1 100000 1000"
      ],
      "execution_count": null,
      "outputs": []
    },
    {
      "cell_type": "code",
      "metadata": {
        "kernel": "Bash",
        "nbgrader": {
          "grade": false,
          "grade_id": "c-026",
          "locked": false,
          "schema_version": 3,
          "solution": false,
          "task": false
        }
      },
      "source": [
        "./scounter_ans 10 1 100000 1000"
      ],
      "execution_count": null,
      "outputs": []
    },
    {
      "cell_type": "code",
      "metadata": {
        "kernel": "Bash",
        "nbgrader": {
          "grade": true,
          "grade_id": "p-006",
          "locked": false,
          "schema_version": 3,
          "solution": true,
          "task": false,
          "points": 1
        }
      },
      "source": [
        "BEGIN SOLUTION\n",
        "END SOLUTION\n",
        "./scounter 1 10 100000 1000"
      ],
      "execution_count": null,
      "outputs": []
    },
    {
      "cell_type": "code",
      "metadata": {
        "kernel": "Bash",
        "nbgrader": {
          "grade": false,
          "grade_id": "c-027",
          "locked": false,
          "schema_version": 3,
          "solution": false,
          "task": false
        }
      },
      "source": [
        "./scounter_ans 1 10 100000 1000"
      ],
      "execution_count": null,
      "outputs": []
    },
    {
      "cell_type": "code",
      "metadata": {
        "kernel": "Bash",
        "nbgrader": {
          "grade": true,
          "grade_id": "p-007",
          "locked": false,
          "schema_version": 3,
          "solution": true,
          "task": false,
          "points": 1
        }
      },
      "source": [
        "BEGIN SOLUTION\n",
        "END SOLUTION\n",
        "./scounter 10 10 1000000 1000"
      ],
      "execution_count": null,
      "outputs": []
    },
    {
      "cell_type": "code",
      "metadata": {
        "kernel": "Bash",
        "nbgrader": {
          "grade": false,
          "grade_id": "c-028",
          "locked": false,
          "schema_version": 3,
          "solution": false,
          "task": false
        }
      },
      "source": [
        "./scounter_ans 10 10 1000000 1000"
      ],
      "execution_count": null,
      "outputs": []
    },
    {
      "cell_type": "markdown",
      "metadata": {
        "kernel": "SoS",
        "nbgrader": {
          "grade": false,
          "grade_id": "c-029",
          "locked": true,
          "schema_version": 3,
          "solution": false,
          "task": false
        }
      },
      "source": [
        "# <font color=\"green\"> Problem 2 :  条件変数を使った飽和カウンタ (Python)</font>"
      ]
    },
    {
      "cell_type": "markdown",
      "metadata": {
        "kernel": "SoS",
        "nbgrader": {
          "grade": false,
          "grade_id": "c-030",
          "locked": true,
          "schema_version": 3,
          "solution": false,
          "task": false
        }
      },
      "source": [
        "* 下掲のプログラムを変更して, 任意のスレッド数, inc (dec) 回数, capacity で正しく動作するようにせよ"
      ]
    },
    {
      "cell_type": "code",
      "metadata": {
        "kernel": "Python 3 (ipykernel)",
        "nbgrader": {
          "grade": true,
          "grade_id": "p-008",
          "locked": false,
          "schema_version": 3,
          "solution": true,
          "task": false,
          "points": 1
        }
      },
      "source": [
        "BEGIN SOLUTION\n",
        "END SOLUTION\n",
        "%%writefile scounter.py\n",
        "import sys\n",
        "import threading\n",
        "import time\n",
        "\n",
        "class scounter:\n",
        "    \"\"\"\n",
        "    飽和カウンタ\n",
        "    \"\"\"\n",
        "    def __init__(self, capacity):\n",
        "        self.x = 0\n",
        "        self.capacity = capacity\n",
        "        self.m = threading.Lock()\n",
        "    def inc(self):\n",
        "        self.m.acquire()\n",
        "        x = self.x\n",
        "        self.x = x + 1\n",
        "        self.m.release()\n",
        "        return x\n",
        "    def dec(self):\n",
        "        self.m.acquire()\n",
        "        x = self.x\n",
        "        self.x = x - 1\n",
        "        self.m.release()\n",
        "        return x\n",
        "    def get(self):\n",
        "        return self.x\n",
        "\n",
        "def main():\n",
        "    argv = sys.argv\n",
        "    # incを呼ぶスレッド数 \n",
        "    n_inc_threads = int(argv[1]) if 1 < len(argv) else 3\n",
        "    # decを呼ぶスレッド数 \n",
        "    n_dec_threads = int(argv[2]) if 2 < len(argv) else 2\n",
        "    # incとdecが呼ばれる回数(全スレッドの合計)\n",
        "    n             = int(argv[3]) if 3 < len(argv) else 10000\n",
        "    # 飽和する値\n",
        "    capacity      = int(argv[4]) if 4 < len(argv) else 10000\n",
        "    s = scounter(capacity)\n",
        "    print(f\"increment threads : {n_inc_threads}\")\n",
        "    print(f\"decrement threads : {n_dec_threads}\")\n",
        "    print(f\"increments/decrements : {n}\")\n",
        "    print(f\"capacity : {capacity}\")\n",
        "    def inc_thread_fun(idx):\n",
        "        # increment\n",
        "        a = n *  idx      // n_inc_threads\n",
        "        b = n * (idx + 1) // n_inc_threads\n",
        "        for i in range(a, b):\n",
        "            x = s.inc()\n",
        "            assert(x < capacity), (x, capacity)\n",
        "    def dec_thread_fun(idx):\n",
        "        a = n *  idx      // n_dec_threads;\n",
        "        b = n * (idx + 1) // n_dec_threads;\n",
        "        for i in range(a, b):\n",
        "            x = s.dec()\n",
        "            assert(x <= capacity), (x, capacity)\n",
        "    inc_threads = [threading.Thread(target=inc_thread_fun, args=(i,)) for i in range(n_inc_threads)]\n",
        "    dec_threads = [threading.Thread(target=dec_thread_fun, args=(i,)) for i in range(n_dec_threads)]\n",
        "    t0 = time.time()\n",
        "    for th in inc_threads + dec_threads:\n",
        "        th.start()\n",
        "    for th in inc_threads + dec_threads:\n",
        "        th.join()\n",
        "    t1 = time.time()\n",
        "    dt = t1 - t0\n",
        "    print(f\"took {dt:.9f} sec\")\n",
        "    x = s.get()\n",
        "    ok_ng = \"OK\" if x == 0 else \"NG\"\n",
        "    print(f\"{ok_ng} : value at the end = {x}\")\n",
        "    return x != 0\n",
        "    \n",
        "sys.exit(main())\n",
        ""
      ],
      "execution_count": null,
      "outputs": []
    },
    {
      "cell_type": "code",
      "metadata": {
        "kernel": "Python 3 (ipykernel)",
        "nbgrader": {
          "grade": false,
          "grade_id": "c-031",
          "locked": true,
          "schema_version": 3,
          "solution": false,
          "task": false
        }
      },
      "source": [
        "%%writefile scounter_ans.py\n",
        "import sys\n",
        "import threading\n",
        "import time\n",
        "\n",
        "class scounter:\n",
        "    \"\"\"\n",
        "    飽和カウンタ\n",
        "    \"\"\"\n",
        "    def __init__(self, capacity):\n",
        "        self.x = 0\n",
        "        self.capacity = capacity\n",
        "        self.m = threading.Lock()\n",
        "        self.c = threading.Condition(self.m)\n",
        "    def inc(self):\n",
        "        self.m.acquire()\n",
        "        x = self.x\n",
        "        while x >= self.capacity:\n",
        "            assert(x == self.capacity), (x, self.capacity)\n",
        "            self.c.wait()\n",
        "            x = self.x\n",
        "        self.x = x + 1\n",
        "        self.m.release()\n",
        "        return x\n",
        "    def dec(self):\n",
        "        self.m.acquire()\n",
        "        x = self.x\n",
        "        self.x = x - 1\n",
        "        if x >= self.capacity:\n",
        "            assert(x == self.capacity), (x, self.capacity)\n",
        "            self.c.notify_all()\n",
        "        self.m.release()\n",
        "        return x\n",
        "    def get(self):\n",
        "        return self.x\n",
        "\n",
        "def main():\n",
        "    argv = sys.argv\n",
        "    # incを呼ぶスレッド数 \n",
        "    n_inc_threads = int(argv[1]) if 1 < len(argv) else 3\n",
        "    # decを呼ぶスレッド数 \n",
        "    n_dec_threads = int(argv[2]) if 2 < len(argv) else 2\n",
        "    # incとdecが呼ばれる回数(全スレッドの合計)\n",
        "    n             = int(argv[3]) if 3 < len(argv) else 10000\n",
        "    # 飽和する値\n",
        "    capacity      = int(argv[4]) if 4 < len(argv) else 10000\n",
        "    s = scounter(capacity)\n",
        "    print(f\"increment threads : {n_inc_threads}\")\n",
        "    print(f\"decrement threads : {n_dec_threads}\")\n",
        "    print(f\"increments/decrements : {n}\")\n",
        "    print(f\"capacity : {capacity}\")\n",
        "    def inc_thread_fun(idx):\n",
        "        # increment\n",
        "        a = n *  idx      // n_inc_threads\n",
        "        b = n * (idx + 1) // n_inc_threads\n",
        "        for i in range(a, b):\n",
        "            x = s.inc()\n",
        "            assert(x < capacity), (x, capacity)\n",
        "    def dec_thread_fun(idx):\n",
        "        a = n *  idx      // n_dec_threads;\n",
        "        b = n * (idx + 1) // n_dec_threads;\n",
        "        for i in range(a, b):\n",
        "            x = s.dec()\n",
        "            assert(x <= capacity), (x, capacity)\n",
        "    inc_threads = [threading.Thread(target=inc_thread_fun, args=(i,)) for i in range(n_inc_threads)]\n",
        "    dec_threads = [threading.Thread(target=dec_thread_fun, args=(i,)) for i in range(n_dec_threads)]\n",
        "    t0 = time.time()\n",
        "    for th in inc_threads + dec_threads:\n",
        "        th.start()\n",
        "    for th in inc_threads + dec_threads:\n",
        "        th.join()\n",
        "    t1 = time.time()\n",
        "    dt = t1 - t0\n",
        "    print(f\"took {dt:.9f} sec\")\n",
        "    x = s.get()\n",
        "    ok_ng = \"OK\" if x == 0 else \"NG\"\n",
        "    print(f\"{ok_ng} : value at the end = {x}\")\n",
        "    return x != 0\n",
        "    \n",
        "sys.exit(main())\n",
        ""
      ],
      "execution_count": null,
      "outputs": []
    },
    {
      "cell_type": "markdown",
      "metadata": {
        "kernel": "SoS",
        "nbgrader": {
          "grade": false,
          "grade_id": "c-032",
          "locked": true,
          "schema_version": 3,
          "solution": false,
          "task": false
        }
      },
      "source": [
        "* 以下でテストせよ\n",
        "  * テストは, 「単純(超探しやすい)」かつ「バグが発生しやすいケース」で行うのが基本\n",
        "  * 今回の場合, 容量1というケースが最もバグが発生しやすい(見逃されにくい)と思われる\n",
        "\n",
        "* 単純かつバグが発生しやすいケース (うまく動かなければ適宜 100000 を減らして, なるべく小さい数でテストをするのが基本. 本気でデバッグが必要なら terminal を使うことを推奨)"
      ]
    },
    {
      "cell_type": "code",
      "metadata": {
        "kernel": "Bash",
        "nbgrader": {
          "grade": true,
          "grade_id": "p-009",
          "locked": false,
          "schema_version": 3,
          "solution": true,
          "task": false,
          "points": 1
        }
      },
      "source": [
        "BEGIN SOLUTION\n",
        "END SOLUTION\n",
        "python3 scounter.py 1 1 100000 1"
      ],
      "execution_count": null,
      "outputs": []
    },
    {
      "cell_type": "code",
      "metadata": {
        "kernel": "Bash",
        "nbgrader": {
          "grade": false,
          "grade_id": "c-033",
          "locked": false,
          "schema_version": 3,
          "solution": false,
          "task": false
        }
      },
      "source": [
        "python3 scounter_ans.py 1 1 100000 1"
      ],
      "execution_count": null,
      "outputs": []
    },
    {
      "cell_type": "markdown",
      "metadata": {
        "kernel": "SoS",
        "nbgrader": {
          "grade": false,
          "grade_id": "c-034",
          "locked": true,
          "schema_version": 3,
          "solution": false,
          "task": false
        }
      },
      "source": [
        "* まともな容量でのテスト"
      ]
    },
    {
      "cell_type": "code",
      "metadata": {
        "kernel": "Bash",
        "nbgrader": {
          "grade": true,
          "grade_id": "p-010",
          "locked": false,
          "schema_version": 3,
          "solution": true,
          "task": false,
          "points": 1
        }
      },
      "source": [
        "BEGIN SOLUTION\n",
        "END SOLUTION\n",
        "python3 scounter.py 1 1 100000 1000"
      ],
      "execution_count": null,
      "outputs": []
    },
    {
      "cell_type": "code",
      "metadata": {
        "kernel": "Bash",
        "nbgrader": {
          "grade": false,
          "grade_id": "c-035",
          "locked": false,
          "schema_version": 3,
          "solution": false,
          "task": false
        }
      },
      "source": [
        "python3 scounter_ans.py 1 1 100000 1000"
      ],
      "execution_count": null,
      "outputs": []
    },
    {
      "cell_type": "markdown",
      "metadata": {
        "kernel": "SoS",
        "nbgrader": {
          "grade": false,
          "grade_id": "c-036",
          "locked": true,
          "schema_version": 3,
          "solution": false,
          "task": false
        }
      },
      "source": [
        "* 多数のスレッドでのテスト"
      ]
    },
    {
      "cell_type": "code",
      "metadata": {
        "kernel": "Bash",
        "nbgrader": {
          "grade": true,
          "grade_id": "p-011",
          "locked": false,
          "schema_version": 3,
          "solution": true,
          "task": false,
          "points": 1
        }
      },
      "source": [
        "BEGIN SOLUTION\n",
        "END SOLUTION\n",
        "python3 scounter.py 10 1 100000 1000"
      ],
      "execution_count": null,
      "outputs": []
    },
    {
      "cell_type": "code",
      "metadata": {
        "kernel": "Bash",
        "nbgrader": {
          "grade": false,
          "grade_id": "c-037",
          "locked": false,
          "schema_version": 3,
          "solution": false,
          "task": false
        }
      },
      "source": [
        "python3 scounter_ans.py 10 1 100000 1000"
      ],
      "execution_count": null,
      "outputs": []
    },
    {
      "cell_type": "code",
      "metadata": {
        "kernel": "Bash",
        "nbgrader": {
          "grade": true,
          "grade_id": "p-012",
          "locked": false,
          "schema_version": 3,
          "solution": true,
          "task": false,
          "points": 1
        }
      },
      "source": [
        "BEGIN SOLUTION\n",
        "END SOLUTION\n",
        "python3 scounter.py 1 10 100000 1000"
      ],
      "execution_count": null,
      "outputs": []
    },
    {
      "cell_type": "code",
      "metadata": {
        "kernel": "Bash",
        "nbgrader": {
          "grade": false,
          "grade_id": "c-038",
          "locked": false,
          "schema_version": 3,
          "solution": false,
          "task": false
        }
      },
      "source": [
        "python3 scounter_ans.py 1 10 100000 1000"
      ],
      "execution_count": null,
      "outputs": []
    },
    {
      "cell_type": "code",
      "metadata": {
        "kernel": "Bash",
        "nbgrader": {
          "grade": true,
          "grade_id": "p-013",
          "locked": false,
          "schema_version": 3,
          "solution": true,
          "task": false,
          "points": 1
        }
      },
      "source": [
        "BEGIN SOLUTION\n",
        "END SOLUTION\n",
        "python3 scounter.py 10 10 1000000 1000"
      ],
      "execution_count": null,
      "outputs": []
    },
    {
      "cell_type": "code",
      "metadata": {
        "kernel": "Bash",
        "nbgrader": {
          "grade": false,
          "grade_id": "c-039",
          "locked": false,
          "schema_version": 3,
          "solution": false,
          "task": false
        }
      },
      "source": [
        "python3 scounter_ans.py 10 10 1000000 1000"
      ],
      "execution_count": null,
      "outputs": []
    },
    {
      "cell_type": "markdown",
      "metadata": {
        "kernel": "SoS",
        "nbgrader": {
          "grade": false,
          "grade_id": "c-040",
          "locked": true,
          "schema_version": 3,
          "solution": false,
          "task": false
        }
      },
      "source": [
        "# <font color=\"green\"> Problem 3 :  両側飽和カウンタ (C)</font>"
      ]
    },
    {
      "cell_type": "markdown",
      "metadata": {
        "kernel": "SoS",
        "nbgrader": {
          "grade": false,
          "grade_id": "c-041",
          "locked": true,
          "schema_version": 3,
          "solution": false,
          "task": false
        }
      },
      "source": [
        "* どうせならカウンタの上限を定めるだけでなく, 下限も定めたい. ここでは0ということにしておこう\n",
        "* つまり, 0のときに dec が行われたらそこでも待つようにする\n",
        "* 下掲のプログラムを変更して, 任意のスレッド数, inc (dec) 回数, capacity で正しく動作するようにせよ\n",
        "* ヒント: decをしようとして値が0だった際に待つための条件変数をもう一つ用意する"
      ]
    },
    {
      "cell_type": "code",
      "metadata": {
        "kernel": "Python 3 (ipykernel)",
        "nbgrader": {
          "grade": true,
          "grade_id": "p-014",
          "locked": false,
          "schema_version": 3,
          "solution": true,
          "task": false,
          "points": 1
        }
      },
      "source": [
        "BEGIN SOLUTION\n",
        "END SOLUTION\n",
        "%%writefile tcounter.c\n",
        "/* 注: このプログラムはOMP_NUM_THREADSを使わずにコマンドラインで受け取った引数でスレッド数を決めている(#pragma omp parallel num_threads(...)) */\n",
        "\n",
        "#include <assert.h>\n",
        "#include <stdio.h>\n",
        "#include <stdlib.h>\n",
        "#include <pthread.h>\n",
        "#include <omp.h>\n",
        "\n",
        "void die(char * msg) {\n",
        "  perror(msg);\n",
        "  exit(1);\n",
        "}\n",
        "\n",
        "double cur_time() {\n",
        "  struct timespec ts[1];\n",
        "  clock_gettime(CLOCK_REALTIME, ts);\n",
        "  return ts->tv_sec + ts->tv_nsec * 1.0e-9;\n",
        "}\n",
        "\n",
        "/* 飽和カウンタ */\n",
        "typedef struct {\n",
        "  long x;\n",
        "  long capacity;\n",
        "  pthread_mutex_t m[1];\n",
        "} scounter_t;\n",
        "\n",
        "/* 初期化(値を0にする) */\n",
        "void scounter_init(scounter_t * s, long capacity) {\n",
        "  s->x = 0;\n",
        "  s->capacity = capacity;\n",
        "  if (pthread_mutex_init(s->m, 0)) {\n",
        "    die(\"pthread_mutex_init\");\n",
        "  }\n",
        "}\n",
        "\n",
        "/* +1 ただしcapacityに達していたら待つ */\n",
        "long scounter_inc(scounter_t * s) {\n",
        "  pthread_mutex_lock(s->m);\n",
        "  long x = s->x;\n",
        "  s->x = x + 1;\n",
        "  pthread_mutex_unlock(s->m);\n",
        "  assert(x < s->capacity);\n",
        "  return x;\n",
        "}\n",
        "\n",
        "/* -1 */\n",
        "long scounter_dec(scounter_t * s) {\n",
        "  pthread_mutex_lock(s->m);\n",
        "  long x = s->x;\n",
        "  s->x = x - 1;\n",
        "  pthread_mutex_unlock(s->m);\n",
        "  return x;\n",
        "}\n",
        "\n",
        "/* 現在の値を返す */\n",
        "long scounter_get(scounter_t * s) {\n",
        "  return s->x;\n",
        "}\n",
        "\n",
        "int main(int argc, char ** argv) {\n",
        "  int i = 1;\n",
        "  /* incを呼ぶスレッド数 */\n",
        "  int n_inc_threads = (argc > i ? atoi(argv[i]) : 3); i++;\n",
        "  /* decを呼ぶスレッド数 */\n",
        "  int n_dec_threads = (argc > i ? atoi(argv[i]) : 2); i++;\n",
        "  /* incとdecが呼ばれる回数(全スレッドの合計) */\n",
        "  long n            = (argc > i ? atol(argv[i]) : 10000); i++;\n",
        "  /* 飽和する値 */\n",
        "  long capacity     = (argc > i ? atol(argv[i]) : 10000); i++;\n",
        "  \n",
        "  scounter_t s[1];\n",
        "  scounter_init(s, capacity);\n",
        "\n",
        "  printf(\"increment threads : %d\\n\", n_inc_threads);\n",
        "  printf(\"decrement threads : %d\\n\", n_dec_threads);\n",
        "  printf(\"increments/decrements : %ld\\n\", n);\n",
        "  printf(\"capacity : %ld\\n\", capacity);\n",
        "  \n",
        "  double t0 = cur_time();\n",
        "#pragma omp parallel num_threads(n_inc_threads + n_dec_threads)\n",
        "  {\n",
        "    int idx = omp_get_thread_num();\n",
        "    if (idx < n_inc_threads) {\n",
        "      /* increment */\n",
        "      long a = n *  idx      / n_inc_threads;\n",
        "      long b = n * (idx + 1) / n_inc_threads;\n",
        "      for (long i = a; i < b; i++) {\n",
        "        long x = scounter_inc(s);\n",
        "        assert(x < capacity);\n",
        "        assert(x >= 0);\n",
        "      }\n",
        "    } else {\n",
        "      /* decrement */\n",
        "      idx -= n_dec_threads;\n",
        "      long a = n *  idx      / n_dec_threads;\n",
        "      long b = n * (idx + 1) / n_dec_threads;\n",
        "      for (long i = a; i < b; i++) {\n",
        "        long x = scounter_dec(s);\n",
        "        assert(x <= capacity);\n",
        "        assert(x > 0);\n",
        "      }\n",
        "    }\n",
        "  }\n",
        "  double t1 = cur_time();\n",
        "  printf(\"took %.9f sec\\n\", t1 - t0);\n",
        "  long x = scounter_get(s);\n",
        "  printf(\"%s : value at the end = %ld\\n\", (x == 0? \"OK\" : \"NG\"), x);\n",
        "  return (x == 0 ? 0 : 1);\n",
        "}"
      ],
      "execution_count": null,
      "outputs": []
    },
    {
      "cell_type": "code",
      "metadata": {
        "kernel": "Bash",
        "nbgrader": {
          "grade": true,
          "grade_id": "p-015",
          "locked": false,
          "schema_version": 3,
          "solution": true,
          "task": false,
          "points": 1
        }
      },
      "source": [
        "BEGIN SOLUTION\n",
        "END SOLUTION\n",
        "gcc -Wall -fopenmp -o tcounter tcounter.c"
      ],
      "execution_count": null,
      "outputs": []
    },
    {
      "cell_type": "code",
      "metadata": {
        "kernel": "Python 3 (ipykernel)",
        "nbgrader": {
          "grade": false,
          "grade_id": "c-042",
          "locked": true,
          "schema_version": 3,
          "solution": false,
          "task": false
        }
      },
      "source": [
        "%%writefile tcounter_ans.c\n",
        "/* 注: このプログラムはOMP_NUM_THREADSを使わずにコマンドラインで受け取った引数でスレッド数を決めている(#pragma omp parallel num_threads(...)) */\n",
        "\n",
        "#include <assert.h>\n",
        "#include <stdio.h>\n",
        "#include <stdlib.h>\n",
        "#include <pthread.h>\n",
        "#include <omp.h>\n",
        "\n",
        "void die(char * msg) {\n",
        "  perror(msg);\n",
        "  exit(1);\n",
        "}\n",
        "\n",
        "double cur_time() {\n",
        "  struct timespec ts[1];\n",
        "  clock_gettime(CLOCK_REALTIME, ts);\n",
        "  return ts->tv_sec + ts->tv_nsec * 1.0e-9;\n",
        "}\n",
        "\n",
        "/* 飽和カウンタ */\n",
        "typedef struct {\n",
        "  long x;\n",
        "  long capacity;\n",
        "  pthread_mutex_t m[1];\n",
        "  pthread_cond_t c[1];\n",
        "  pthread_cond_t d[1];\n",
        "} scounter_t;\n",
        "\n",
        "/* 初期化(値を0にする) */\n",
        "void scounter_init(scounter_t * s, long capacity) {\n",
        "  s->x = 0;\n",
        "  s->capacity = capacity;\n",
        "  if (pthread_mutex_init(s->m, 0)) {\n",
        "    die(\"pthread_mutex_init\");\n",
        "  }\n",
        "  if (pthread_cond_init(s->c, 0)) {\n",
        "    die(\"pthread_cond_init\");\n",
        "  }\n",
        "  if (pthread_cond_init(s->d, 0)) {\n",
        "    die(\"pthread_cond_init\");\n",
        "  }\n",
        "}\n",
        "\n",
        "/* +1 ただしcapacityに達していたら待つ */\n",
        "long scounter_inc(scounter_t * s) {\n",
        "  pthread_mutex_lock(s->m);\n",
        "  long x = s->x;\n",
        "  while (x >= s->capacity) {\n",
        "    assert(x == s->capacity);\n",
        "    pthread_cond_wait(s->c, s->m);\n",
        "    x = s->x;\n",
        "  }\n",
        "  s->x = x + 1;\n",
        "  if (x <= 0) {\n",
        "    assert(x == 0);\n",
        "    pthread_cond_broadcast(s->d);\n",
        "  }\n",
        "  pthread_mutex_unlock(s->m);\n",
        "  assert(x < s->capacity);\n",
        "  return x;\n",
        "}\n",
        "\n",
        "/* -1 */\n",
        "long scounter_dec(scounter_t * s) {\n",
        "  pthread_mutex_lock(s->m);\n",
        "  long x = s->x;\n",
        "  while (x <= 0) {\n",
        "    assert(x == 0);\n",
        "    pthread_cond_wait(s->d, s->m);\n",
        "    x = s->x;\n",
        "  }\n",
        "  s->x = x - 1;\n",
        "  if (x >= s->capacity) {\n",
        "    assert(x == s->capacity);\n",
        "    pthread_cond_broadcast(s->c);\n",
        "  }\n",
        "  pthread_mutex_unlock(s->m);\n",
        "  return x;\n",
        "}\n",
        "\n",
        "/* 現在の値を返す */\n",
        "long scounter_get(scounter_t * s) {\n",
        "  return s->x;\n",
        "}\n",
        "\n",
        "int main(int argc, char ** argv) {\n",
        "  int i = 1;\n",
        "  /* incを呼ぶスレッド数 */\n",
        "  int n_inc_threads = (argc > i ? atoi(argv[i]) : 3); i++;\n",
        "  /* decを呼ぶスレッド数 */\n",
        "  int n_dec_threads = (argc > i ? atoi(argv[i]) : 2); i++;\n",
        "  /* incとdecが呼ばれる回数(全スレッドの合計) */\n",
        "  long n            = (argc > i ? atol(argv[i]) : 10000); i++;\n",
        "  /* 飽和する値 */\n",
        "  long capacity     = (argc > i ? atol(argv[i]) : 10000); i++;\n",
        "  \n",
        "  scounter_t s[1];\n",
        "  scounter_init(s, capacity);\n",
        "\n",
        "  printf(\"increment threads : %d\\n\", n_inc_threads);\n",
        "  printf(\"decrement threads : %d\\n\", n_dec_threads);\n",
        "  printf(\"increments/decrements : %ld\\n\", n);\n",
        "  printf(\"capacity : %ld\\n\", capacity);\n",
        "  \n",
        "  double t0 = cur_time();\n",
        "#pragma omp parallel num_threads(n_inc_threads + n_dec_threads)\n",
        "  {\n",
        "    int idx = omp_get_thread_num();\n",
        "    if (idx < n_inc_threads) {\n",
        "      /* increment */\n",
        "      long a = n *  idx      / n_inc_threads;\n",
        "      long b = n * (idx + 1) / n_inc_threads;\n",
        "      for (long i = a; i < b; i++) {\n",
        "        long x = scounter_inc(s);\n",
        "        assert(x < capacity);\n",
        "        assert(x >= 0);\n",
        "      }\n",
        "    } else {\n",
        "      /* decrement */\n",
        "      idx -= n_dec_threads;\n",
        "      long a = n *  idx      / n_dec_threads;\n",
        "      long b = n * (idx + 1) / n_dec_threads;\n",
        "      for (long i = a; i < b; i++) {\n",
        "        long x = scounter_dec(s);\n",
        "        assert(x <= capacity);\n",
        "        assert(x > 0);\n",
        "      }\n",
        "    }\n",
        "  }\n",
        "  double t1 = cur_time();\n",
        "  printf(\"took %.9f sec\\n\", t1 - t0);\n",
        "  long x = scounter_get(s);\n",
        "  printf(\"%s : value at the end = %ld\\n\", (x == 0? \"OK\" : \"NG\"), x);\n",
        "  return (x == 0 ? 0 : 1);\n",
        "}"
      ],
      "execution_count": null,
      "outputs": []
    },
    {
      "cell_type": "code",
      "metadata": {
        "kernel": "Bash",
        "nbgrader": {
          "grade": false,
          "grade_id": "c-043",
          "locked": true,
          "schema_version": 3,
          "solution": false,
          "task": false
        }
      },
      "source": [
        "gcc -Wall -fopenmp -o tcounter_ans tcounter_ans.c"
      ],
      "execution_count": null,
      "outputs": []
    },
    {
      "cell_type": "code",
      "metadata": {
        "kernel": "Bash",
        "nbgrader": {
          "grade": true,
          "grade_id": "p-016",
          "locked": false,
          "schema_version": 3,
          "solution": true,
          "task": false,
          "points": 1
        }
      },
      "source": [
        "BEGIN SOLUTION\n",
        "END SOLUTION\n",
        "./tcounter 1 1 100000 1"
      ],
      "execution_count": null,
      "outputs": []
    },
    {
      "cell_type": "code",
      "metadata": {
        "kernel": "Bash",
        "nbgrader": {
          "grade": false,
          "grade_id": "c-044",
          "locked": false,
          "schema_version": 3,
          "solution": false,
          "task": false
        }
      },
      "source": [
        "./tcounter_ans 1 1 100000 1"
      ],
      "execution_count": null,
      "outputs": []
    },
    {
      "cell_type": "code",
      "metadata": {
        "kernel": "Bash",
        "nbgrader": {
          "grade": true,
          "grade_id": "p-017",
          "locked": false,
          "schema_version": 3,
          "solution": true,
          "task": false,
          "points": 1
        }
      },
      "source": [
        "BEGIN SOLUTION\n",
        "END SOLUTION\n",
        "./tcounter 1 1 100000 1000"
      ],
      "execution_count": null,
      "outputs": []
    },
    {
      "cell_type": "code",
      "metadata": {
        "kernel": "Bash",
        "nbgrader": {
          "grade": false,
          "grade_id": "c-045",
          "locked": false,
          "schema_version": 3,
          "solution": false,
          "task": false
        }
      },
      "source": [
        "./tcounter_ans 1 1 100000 1000"
      ],
      "execution_count": null,
      "outputs": []
    },
    {
      "cell_type": "code",
      "metadata": {
        "kernel": "Bash",
        "nbgrader": {
          "grade": true,
          "grade_id": "p-018",
          "locked": false,
          "schema_version": 3,
          "solution": true,
          "task": false,
          "points": 1
        }
      },
      "source": [
        "BEGIN SOLUTION\n",
        "END SOLUTION\n",
        "./tcounter 10 1 100000 1000"
      ],
      "execution_count": null,
      "outputs": []
    },
    {
      "cell_type": "code",
      "metadata": {
        "kernel": "Bash",
        "nbgrader": {
          "grade": false,
          "grade_id": "c-046",
          "locked": false,
          "schema_version": 3,
          "solution": false,
          "task": false
        }
      },
      "source": [
        "./tcounter_ans 10 1 100000 1000"
      ],
      "execution_count": null,
      "outputs": []
    },
    {
      "cell_type": "code",
      "metadata": {
        "kernel": "Bash",
        "nbgrader": {
          "grade": true,
          "grade_id": "p-019",
          "locked": false,
          "schema_version": 3,
          "solution": true,
          "task": false,
          "points": 1
        }
      },
      "source": [
        "BEGIN SOLUTION\n",
        "END SOLUTION\n",
        "./tcounter 1 10 100000 1000"
      ],
      "execution_count": null,
      "outputs": []
    },
    {
      "cell_type": "code",
      "metadata": {
        "kernel": "Bash",
        "nbgrader": {
          "grade": false,
          "grade_id": "c-047",
          "locked": false,
          "schema_version": 3,
          "solution": false,
          "task": false
        }
      },
      "source": [
        "./tcounter_ans 1 10 100000 1000"
      ],
      "execution_count": null,
      "outputs": []
    },
    {
      "cell_type": "code",
      "metadata": {
        "kernel": "Bash",
        "nbgrader": {
          "grade": true,
          "grade_id": "p-020",
          "locked": false,
          "schema_version": 3,
          "solution": true,
          "task": false,
          "points": 1
        }
      },
      "source": [
        "BEGIN SOLUTION\n",
        "END SOLUTION\n",
        "./tcounter 10 10 1000000 1000"
      ],
      "execution_count": null,
      "outputs": []
    },
    {
      "cell_type": "code",
      "metadata": {
        "kernel": "Bash",
        "nbgrader": {
          "grade": false,
          "grade_id": "c-048",
          "locked": false,
          "schema_version": 3,
          "solution": false,
          "task": false
        }
      },
      "source": [
        "./tcounter_ans 10 10 1000000 1000"
      ],
      "execution_count": null,
      "outputs": []
    },
    {
      "cell_type": "markdown",
      "metadata": {
        "kernel": "SoS",
        "nbgrader": {
          "grade": false,
          "grade_id": "c-049",
          "locked": true,
          "schema_version": 3,
          "solution": false,
          "task": false
        }
      },
      "source": [
        "# <font color=\"green\"> Problem 4 :  両側飽和カウンタ (Python)</font>",
        "\n",
        "* Pythonで同じことを行え"
      ]
    },
    {
      "cell_type": "code",
      "metadata": {
        "kernel": "Python 3 (ipykernel)",
        "nbgrader": {
          "grade": true,
          "grade_id": "p-021",
          "locked": false,
          "schema_version": 3,
          "solution": true,
          "task": false,
          "points": 1
        }
      },
      "source": [
        "BEGIN SOLUTION\n",
        "END SOLUTION\n",
        "%%writefile tcounter.py\n",
        "import sys\n",
        "import threading\n",
        "import time\n",
        "\n",
        "class scounter:\n",
        "    \"\"\"\n",
        "    飽和カウンタ\n",
        "    \"\"\"\n",
        "    def __init__(self, capacity):\n",
        "        self.x = 0\n",
        "        self.capacity = capacity\n",
        "        self.m = threading.Lock()\n",
        "    def inc(self):\n",
        "        self.m.acquire()\n",
        "        x = self.x\n",
        "        self.x = x + 1\n",
        "        self.m.release()\n",
        "        return x\n",
        "    def dec(self):\n",
        "        self.m.acquire()\n",
        "        x = self.x\n",
        "        self.x = x - 1\n",
        "        self.m.release()\n",
        "        return x\n",
        "    def get(self):\n",
        "        return self.x\n",
        "\n",
        "def main():\n",
        "    argv = sys.argv\n",
        "    # incを呼ぶスレッド数 \n",
        "    n_inc_threads = int(argv[1]) if 1 < len(argv) else 3\n",
        "    # decを呼ぶスレッド数 \n",
        "    n_dec_threads = int(argv[2]) if 2 < len(argv) else 2\n",
        "    # incとdecが呼ばれる回数(全スレッドの合計)\n",
        "    n             = int(argv[3]) if 3 < len(argv) else 10000\n",
        "    # 飽和する値\n",
        "    capacity      = int(argv[4]) if 4 < len(argv) else 10000\n",
        "    s = scounter(capacity)\n",
        "    print(f\"increment threads : {n_inc_threads}\")\n",
        "    print(f\"decrement threads : {n_dec_threads}\")\n",
        "    print(f\"increments/decrements : {n}\")\n",
        "    print(f\"capacity : {capacity}\")\n",
        "    def inc_thread_fun(idx):\n",
        "        # increment\n",
        "        a = n *  idx      // n_inc_threads\n",
        "        b = n * (idx + 1) // n_inc_threads\n",
        "        for i in range(a, b):\n",
        "            x = s.inc()\n",
        "            assert(x < capacity), (x, capacity)\n",
        "            assert(x >= 0), x\n",
        "    def dec_thread_fun(idx):\n",
        "        a = n *  idx      // n_dec_threads;\n",
        "        b = n * (idx + 1) // n_dec_threads;\n",
        "        for i in range(a, b):\n",
        "            x = s.dec()\n",
        "            assert(x <= capacity), (x, capacity)\n",
        "            assert(x > 0), x\n",
        "    inc_threads = [threading.Thread(target=inc_thread_fun, args=(i,)) for i in range(n_inc_threads)]\n",
        "    dec_threads = [threading.Thread(target=dec_thread_fun, args=(i,)) for i in range(n_dec_threads)]\n",
        "    t0 = time.time()\n",
        "    for th in inc_threads + dec_threads:\n",
        "        th.start()\n",
        "    for th in inc_threads + dec_threads:\n",
        "        th.join()\n",
        "    t1 = time.time()\n",
        "    dt = t1 - t0\n",
        "    print(f\"took {dt:.9f} sec\")\n",
        "    x = s.get()\n",
        "    ok_ng = \"OK\" if x == 0 else \"NG\"\n",
        "    print(f\"{ok_ng} : value at the end = {x}\")\n",
        "    return x != 0\n",
        "    \n",
        "sys.exit(main())\n",
        ""
      ],
      "execution_count": null,
      "outputs": []
    },
    {
      "cell_type": "code",
      "metadata": {
        "kernel": "Python 3 (ipykernel)",
        "nbgrader": {
          "grade": false,
          "grade_id": "c-050",
          "locked": true,
          "schema_version": 3,
          "solution": false,
          "task": false
        }
      },
      "source": [
        "%%writefile tcounter_ans.py\n",
        "import sys\n",
        "import threading\n",
        "import time\n",
        "\n",
        "class scounter:\n",
        "    \"\"\"\n",
        "    飽和カウンタ\n",
        "    \"\"\"\n",
        "    def __init__(self, capacity):\n",
        "        self.x = 0\n",
        "        self.capacity = capacity\n",
        "        self.m = threading.Lock()\n",
        "        self.c = threading.Condition(self.m)\n",
        "        self.d = threading.Condition(self.m)\n",
        "    def inc(self):\n",
        "        self.m.acquire()\n",
        "        x = self.x\n",
        "        while x >= self.capacity:\n",
        "            assert(x == self.capacity), (x, self.capacity)\n",
        "            self.c.wait()\n",
        "            x = self.x\n",
        "        self.x = x + 1\n",
        "        if x <= 0:\n",
        "            assert(x == 0), x\n",
        "            self.d.notify_all()\n",
        "        self.m.release()\n",
        "        return x\n",
        "    def dec(self):\n",
        "        self.m.acquire()\n",
        "        x = self.x\n",
        "        while x <= 0:\n",
        "            assert(x == 0), x\n",
        "            self.d.wait()\n",
        "            x = self.x\n",
        "        self.x = x - 1\n",
        "        if x >= self.capacity:\n",
        "            assert(x == self.capacity), (x, self.capacity)\n",
        "            self.c.notify_all()\n",
        "        self.m.release()\n",
        "        return x\n",
        "    def get(self):\n",
        "        return self.x\n",
        "\n",
        "def main():\n",
        "    argv = sys.argv\n",
        "    # incを呼ぶスレッド数 \n",
        "    n_inc_threads = int(argv[1]) if 1 < len(argv) else 3\n",
        "    # decを呼ぶスレッド数 \n",
        "    n_dec_threads = int(argv[2]) if 2 < len(argv) else 2\n",
        "    # incとdecが呼ばれる回数(全スレッドの合計)\n",
        "    n             = int(argv[3]) if 3 < len(argv) else 10000\n",
        "    # 飽和する値\n",
        "    capacity      = int(argv[4]) if 4 < len(argv) else 10000\n",
        "    s = scounter(capacity)\n",
        "    print(f\"increment threads : {n_inc_threads}\")\n",
        "    print(f\"decrement threads : {n_dec_threads}\")\n",
        "    print(f\"increments/decrements : {n}\")\n",
        "    print(f\"capacity : {capacity}\")\n",
        "    def inc_thread_fun(idx):\n",
        "        # increment\n",
        "        a = n *  idx      // n_inc_threads\n",
        "        b = n * (idx + 1) // n_inc_threads\n",
        "        for i in range(a, b):\n",
        "            x = s.inc()\n",
        "            assert(x < capacity), (x, capacity)\n",
        "            assert(x >= 0), x\n",
        "    def dec_thread_fun(idx):\n",
        "        a = n *  idx      // n_dec_threads;\n",
        "        b = n * (idx + 1) // n_dec_threads;\n",
        "        for i in range(a, b):\n",
        "            x = s.dec()\n",
        "            assert(x <= capacity), (x, capacity)\n",
        "            assert(x > 0), x\n",
        "    inc_threads = [threading.Thread(target=inc_thread_fun, args=(i,)) for i in range(n_inc_threads)]\n",
        "    dec_threads = [threading.Thread(target=dec_thread_fun, args=(i,)) for i in range(n_dec_threads)]\n",
        "    t0 = time.time()\n",
        "    for th in inc_threads + dec_threads:\n",
        "        th.start()\n",
        "    for th in inc_threads + dec_threads:\n",
        "        th.join()\n",
        "    t1 = time.time()\n",
        "    dt = t1 - t0\n",
        "    print(f\"took {dt:.9f} sec\")\n",
        "    x = s.get()\n",
        "    ok_ng = \"OK\" if x == 0 else \"NG\"\n",
        "    print(f\"{ok_ng} : value at the end = {x}\")\n",
        "    return x != 0\n",
        "    \n",
        "sys.exit(main())\n",
        ""
      ],
      "execution_count": null,
      "outputs": []
    },
    {
      "cell_type": "code",
      "metadata": {
        "kernel": "Bash",
        "nbgrader": {
          "grade": true,
          "grade_id": "p-022",
          "locked": false,
          "schema_version": 3,
          "solution": true,
          "task": false,
          "points": 1
        }
      },
      "source": [
        "BEGIN SOLUTION\n",
        "END SOLUTION\n",
        "python3 tcounter.py 1 1 100000 1"
      ],
      "execution_count": null,
      "outputs": []
    },
    {
      "cell_type": "code",
      "metadata": {
        "kernel": "Bash",
        "nbgrader": {
          "grade": false,
          "grade_id": "c-051",
          "locked": false,
          "schema_version": 3,
          "solution": false,
          "task": false
        }
      },
      "source": [
        "python3 tcounter_ans.py 1 1 100000 1"
      ],
      "execution_count": null,
      "outputs": []
    },
    {
      "cell_type": "code",
      "metadata": {
        "kernel": "Bash",
        "nbgrader": {
          "grade": true,
          "grade_id": "p-023",
          "locked": false,
          "schema_version": 3,
          "solution": true,
          "task": false,
          "points": 1
        }
      },
      "source": [
        "BEGIN SOLUTION\n",
        "END SOLUTION\n",
        "python3 tcounter.py 1 1 100000 1000"
      ],
      "execution_count": null,
      "outputs": []
    },
    {
      "cell_type": "code",
      "metadata": {
        "kernel": "Bash",
        "nbgrader": {
          "grade": false,
          "grade_id": "c-052",
          "locked": false,
          "schema_version": 3,
          "solution": false,
          "task": false
        }
      },
      "source": [
        "python3 tcounter_ans.py 1 1 100000 1000"
      ],
      "execution_count": null,
      "outputs": []
    },
    {
      "cell_type": "code",
      "metadata": {
        "kernel": "Bash",
        "nbgrader": {
          "grade": true,
          "grade_id": "p-024",
          "locked": false,
          "schema_version": 3,
          "solution": true,
          "task": false,
          "points": 1
        }
      },
      "source": [
        "BEGIN SOLUTION\n",
        "END SOLUTION\n",
        "python3 tcounter.py 10 1 100000 1000"
      ],
      "execution_count": null,
      "outputs": []
    },
    {
      "cell_type": "code",
      "metadata": {
        "kernel": "Bash",
        "nbgrader": {
          "grade": false,
          "grade_id": "c-053",
          "locked": false,
          "schema_version": 3,
          "solution": false,
          "task": false
        }
      },
      "source": [
        "python3 tcounter_ans.py 10 1 100000 1000"
      ],
      "execution_count": null,
      "outputs": []
    },
    {
      "cell_type": "code",
      "metadata": {
        "kernel": "Bash",
        "nbgrader": {
          "grade": true,
          "grade_id": "p-025",
          "locked": false,
          "schema_version": 3,
          "solution": true,
          "task": false,
          "points": 1
        }
      },
      "source": [
        "BEGIN SOLUTION\n",
        "END SOLUTION\n",
        "python3 tcounter.py 1 10 100000 1000"
      ],
      "execution_count": null,
      "outputs": []
    },
    {
      "cell_type": "code",
      "metadata": {
        "kernel": "Bash",
        "nbgrader": {
          "grade": false,
          "grade_id": "c-054",
          "locked": false,
          "schema_version": 3,
          "solution": false,
          "task": false
        }
      },
      "source": [
        "python3 tcounter_ans.py 1 10 100000 1000"
      ],
      "execution_count": null,
      "outputs": []
    },
    {
      "cell_type": "code",
      "metadata": {
        "kernel": "Bash",
        "nbgrader": {
          "grade": true,
          "grade_id": "p-026",
          "locked": false,
          "schema_version": 3,
          "solution": true,
          "task": false,
          "points": 1
        }
      },
      "source": [
        "BEGIN SOLUTION\n",
        "END SOLUTION\n",
        "python3 tcounter.py 10 10 1000000 1000"
      ],
      "execution_count": null,
      "outputs": []
    },
    {
      "cell_type": "code",
      "metadata": {
        "kernel": "Bash",
        "nbgrader": {
          "grade": false,
          "grade_id": "c-055",
          "locked": false,
          "schema_version": 3,
          "solution": false,
          "task": false
        }
      },
      "source": [
        "python3 tcounter_ans.py 10 10 1000000 1000"
      ],
      "execution_count": null,
      "outputs": []
    },
    {
      "cell_type": "markdown",
      "metadata": {
        "kernel": "SoS",
        "nbgrader": {
          "grade": false,
          "grade_id": "c-056",
          "locked": true,
          "schema_version": 3,
          "solution": false,
          "task": false
        }
      },
      "source": [
        "# 3. 有限バッファ",
        "\n",
        "* 有限バッファは, 固定長の配列で, スレッド間でデータを受け渡すためのデータ構造\n",
        "\n",
        "## 3-1. Cの有限バッファ",
        "* APIは\n",
        "  * bounded_buffer_t bb[1];\n",
        "  * bounded_buffer_init(bb, capacity);\n",
        "  * bounded_buffer_put(bb, x);\n",
        "  * long x = bounded_buffer_get(bb);\n",
        "* capacityは保持できるデータ数(= putされて, まだgetされていないデータ数)\n",
        "* capacity個のデータが既に保持されているときにputされたら, getされるまで待つ\n",
        "* 1個もデータがないときにgetされたら, putされるまで待つ\n",
        "という動作をする\n",
        "\n",
        "以下は未完成版で,\n",
        "* capacity個のデータが既に保持されているときにputされたら, 0を返す(そうでなければ1を返す)\n",
        "* 1個もデータがないときにgetされたら, -1を返す (putするデータ(従ってgetされるデータ)は0以上とする)\n",
        "という動作をする"
      ]
    },
    {
      "cell_type": "code",
      "metadata": {
        "kernel": "Python 3 (ipykernel)",
        "nbgrader": {
          "grade": false,
          "grade_id": "c-057",
          "locked": false,
          "schema_version": 3,
          "solution": false,
          "task": false
        }
      },
      "source": [
        "%%writefile bbuf.c\n",
        "#include <assert.h>\n",
        "#include <stdio.h>\n",
        "#include <stdlib.h>\n",
        "#include <time.h>\n",
        "#include <unistd.h>\n",
        "#include <omp.h>\n",
        "#include <pthread.h>\n",
        "\n",
        "void die(const char * msg) {\n",
        "  perror(msg); exit(1);\n",
        "}\n",
        "\n",
        "double cur_time() {\n",
        "  struct timespec ts[1];\n",
        "  clock_gettime(CLOCK_REALTIME, ts);\n",
        "  return ts->tv_nsec * 1.0E-9 + ts->tv_sec;\n",
        "}\n",
        "\n",
        "/* 有限バッファ\n",
        "   要素は必ず >= 0 とする */\n",
        "typedef struct {\n",
        "  long n_gets;                  /* getされた回数 */\n",
        "  long n_puts;                  /* putされた回数 */\n",
        "  long capacity;                /* 容量 */\n",
        "  long * a;                     /* 中身(capacity要素の配列) */\n",
        "} bounded_buffer_t;\n",
        "\n",
        "/* 容量 capacity で初期化 */\n",
        "void bounded_buffer_init(bounded_buffer_t * bb, long capacity) {\n",
        "  long * a = (long *)malloc(sizeof(long) * capacity);\n",
        "  if (!a) die(\"malloc\");\n",
        "  bb->a = a;\n",
        "  bb->capacity = capacity;\n",
        "  bb->n_gets = 0;\n",
        "  bb->n_puts = 0;\n",
        "}\n",
        "\n",
        "/* 要素を追加 \n",
        " * 満杯だったら待つようにするのが課題\n",
        " * 以下はそのままだと満杯の場合は0を返す(間違い)\n",
        " */\n",
        "int bounded_buffer_put(bounded_buffer_t * bb, long x) {\n",
        "  long g = bb->n_gets;\n",
        "  long p = bb->n_puts;\n",
        "  long cap = bb->capacity;\n",
        "  assert(x >= 0);\n",
        "  if (p - g >= cap) {\n",
        "    return 0;                   /* NG */\n",
        "  }\n",
        "  bb->a[p % cap] = x;\n",
        "  bb->n_puts = p + 1;\n",
        "  return 1;                     /* OK */\n",
        "}\n",
        "\n",
        "/* 要素を取り出す\n",
        " * 空だったら待つようにするのが課題\n",
        " * 以下はそのままだと空の場合は-1を返す(間違い)\n",
        " */\n",
        "long bounded_buffer_get(bounded_buffer_t * bb) {\n",
        "  long g = bb->n_gets;\n",
        "  long p = bb->n_puts;\n",
        "  long cap = bb->capacity;\n",
        "  if (p - g <= 0) {\n",
        "    return -1;                  /* 空 */\n",
        "  }\n",
        "  long x = bb->a[g % cap];\n",
        "  bb->n_gets = g + 1;\n",
        "  assert(x >= 0);\n",
        "  return x;\n",
        "}\n",
        "\n",
        "int main(int argc, char ** argv) {\n",
        "  long i = 1;\n",
        "  /* putするスレッド数 */\n",
        "  int n_putter_threads = (argc > i ? atoi(argv[i]) : 1); i++;\n",
        "  /* getするスレッド数 */\n",
        "  int n_getter_threads = (argc > i ? atoi(argv[i]) : 1); i++;\n",
        "  /* putとgetの間にbarrierを入れるか? */\n",
        "  int barrier_between_puts_gets = (argc > i ? atoi(argv[i]) : 1); i++;\n",
        "  /* put (get)される回数 */\n",
        "  long n                = (argc > i ? atol(argv[i]) : 1000000); i++;\n",
        "  /* 容量 */\n",
        "  long capacity         = (argc > i ? atol(argv[i]) : 1000); i++;\n",
        "  /* 検証用(validate[x] == 1 iff getでxが取り出された) */\n",
        "  char * validate = (char *)calloc(n, 1);\n",
        "\n",
        "  bounded_buffer_t bb[1];\n",
        "  bounded_buffer_init(bb, capacity);\n",
        "\n",
        "  int nthreads = n_putter_threads + n_getter_threads;\n",
        "  pthread_barrier_t barrier[1];\n",
        "  pthread_barrier_init(barrier, 0, nthreads);\n",
        "\n",
        "  double t0 = cur_time();\n",
        "#pragma omp parallel num_threads(n_putter_threads + n_getter_threads)\n",
        "  {\n",
        "    int idx = omp_get_thread_num();\n",
        "    if (idx < n_putter_threads) {\n",
        "      /* I am a putter thread */\n",
        "      long a = n *  idx      / n_putter_threads;\n",
        "      long b = n * (idx + 1) / n_putter_threads;\n",
        "      /* 0,1,...,n-1 を1つずつput */\n",
        "      for (long x = a; x < b; x++) {\n",
        "        int ok = bounded_buffer_put(bb, x);\n",
        "        assert(ok);\n",
        "      }\n",
        "      if (barrier_between_puts_gets) {\n",
        "        /* putが全員終わってからget */\n",
        "        pthread_barrier_wait(barrier);\n",
        "      }\n",
        "    } else {\n",
        "      /* I am a getter thread */\n",
        "      idx -= n_putter_threads;\n",
        "      long a = n *  idx      / n_getter_threads;\n",
        "      long b = n * (idx + 1) / n_getter_threads;\n",
        "      if (barrier_between_puts_gets) {\n",
        "        /* putが全員終わってからget */\n",
        "        pthread_barrier_wait(barrier);\n",
        "      }\n",
        "      /* 合計n回get */\n",
        "      for (long x = a; x < b; x++) {\n",
        "        long x = bounded_buffer_get(bb);\n",
        "        assert(x >= 0);\n",
        "        assert(x < n);\n",
        "        assert(validate[x] == 0);\n",
        "        validate[x] = 1;\n",
        "      }\n",
        "    }\n",
        "  }\n",
        "  double t1 = cur_time();\n",
        "  printf(\"%f sec\\n\", t1 - t0);\n",
        "  for (long i = 0; i < n; i++) {\n",
        "    assert(validate[i]);\n",
        "  }\n",
        "  printf(\"OK\\n\");\n",
        "  return 0;\n",
        "}"
      ],
      "execution_count": null,
      "outputs": []
    },
    {
      "cell_type": "code",
      "metadata": {
        "kernel": "Bash",
        "nbgrader": {
          "grade": true,
          "grade_id": "p-027",
          "locked": false,
          "schema_version": 3,
          "solution": true,
          "task": false,
          "points": 1
        }
      },
      "source": [
        "BEGIN SOLUTION\n",
        "END SOLUTION\n",
        "gcc -Wall -fopenmp -o bbuf bbuf.c"
      ],
      "execution_count": null,
      "outputs": []
    },
    {
      "cell_type": "markdown",
      "metadata": {
        "kernel": "SoS",
        "nbgrader": {
          "grade": false,
          "grade_id": "c-058",
          "locked": true,
          "schema_version": 3,
          "solution": false,
          "task": false
        }
      },
      "source": [
        "```\n",
        "./bbuf put_threads get_threads sync_between_puts_and_gets n capacity\n",
        "```\n",
        " \n",
        "で起動されると\n",
        " * 容量は capacity のbuffer が作られる\n",
        " * put_threads 個のスレッドが作られ, putする\n",
        " * get_threads 個のスレッドが作られ, getする\n",
        " * sync_between_puts_and_gets == 0 の場合, putするスレッドとgetするスレッドも並行に動く. sync_between_puts_and_gets == 1の場合, putスレッドがすべてのデータをputし終えてからgetスレッドがgetを始める\n",
        " * 合計 n 個のデータが put (get) される\n",
        " \n",
        "与えれた未完成バージョンは以下の条件であれば動作する\n",
        " * put_threads == 1\n",
        " * get_threads == 1\n",
        " * sync_between_puts_and_gets == 1\n",
        " * capacity >= n"
      ]
    },
    {
      "cell_type": "code",
      "metadata": {
        "kernel": "Bash",
        "nbgrader": {
          "grade": true,
          "grade_id": "p-028",
          "locked": false,
          "schema_version": 3,
          "solution": true,
          "task": false,
          "points": 1
        }
      },
      "source": [
        "BEGIN SOLUTION\n",
        "END SOLUTION\n",
        "./bbuf 1 1 1 1000 1000"
      ],
      "execution_count": null,
      "outputs": []
    },
    {
      "cell_type": "markdown",
      "metadata": {
        "kernel": "SoS",
        "nbgrader": {
          "grade": false,
          "grade_id": "c-059",
          "locked": true,
          "schema_version": 3,
          "solution": false,
          "task": false
        }
      },
      "source": [
        "以下はどれもエラーになる\n",
        "\n",
        "* putとgetが並行"
      ]
    },
    {
      "cell_type": "code",
      "metadata": {
        "kernel": "Bash",
        "nbgrader": {
          "grade": true,
          "grade_id": "p-029",
          "locked": false,
          "schema_version": 3,
          "solution": true,
          "task": false,
          "points": 1
        }
      },
      "source": [
        "BEGIN SOLUTION\n",
        "END SOLUTION\n",
        "./bbuf 1 1 0 1000 1000"
      ],
      "execution_count": null,
      "outputs": []
    },
    {
      "cell_type": "markdown",
      "metadata": {
        "kernel": "SoS",
        "nbgrader": {
          "grade": false,
          "grade_id": "c-060",
          "locked": true,
          "schema_version": 3,
          "solution": false,
          "task": false
        }
      },
      "source": [
        "* 複数のputが並行"
      ]
    },
    {
      "cell_type": "code",
      "metadata": {
        "kernel": "Bash",
        "nbgrader": {
          "grade": true,
          "grade_id": "p-030",
          "locked": false,
          "schema_version": 3,
          "solution": true,
          "task": false,
          "points": 1
        }
      },
      "source": [
        "BEGIN SOLUTION\n",
        "END SOLUTION\n",
        "./bbuf 2 1 1 1000 1000"
      ],
      "execution_count": null,
      "outputs": []
    },
    {
      "cell_type": "markdown",
      "metadata": {
        "kernel": "SoS",
        "nbgrader": {
          "grade": false,
          "grade_id": "c-061",
          "locked": true,
          "schema_version": 3,
          "solution": false,
          "task": false
        }
      },
      "source": [
        "* 複数のgetが並行"
      ]
    },
    {
      "cell_type": "code",
      "metadata": {
        "kernel": "Bash",
        "nbgrader": {
          "grade": true,
          "grade_id": "p-031",
          "locked": false,
          "schema_version": 3,
          "solution": true,
          "task": false,
          "points": 1
        }
      },
      "source": [
        "BEGIN SOLUTION\n",
        "END SOLUTION\n",
        "./bbuf 1 2 1 1000 1000"
      ],
      "execution_count": null,
      "outputs": []
    },
    {
      "cell_type": "markdown",
      "metadata": {
        "kernel": "SoS",
        "nbgrader": {
          "grade": false,
          "grade_id": "c-062",
          "locked": true,
          "schema_version": 3,
          "solution": false,
          "task": false
        }
      },
      "source": [
        "* capacity < n"
      ]
    },
    {
      "cell_type": "code",
      "metadata": {
        "kernel": "Bash",
        "nbgrader": {
          "grade": true,
          "grade_id": "p-032",
          "locked": false,
          "schema_version": 3,
          "solution": true,
          "task": false,
          "points": 1
        }
      },
      "source": [
        "BEGIN SOLUTION\n",
        "END SOLUTION\n",
        "./bbuf 1 1 1 1000 100"
      ],
      "execution_count": null,
      "outputs": []
    },
    {
      "cell_type": "markdown",
      "metadata": {
        "kernel": "SoS",
        "nbgrader": {
          "grade": false,
          "grade_id": "c-063",
          "locked": true,
          "schema_version": 3,
          "solution": false,
          "task": false
        }
      },
      "source": [
        "## 3-2. Python の有限バッファ",
        "\n",
        "* APIは\n",
        "  * bb = bounded_buffer(capacity)\n",
        "  * bb.put(x)\n",
        "  * x = bb.get()\n",
        "\n",
        "以下は未完成版で,\n",
        "* capacity個のデータが既に保持されているときにputされたら, 0を返す(そうでなければ1を返す)\n",
        "* 1個もデータがないときにgetされたら, -1を返す (putするデータ(従ってgetされるデータ)は0以上とする)\n",
        "という動作をする"
      ]
    },
    {
      "cell_type": "code",
      "metadata": {
        "kernel": "Python 3 (ipykernel)",
        "nbgrader": {
          "grade": false,
          "grade_id": "c-064",
          "locked": false,
          "schema_version": 3,
          "solution": false,
          "task": false
        }
      },
      "source": [
        "%%writefile bbuf.py\n",
        "\n",
        "import sys\n",
        "import threading\n",
        "import time\n",
        "\n",
        "def parallel(f, nthreads):\n",
        "    \"\"\"\n",
        "    #pragma omp parallel に似たもの\n",
        "\n",
        "    f(0), f(1), ..., f(nthreads - 1) の各々をスレッドで実行\n",
        "    \"\"\"\n",
        "    threads = [threading.Thread(target=f, args=(i, ))\n",
        "               for i in range(nthreads)]\n",
        "    for th in threads:\n",
        "        th.start()\n",
        "    for th in threads:\n",
        "        th.join()\n",
        "\n",
        "def parallel_for(f, a, b, nthreads):\n",
        "    \"\"\"\n",
        "    #pragma omp parallel for に似たもの\n",
        "    f(a), f(a+1), ..., f(b-1) を nthreads で分割して実行\n",
        "    \"\"\"\n",
        "    def thread_fun(i):\n",
        "        ai = (a * (nthreads - i)     + b * i) // nthreads\n",
        "        bi = (a * (nthreads - i - 1) + b * (i + 1)) // nthreads\n",
        "        for i in range(ai, bi):\n",
        "            f(i)\n",
        "    parallel(thread_fun, nthreads)\n",
        "\n",
        "class bounded_buffer:\n",
        "    \"\"\"\n",
        "    有限バッファ\n",
        "    要素は必ず >= 0 とする\n",
        "    \"\"\"\n",
        "    def __init__(self, capacity):\n",
        "        self.a = [0] * capacity\n",
        "        self.capacity = capacity\n",
        "        self.n_gets = 0\n",
        "        self.n_puts = 0\n",
        "    def put(self, x):\n",
        "        \"\"\"\n",
        "        要素を追加 \n",
        "        満杯だったら待つようにするのが課題\n",
        "        以下はそのままだと満杯の場合は0を返す(間違い)\n",
        "        \"\"\"\n",
        "        g = self.n_gets\n",
        "        p = self.n_puts\n",
        "        cap = self.capacity\n",
        "        assert(x >= 0), x\n",
        "        if p - g >= cap:\n",
        "            return 0 # NG\n",
        "        self.a[p % cap] = x\n",
        "        self.n_puts = p + 1\n",
        "        return 1 # OK\n",
        "    def get(self):\n",
        "        \"\"\"\n",
        "        要素を取り出す\n",
        "        空だったら待つようにするのが課題\n",
        "        以下はそのままだと空の場合は-1を返す(間違い)\n",
        "        \"\"\"\n",
        "        g = self.n_gets\n",
        "        p = self.n_puts\n",
        "        cap = self.capacity\n",
        "        if p - g <= 0:\n",
        "            return -1 # 空 \n",
        "        x = self.a[g % cap]\n",
        "        self.n_gets = g + 1\n",
        "        assert(x >= 0), x\n",
        "        return x\n",
        "\n",
        "def main():\n",
        "    i = 1\n",
        "    argv = sys.argv\n",
        "    argc = len(argv)\n",
        "    # putするスレッド数\n",
        "    n_putter_threads = int(argv[i]) if i < argc else 1\n",
        "    i += 1\n",
        "    # getするスレッド数 \n",
        "    n_getter_threads = int(argv[i]) if i < argc else 1\n",
        "    i += 1\n",
        "    # putとgetの間にbarrierを入れるか?\n",
        "    barrier_between_puts_gets = int(argv[i]) if i < argc else 1\n",
        "    i += 1\n",
        "    # put (get)される回数\n",
        "    n                = int(argv[i]) if i < argc else 1000000\n",
        "    i += 1\n",
        "    # 容量\n",
        "    capacity         = int(argv[i]) if i < argc else 1000\n",
        "    i += 1\n",
        "    # 検証用(validate[x] == 1 iff getでxが取り出された)\n",
        "    validate = [0] * n\n",
        "    bb = bounded_buffer(capacity)\n",
        "    nthreads = n_putter_threads + n_getter_threads\n",
        "    barrier = threading.Barrier(nthreads)\n",
        "\n",
        "    def thread_fun(idx):\n",
        "        if idx < n_putter_threads:\n",
        "            # I am a putter thread\n",
        "            a = n *  idx      // n_putter_threads\n",
        "            b = n * (idx + 1) // n_putter_threads\n",
        "            # 0,1,...,n-1 を1つずつput\n",
        "            for x in range(a, b):\n",
        "                ok = bb.put(x)\n",
        "                assert(ok)\n",
        "            if barrier_between_puts_gets:\n",
        "                # putが全員終わってからget\n",
        "                barrier.wait()\n",
        "        else:\n",
        "            idx -= n_putter_threads\n",
        "            # I am a getter thread\n",
        "            a = n *  idx      // n_getter_threads\n",
        "            b = n * (idx + 1) // n_getter_threads\n",
        "            # 0,1,...,n-1 を1つずつget\n",
        "            if barrier_between_puts_gets:\n",
        "                # putが全員終わってからget\n",
        "                barrier.wait()\n",
        "            for i in range(a, b):\n",
        "                x = bb.get()\n",
        "                assert(x >= 0), x\n",
        "                assert(x < n), x\n",
        "                assert(validate[x] == 0), validate[x]\n",
        "                validate[x] = 1\n",
        "    t0 = time.time()\n",
        "    parallel(thread_fun, nthreads)\n",
        "    t1 = time.time()\n",
        "    dt = t1 - t0\n",
        "    print(f\"{dt} sec\")\n",
        "    for i in range(n):\n",
        "        assert(validate[i] == 1), validate[i]\n",
        "    print(\"OK\")\n",
        "    return 0\n",
        "\n",
        "sys.exit(main())\n",
        ""
      ],
      "execution_count": null,
      "outputs": []
    },
    {
      "cell_type": "markdown",
      "metadata": {
        "kernel": "SoS",
        "nbgrader": {
          "grade": false,
          "grade_id": "c-065",
          "locked": true,
          "schema_version": 3,
          "solution": false,
          "task": false
        }
      },
      "source": [
        "```\n",
        "python3 bbuf.py put_threads get_threads sync_between_puts_and_gets n capacity\n",
        "```\n",
        " \n",
        "で起動する. 動作はC版と同じ\n",
        "\n",
        "同様に, 未完成バージョンは以下の条件であれば動作する\n",
        " * put_threads == 1\n",
        " * get_threads == 1\n",
        " * sync_between_puts_and_gets == 1\n",
        " * capacity >= n"
      ]
    },
    {
      "cell_type": "code",
      "metadata": {
        "kernel": "Bash",
        "nbgrader": {
          "grade": true,
          "grade_id": "p-033",
          "locked": false,
          "schema_version": 3,
          "solution": true,
          "task": false,
          "points": 1
        }
      },
      "source": [
        "BEGIN SOLUTION\n",
        "END SOLUTION\n",
        "python3 bbuf.py 1 1 1 1000 1000"
      ],
      "execution_count": null,
      "outputs": []
    },
    {
      "cell_type": "markdown",
      "metadata": {
        "kernel": "SoS",
        "nbgrader": {
          "grade": false,
          "grade_id": "c-066",
          "locked": true,
          "schema_version": 3,
          "solution": false,
          "task": false
        }
      },
      "source": [
        "以下はどれもエラーになる\n",
        "\n",
        "* putとgetが並行"
      ]
    },
    {
      "cell_type": "code",
      "metadata": {
        "kernel": "Bash",
        "nbgrader": {
          "grade": true,
          "grade_id": "p-034",
          "locked": false,
          "schema_version": 3,
          "solution": true,
          "task": false,
          "points": 1
        }
      },
      "source": [
        "BEGIN SOLUTION\n",
        "END SOLUTION\n",
        "python3 bbuf.py 1 1 0 1000 1000"
      ],
      "execution_count": null,
      "outputs": []
    },
    {
      "cell_type": "markdown",
      "metadata": {
        "kernel": "SoS",
        "nbgrader": {
          "grade": false,
          "grade_id": "c-067",
          "locked": true,
          "schema_version": 3,
          "solution": false,
          "task": false
        }
      },
      "source": [
        "* 複数のputが並行"
      ]
    },
    {
      "cell_type": "code",
      "metadata": {
        "kernel": "Bash",
        "nbgrader": {
          "grade": true,
          "grade_id": "p-035",
          "locked": false,
          "schema_version": 3,
          "solution": true,
          "task": false,
          "points": 1
        }
      },
      "source": [
        "BEGIN SOLUTION\n",
        "END SOLUTION\n",
        "python3 bbuf.py 2 1 1 1000 1000"
      ],
      "execution_count": null,
      "outputs": []
    },
    {
      "cell_type": "markdown",
      "metadata": {
        "kernel": "SoS",
        "nbgrader": {
          "grade": false,
          "grade_id": "c-068",
          "locked": true,
          "schema_version": 3,
          "solution": false,
          "task": false
        }
      },
      "source": [
        "* 複数のgetが並行"
      ]
    },
    {
      "cell_type": "code",
      "metadata": {
        "kernel": "Bash",
        "nbgrader": {
          "grade": true,
          "grade_id": "p-036",
          "locked": false,
          "schema_version": 3,
          "solution": true,
          "task": false,
          "points": 1
        }
      },
      "source": [
        "BEGIN SOLUTION\n",
        "END SOLUTION\n",
        "python3 bbuf.py 1 2 1 1000 1000"
      ],
      "execution_count": null,
      "outputs": []
    },
    {
      "cell_type": "markdown",
      "metadata": {
        "kernel": "SoS",
        "nbgrader": {
          "grade": false,
          "grade_id": "c-069",
          "locked": true,
          "schema_version": 3,
          "solution": false,
          "task": false
        }
      },
      "source": [
        "* capacity < n"
      ]
    },
    {
      "cell_type": "code",
      "metadata": {
        "kernel": "Bash",
        "nbgrader": {
          "grade": true,
          "grade_id": "p-037",
          "locked": false,
          "schema_version": 3,
          "solution": true,
          "task": false,
          "points": 1
        }
      },
      "source": [
        "BEGIN SOLUTION\n",
        "END SOLUTION\n",
        "python3 bbuf.py 1 1 1 1000 100"
      ],
      "execution_count": null,
      "outputs": []
    },
    {
      "cell_type": "markdown",
      "metadata": {
        "kernel": "SoS",
        "nbgrader": {
          "grade": false,
          "grade_id": "c-070",
          "locked": true,
          "schema_version": 3,
          "solution": false,
          "task": false
        }
      },
      "source": [
        "# <font color=\"green\"> Problem 5 :  有限バッファの実装 (C)</font>"
      ]
    },
    {
      "cell_type": "markdown",
      "metadata": {
        "kernel": "SoS",
        "nbgrader": {
          "grade": false,
          "grade_id": "c-071",
          "locked": true,
          "schema_version": 3,
          "solution": false,
          "task": false
        }
      },
      "source": [
        "* 有限バッファへmutex, 条件変数を導入し, 複数のスレッドが並行に動き, capacity < n であっても正しく動くようにせよ\n",
        "* 構造は, 両側飽和カウンタとよく似ているので参考にせよ"
      ]
    },
    {
      "cell_type": "code",
      "metadata": {
        "kernel": "Python 3 (ipykernel)",
        "nbgrader": {
          "grade": true,
          "grade_id": "p-038",
          "locked": false,
          "schema_version": 3,
          "solution": true,
          "task": false,
          "points": 1
        }
      },
      "source": [
        "BEGIN SOLUTION\n",
        "END SOLUTION\n",
        "%%writefile bbuf.c\n",
        "#include <assert.h>\n",
        "#include <stdio.h>\n",
        "#include <stdlib.h>\n",
        "#include <time.h>\n",
        "#include <unistd.h>\n",
        "#include <omp.h>\n",
        "#include <pthread.h>\n",
        "\n",
        "void die(const char * msg) {\n",
        "  perror(msg); exit(1);\n",
        "}\n",
        "\n",
        "double cur_time() {\n",
        "  struct timespec ts[1];\n",
        "  clock_gettime(CLOCK_REALTIME, ts);\n",
        "  return ts->tv_nsec * 1.0E-9 + ts->tv_sec;\n",
        "}\n",
        "\n",
        "/* 有限バッファ\n",
        "   要素は必ず >= 0 とする */\n",
        "typedef struct {\n",
        "  long n_gets;                  /* getされた回数 */\n",
        "  long n_puts;                  /* putされた回数 */\n",
        "  long capacity;                /* 容量 */\n",
        "  long * a;                     /* 中身(capacity要素の配列) */\n",
        "  pthread_mutex_t m[1];\n",
        "} bounded_buffer_t;\n",
        "\n",
        "/* 容量 capacity で初期化 */\n",
        "void bounded_buffer_init(bounded_buffer_t * bb, long capacity) {\n",
        "  long * a = (long *)malloc(sizeof(long) * capacity);\n",
        "  if (!a) die(\"malloc\");\n",
        "  bb->a = a;\n",
        "  bb->capacity = capacity;\n",
        "  bb->n_gets = 0;\n",
        "  bb->n_puts = 0;\n",
        "  pthread_mutex_init(bb->m, 0);\n",
        "}\n",
        "\n",
        "/* 要素を追加 \n",
        " * 満杯だったら待つようにするのが課題\n",
        " * 以下はそのままだと満杯の場合は0を返す(間違い)\n",
        " */\n",
        "int bounded_buffer_put(bounded_buffer_t * bb, long x) {\n",
        "  long g = bb->n_gets;\n",
        "  long p = bb->n_puts;\n",
        "  long cap = bb->capacity;\n",
        "  assert(x >= 0);\n",
        "  if (p - g >= cap) {\n",
        "    return 0;                   /* NG */\n",
        "  }\n",
        "  bb->a[p % cap] = x;\n",
        "  bb->n_puts = p + 1;\n",
        "  return 1;                     /* OK */\n",
        "}\n",
        "\n",
        "/* 要素を取り出す\n",
        " * 空だったら待つようにするのが課題\n",
        " * 以下はそのままだと空の場合は-1を返す(間違い)\n",
        " */\n",
        "long bounded_buffer_get(bounded_buffer_t * bb) {\n",
        "  long g = bb->n_gets;\n",
        "  long p = bb->n_puts;\n",
        "  long cap = bb->capacity;\n",
        "  if (p - g <= 0) {\n",
        "    return -1;                  /* 空 */\n",
        "  }\n",
        "  long x = bb->a[g % cap];\n",
        "  bb->n_gets = g + 1;\n",
        "  assert(x >= 0);\n",
        "  return x;\n",
        "}\n",
        "\n",
        "int main(int argc, char ** argv) {\n",
        "  long i = 1;\n",
        "  /* putするスレッド数 */\n",
        "  int n_putter_threads = (argc > i ? atoi(argv[i]) : 1); i++;\n",
        "  /* getするスレッド数 */\n",
        "  int n_getter_threads = (argc > i ? atoi(argv[i]) : 1); i++;\n",
        "  /* putとgetの間にbarrierを入れるか? */\n",
        "  int barrier_between_puts_gets = (argc > i ? atoi(argv[i]) : 1); i++;\n",
        "  /* put (get)される回数 */\n",
        "  long n                = (argc > i ? atol(argv[i]) : 1000000); i++;\n",
        "  /* 容量 */\n",
        "  long capacity         = (argc > i ? atol(argv[i]) : 1000); i++;\n",
        "  /* 検証用(validate[x] == 1 iff getでxが取り出された) */\n",
        "  char * validate = (char *)calloc(n, 1);\n",
        "\n",
        "  bounded_buffer_t bb[1];\n",
        "  bounded_buffer_init(bb, capacity);\n",
        "\n",
        "  int nthreads = n_putter_threads + n_getter_threads;\n",
        "  pthread_barrier_t barrier[1];\n",
        "  pthread_barrier_init(barrier, 0, nthreads);\n",
        "\n",
        "  double t0 = cur_time();\n",
        "#pragma omp parallel num_threads(n_putter_threads + n_getter_threads)\n",
        "  {\n",
        "    int idx = omp_get_thread_num();\n",
        "    if (idx < n_putter_threads) {\n",
        "      /* I am a putter thread */\n",
        "      long a = n *  idx      / n_putter_threads;\n",
        "      long b = n * (idx + 1) / n_putter_threads;\n",
        "      /* 0,1,...,n-1 を1つずつput */\n",
        "      for (long x = a; x < b; x++) {\n",
        "        int ok = bounded_buffer_put(bb, x);\n",
        "        assert(ok);\n",
        "      }\n",
        "      if (barrier_between_puts_gets) {\n",
        "        /* putが全員終わってからget */\n",
        "        pthread_barrier_wait(barrier);\n",
        "      }\n",
        "    } else {\n",
        "      /* I am a getter thread */\n",
        "      idx -= n_putter_threads;\n",
        "      long a = n *  idx      / n_getter_threads;\n",
        "      long b = n * (idx + 1) / n_getter_threads;\n",
        "      if (barrier_between_puts_gets) {\n",
        "        /* putが全員終わってからget */\n",
        "        pthread_barrier_wait(barrier);\n",
        "      }\n",
        "      /* 合計n回get */\n",
        "      for (long x = a; x < b; x++) {\n",
        "        long x = bounded_buffer_get(bb);\n",
        "        assert(x >= 0);\n",
        "        assert(x < n);\n",
        "        assert(validate[x] == 0);\n",
        "        validate[x] = 1;\n",
        "      }\n",
        "    }\n",
        "  }\n",
        "  double t1 = cur_time();\n",
        "  printf(\"%f sec\\n\", t1 - t0);\n",
        "  for (long i = 0; i < n; i++) {\n",
        "    assert(validate[i]);\n",
        "  }\n",
        "  printf(\"OK\\n\");\n",
        "  return 0;\n",
        "}"
      ],
      "execution_count": null,
      "outputs": []
    },
    {
      "cell_type": "code",
      "metadata": {
        "kernel": "Bash",
        "nbgrader": {
          "grade": true,
          "grade_id": "p-039",
          "locked": false,
          "schema_version": 3,
          "solution": true,
          "task": false,
          "points": 1
        }
      },
      "source": [
        "BEGIN SOLUTION\n",
        "END SOLUTION\n",
        "gcc -Wall -fopenmp -o bbuf bbuf.c"
      ],
      "execution_count": null,
      "outputs": []
    },
    {
      "cell_type": "code",
      "metadata": {
        "kernel": "Python 3 (ipykernel)",
        "nbgrader": {
          "grade": false,
          "grade_id": "c-072",
          "locked": true,
          "schema_version": 3,
          "solution": false,
          "task": false
        }
      },
      "source": [
        "%%writefile bbuf_ans.c\n",
        "#include <assert.h>\n",
        "#include <stdio.h>\n",
        "#include <stdlib.h>\n",
        "#include <time.h>\n",
        "#include <unistd.h>\n",
        "#include <omp.h>\n",
        "#include <pthread.h>\n",
        "\n",
        "void die(const char * msg) {\n",
        "  perror(msg); exit(1);\n",
        "}\n",
        "\n",
        "double cur_time() {\n",
        "  struct timespec ts[1];\n",
        "  clock_gettime(CLOCK_REALTIME, ts);\n",
        "  return ts->tv_nsec * 1.0E-9 + ts->tv_sec;\n",
        "}\n",
        "\n",
        "/* 有限バッファ\n",
        "   要素は必ず >= 0 とする */\n",
        "typedef struct {\n",
        "  long n_gets;                  /* getされた回数 */\n",
        "  long n_puts;                  /* putされた回数 */\n",
        "  long capacity;                /* 容量 */\n",
        "  long * a;                     /* 中身(capacity要素の配列) */\n",
        "  pthread_mutex_t m[1];\n",
        "  pthread_cond_t gw[1];          /* get waiters */\n",
        "  pthread_cond_t pw[1];          /* put waiters */\n",
        "} bounded_buffer_t;\n",
        "\n",
        "/* 容量 capacity で初期化 */\n",
        "void bounded_buffer_init(bounded_buffer_t * bb, long capacity) {\n",
        "  long * a = (long *)malloc(sizeof(long) * capacity);\n",
        "  if (!a) die(\"malloc\");\n",
        "  bb->a = a;\n",
        "  bb->capacity = capacity;\n",
        "  bb->n_gets = 0;\n",
        "  bb->n_puts = 0;\n",
        "  pthread_mutex_init(bb->m, 0);\n",
        "  pthread_cond_init(bb->gw, 0);\n",
        "  pthread_cond_init(bb->pw, 0);\n",
        "}\n",
        "\n",
        "/* 要素を追加 \n",
        " * 満杯だったら待つようにするのが課題\n",
        " * 以下はそのままだと満杯の場合は0を返す(間違い)\n",
        " */\n",
        "int bounded_buffer_put(bounded_buffer_t * bb, long x) {\n",
        "  long cap = bb->capacity;\n",
        "  pthread_mutex_lock(bb->m);\n",
        "  while (1) {\n",
        "    long g = bb->n_gets;\n",
        "    long p = bb->n_puts;\n",
        "    assert(x >= 0);\n",
        "    if (p - g < cap) {\n",
        "      break;\n",
        "    }\n",
        "    assert(p - g == cap);\n",
        "    pthread_cond_wait(bb->pw, bb->m);\n",
        "  }\n",
        "  long g = bb->n_gets;\n",
        "  long p = bb->n_puts;\n",
        "  bb->a[p % cap] = x;\n",
        "  bb->n_puts = p + 1;\n",
        "  if (p <= g) {\n",
        "    assert(p == g);\n",
        "    pthread_cond_broadcast(bb->gw);\n",
        "  }\n",
        "  pthread_mutex_unlock(bb->m);\n",
        "  return 1;                     /* OK */\n",
        "}\n",
        "\n",
        "/* 要素を取り出す\n",
        " * 空だったら待つようにするのが課題\n",
        " * 以下はそのままだと空の場合は-1を返す(間違い)\n",
        " */\n",
        "long bounded_buffer_get(bounded_buffer_t * bb) {\n",
        "\n",
        "  long cap = bb->capacity;\n",
        "  pthread_mutex_lock(bb->m);\n",
        "  while (1) {\n",
        "    long g = bb->n_gets;\n",
        "    long p = bb->n_puts;\n",
        "    if (p - g > 0) {\n",
        "      break;\n",
        "    }\n",
        "    assert(p - g == 0);\n",
        "    pthread_cond_wait(bb->gw, bb->m);\n",
        "  }\n",
        "  long g = bb->n_gets;\n",
        "  long p = bb->n_puts;\n",
        "  long x = bb->a[g % cap];\n",
        "  bb->n_gets = g + 1;\n",
        "  assert(x >= 0);\n",
        "  if (p - g >= cap) {\n",
        "    assert(p - g == cap);\n",
        "    pthread_cond_broadcast(bb->pw);\n",
        "  }\n",
        "  pthread_mutex_unlock(bb->m);\n",
        "  return x;\n",
        "}\n",
        "\n",
        "int main(int argc, char ** argv) {\n",
        "  long i = 1;\n",
        "  /* putするスレッド数 */\n",
        "  int n_putter_threads = (argc > i ? atoi(argv[i]) : 1); i++;\n",
        "  /* getするスレッド数 */\n",
        "  int n_getter_threads = (argc > i ? atoi(argv[i]) : 1); i++;\n",
        "  /* putとgetの間にbarrierを入れるか? */\n",
        "  int barrier_between_puts_gets = (argc > i ? atoi(argv[i]) : 1); i++;\n",
        "  /* put (get)される回数 */\n",
        "  long n                = (argc > i ? atol(argv[i]) : 1000000); i++;\n",
        "  /* 容量 */\n",
        "  long capacity         = (argc > i ? atol(argv[i]) : 1000); i++;\n",
        "  /* 検証用(validate[x] == 1 iff getでxが取り出された) */\n",
        "  char * validate = (char *)calloc(n, 1);\n",
        "\n",
        "  bounded_buffer_t bb[1];\n",
        "  bounded_buffer_init(bb, capacity);\n",
        "\n",
        "  int nthreads = n_putter_threads + n_getter_threads;\n",
        "  pthread_barrier_t barrier[1];\n",
        "  pthread_barrier_init(barrier, 0, nthreads);\n",
        "\n",
        "  double t0 = cur_time();\n",
        "#pragma omp parallel num_threads(n_putter_threads + n_getter_threads)\n",
        "  {\n",
        "    int idx = omp_get_thread_num();\n",
        "    if (idx < n_putter_threads) {\n",
        "      /* I am a putter thread */\n",
        "      long a = n *  idx      / n_putter_threads;\n",
        "      long b = n * (idx + 1) / n_putter_threads;\n",
        "      /* 0,1,...,n-1 を1つずつput */\n",
        "      for (long x = a; x < b; x++) {\n",
        "        int ok = bounded_buffer_put(bb, x);\n",
        "        assert(ok);\n",
        "      }\n",
        "      if (barrier_between_puts_gets) {\n",
        "        /* putが全員終わってからget */\n",
        "        pthread_barrier_wait(barrier);\n",
        "      }\n",
        "    } else {\n",
        "      /* I am a getter thread */\n",
        "      idx -= n_putter_threads;\n",
        "      long a = n *  idx      / n_getter_threads;\n",
        "      long b = n * (idx + 1) / n_getter_threads;\n",
        "      if (barrier_between_puts_gets) {\n",
        "        /* putが全員終わってからget */\n",
        "        pthread_barrier_wait(barrier);\n",
        "      }\n",
        "      /* 合計n回get */\n",
        "      for (long x = a; x < b; x++) {\n",
        "        long x = bounded_buffer_get(bb);\n",
        "        assert(x >= 0);\n",
        "        assert(x < n);\n",
        "        assert(validate[x] == 0);\n",
        "        validate[x] = 1;\n",
        "      }\n",
        "    }\n",
        "  }\n",
        "  double t1 = cur_time();\n",
        "  printf(\"%f sec\\n\", t1 - t0);\n",
        "  for (long i = 0; i < n; i++) {\n",
        "    assert(validate[i]);\n",
        "  }\n",
        "  printf(\"OK\\n\");\n",
        "  return 0;\n",
        "}"
      ],
      "execution_count": null,
      "outputs": []
    },
    {
      "cell_type": "code",
      "metadata": {
        "kernel": "Bash",
        "nbgrader": {
          "grade": false,
          "grade_id": "c-073",
          "locked": true,
          "schema_version": 3,
          "solution": false,
          "task": false
        }
      },
      "source": [
        "gcc -Wall -fopenmp -o bbuf_ans bbuf_ans.c"
      ],
      "execution_count": null,
      "outputs": []
    },
    {
      "cell_type": "markdown",
      "metadata": {
        "kernel": "SoS",
        "nbgrader": {
          "grade": false,
          "grade_id": "c-074",
          "locked": true,
          "schema_version": 3,
          "solution": false,
          "task": false
        }
      },
      "source": [
        "* 色々なパラメータで実行してみよ"
      ]
    },
    {
      "cell_type": "code",
      "metadata": {
        "kernel": "Bash",
        "nbgrader": {
          "grade": true,
          "grade_id": "p-040",
          "locked": false,
          "schema_version": 3,
          "solution": true,
          "task": false,
          "points": 1
        }
      },
      "source": [
        "BEGIN SOLUTION\n",
        "END SOLUTION\n",
        "./bbuf 1 1 1 10 10"
      ],
      "execution_count": null,
      "outputs": []
    },
    {
      "cell_type": "code",
      "metadata": {
        "kernel": "Bash",
        "nbgrader": {
          "grade": false,
          "grade_id": "c-075",
          "locked": false,
          "schema_version": 3,
          "solution": false,
          "task": false
        }
      },
      "source": [
        "./bbuf_ans 1 1 1 10 10"
      ],
      "execution_count": null,
      "outputs": []
    },
    {
      "cell_type": "markdown",
      "metadata": {
        "kernel": "SoS",
        "nbgrader": {
          "grade": false,
          "grade_id": "c-076",
          "locked": true,
          "schema_version": 3,
          "solution": false,
          "task": false
        }
      },
      "source": [
        "* 以下でテストせよ\n",
        "\n",
        "* putとgetが並行"
      ]
    },
    {
      "cell_type": "code",
      "metadata": {
        "kernel": "Bash",
        "nbgrader": {
          "grade": true,
          "grade_id": "p-041",
          "locked": false,
          "schema_version": 3,
          "solution": true,
          "task": false,
          "points": 1
        }
      },
      "source": [
        "BEGIN SOLUTION\n",
        "END SOLUTION\n",
        "./bbuf 1 1 0 100000 100"
      ],
      "execution_count": null,
      "outputs": []
    },
    {
      "cell_type": "code",
      "metadata": {
        "kernel": "Bash",
        "nbgrader": {
          "grade": false,
          "grade_id": "c-077",
          "locked": false,
          "schema_version": 3,
          "solution": false,
          "task": false
        }
      },
      "source": [
        "./bbuf_ans 1 1 0 100000 100"
      ],
      "execution_count": null,
      "outputs": []
    },
    {
      "cell_type": "markdown",
      "metadata": {
        "kernel": "SoS",
        "nbgrader": {
          "grade": false,
          "grade_id": "c-078",
          "locked": true,
          "schema_version": 3,
          "solution": false,
          "task": false
        }
      },
      "source": [
        "* 多数のput/getが並行"
      ]
    },
    {
      "cell_type": "code",
      "metadata": {
        "kernel": "Bash",
        "nbgrader": {
          "grade": true,
          "grade_id": "p-042",
          "locked": false,
          "schema_version": 3,
          "solution": true,
          "task": false,
          "points": 1
        }
      },
      "source": [
        "BEGIN SOLUTION\n",
        "END SOLUTION\n",
        "./bbuf 10 20 0 100000 100"
      ],
      "execution_count": null,
      "outputs": []
    },
    {
      "cell_type": "code",
      "metadata": {
        "kernel": "Bash",
        "nbgrader": {
          "grade": false,
          "grade_id": "c-079",
          "locked": false,
          "schema_version": 3,
          "solution": false,
          "task": false
        }
      },
      "source": [
        "./bbuf_ans 10 20 0 100000 100"
      ],
      "execution_count": null,
      "outputs": []
    },
    {
      "cell_type": "code",
      "metadata": {
        "kernel": "Bash",
        "nbgrader": {
          "grade": true,
          "grade_id": "p-043",
          "locked": false,
          "schema_version": 3,
          "solution": true,
          "task": false,
          "points": 1
        }
      },
      "source": [
        "BEGIN SOLUTION\n",
        "END SOLUTION\n",
        "./bbuf 20 10 0 100000 100"
      ],
      "execution_count": null,
      "outputs": []
    },
    {
      "cell_type": "code",
      "metadata": {
        "kernel": "Bash",
        "nbgrader": {
          "grade": false,
          "grade_id": "c-080",
          "locked": false,
          "schema_version": 3,
          "solution": false,
          "task": false
        }
      },
      "source": [
        "./bbuf_ans 20 10 0 100000 100"
      ],
      "execution_count": null,
      "outputs": []
    },
    {
      "cell_type": "markdown",
      "metadata": {
        "kernel": "SoS",
        "nbgrader": {
          "grade": false,
          "grade_id": "c-081",
          "locked": true,
          "schema_version": 3,
          "solution": false,
          "task": false
        }
      },
      "source": [
        "* 極端にcapacityが少ない"
      ]
    },
    {
      "cell_type": "code",
      "metadata": {
        "kernel": "Bash",
        "nbgrader": {
          "grade": true,
          "grade_id": "p-044",
          "locked": false,
          "schema_version": 3,
          "solution": true,
          "task": false,
          "points": 1
        }
      },
      "source": [
        "BEGIN SOLUTION\n",
        "END SOLUTION\n",
        "./bbuf 20 30 0 100000 1"
      ],
      "execution_count": null,
      "outputs": []
    },
    {
      "cell_type": "code",
      "metadata": {
        "kernel": "Bash",
        "nbgrader": {
          "grade": false,
          "grade_id": "c-082",
          "locked": false,
          "schema_version": 3,
          "solution": false,
          "task": false
        }
      },
      "source": [
        "./bbuf_ans 20 30 0 100000 1"
      ],
      "execution_count": null,
      "outputs": []
    },
    {
      "cell_type": "code",
      "metadata": {
        "kernel": "Bash",
        "nbgrader": {
          "grade": true,
          "grade_id": "p-045",
          "locked": false,
          "schema_version": 3,
          "solution": true,
          "task": false,
          "points": 1
        }
      },
      "source": [
        "BEGIN SOLUTION\n",
        "END SOLUTION\n",
        "./bbuf 30 20 0 100000 1"
      ],
      "execution_count": null,
      "outputs": []
    },
    {
      "cell_type": "code",
      "metadata": {
        "kernel": "Bash",
        "nbgrader": {
          "grade": false,
          "grade_id": "c-083",
          "locked": false,
          "schema_version": 3,
          "solution": false,
          "task": false
        }
      },
      "source": [
        "./bbuf_ans 30 20 0 100000 1"
      ],
      "execution_count": null,
      "outputs": []
    },
    {
      "cell_type": "markdown",
      "metadata": {
        "kernel": "SoS",
        "nbgrader": {
          "grade": false,
          "grade_id": "c-084",
          "locked": true,
          "schema_version": 3,
          "solution": false,
          "task": false
        }
      },
      "source": [
        "# <font color=\"green\"> Problem 6 :  有限バッファの実装 (Python)</font>"
      ]
    },
    {
      "cell_type": "markdown",
      "metadata": {
        "kernel": "SoS",
        "nbgrader": {
          "grade": false,
          "grade_id": "c-085",
          "locked": true,
          "schema_version": 3,
          "solution": false,
          "task": false
        }
      },
      "source": [
        "* 有限バッファへmutex, 条件変数を導入し, 複数のスレッドが並行に動き, capacity < n であっても正しく動くようにせよ\n",
        "* 構造は, 両側飽和カウンタとよく似ているので参考にせよ"
      ]
    },
    {
      "cell_type": "code",
      "metadata": {
        "kernel": "Python 3 (ipykernel)",
        "nbgrader": {
          "grade": true,
          "grade_id": "p-046",
          "locked": false,
          "schema_version": 3,
          "solution": true,
          "task": false,
          "points": 1
        }
      },
      "source": [
        "BEGIN SOLUTION\n",
        "END SOLUTION\n",
        "%%writefile bbuf.py\n",
        "\n",
        "import sys\n",
        "import threading\n",
        "import time\n",
        "\n",
        "def parallel(f, nthreads):\n",
        "    \"\"\"\n",
        "    #pragma omp parallel に似たもの\n",
        "\n",
        "    f(0), f(1), ..., f(nthreads - 1) の各々をスレッドで実行\n",
        "    \"\"\"\n",
        "    threads = [threading.Thread(target=f, args=(i, ))\n",
        "               for i in range(nthreads)]\n",
        "    for th in threads:\n",
        "        th.start()\n",
        "    for th in threads:\n",
        "        th.join()\n",
        "\n",
        "def parallel_for(f, a, b, nthreads):\n",
        "    \"\"\"\n",
        "    #pragma omp parallel for に似たもの\n",
        "    f(a), f(a+1), ..., f(b-1) を nthreads で分割して実行\n",
        "    \"\"\"\n",
        "    def thread_fun(i):\n",
        "        ai = (a * (nthreads - i)     + b * i) // nthreads\n",
        "        bi = (a * (nthreads - i - 1) + b * (i + 1)) // nthreads\n",
        "        for i in range(ai, bi):\n",
        "            f(i)\n",
        "    parallel(thread_fun, nthreads)\n",
        "\n",
        "class bounded_buffer:\n",
        "    \"\"\"\n",
        "    有限バッファ\n",
        "    要素は必ず >= 0 とする\n",
        "    \"\"\"\n",
        "    def __init__(self, capacity):\n",
        "        self.a = [0] * capacity\n",
        "        self.capacity = capacity\n",
        "        self.n_gets = 0\n",
        "        self.n_puts = 0\n",
        "        self.m = threading.Lock()\n",
        "    def put(self, x):\n",
        "        \"\"\"\n",
        "        要素を追加 \n",
        "        満杯だったら待つようにするのが課題\n",
        "        以下はそのままだと満杯の場合は0を返す(間違い)\n",
        "        \"\"\"\n",
        "        g = self.n_gets\n",
        "        p = self.n_puts\n",
        "        cap = self.capacity\n",
        "        assert(x >= 0), x\n",
        "        if p - g >= cap:\n",
        "            return 0 # NG\n",
        "        self.a[p % cap] = x\n",
        "        self.n_puts = p + 1\n",
        "        return 1 # OK\n",
        "    def get(self):\n",
        "        \"\"\"\n",
        "        要素を取り出す\n",
        "        空だったら待つようにするのが課題\n",
        "        以下はそのままだと空の場合は-1を返す(間違い)\n",
        "        \"\"\"\n",
        "        g = self.n_gets\n",
        "        p = self.n_puts\n",
        "        cap = self.capacity\n",
        "        if p - g <= 0:\n",
        "            return -1 # 空 \n",
        "        x = self.a[g % cap]\n",
        "        self.n_gets = g + 1\n",
        "        assert(x >= 0), x\n",
        "        return x\n",
        "\n",
        "def main():\n",
        "    i = 1\n",
        "    argv = sys.argv\n",
        "    argc = len(argv)\n",
        "    # putするスレッド数\n",
        "    n_putter_threads = int(argv[i]) if i < argc else 1\n",
        "    i += 1\n",
        "    # getするスレッド数 \n",
        "    n_getter_threads = int(argv[i]) if i < argc else 1\n",
        "    i += 1\n",
        "    # putとgetの間にbarrierを入れるか?\n",
        "    barrier_between_puts_gets = int(argv[i]) if i < argc else 1\n",
        "    i += 1\n",
        "    # put (get)される回数\n",
        "    n                = int(argv[i]) if i < argc else 1000000\n",
        "    i += 1\n",
        "    # 容量\n",
        "    capacity         = int(argv[i]) if i < argc else 1000\n",
        "    i += 1\n",
        "    # 検証用(validate[x] == 1 iff getでxが取り出された)\n",
        "    validate = [0] * n\n",
        "    bb = bounded_buffer(capacity)\n",
        "    nthreads = n_putter_threads + n_getter_threads\n",
        "    barrier = threading.Barrier(nthreads)\n",
        "\n",
        "    def thread_fun(idx):\n",
        "        if idx < n_putter_threads:\n",
        "            # I am a putter thread\n",
        "            a = n *  idx      // n_putter_threads\n",
        "            b = n * (idx + 1) // n_putter_threads\n",
        "            # 0,1,...,n-1 を1つずつput\n",
        "            for x in range(a, b):\n",
        "                ok = bb.put(x)\n",
        "                assert(ok)\n",
        "            if barrier_between_puts_gets:\n",
        "                # putが全員終わってからget\n",
        "                barrier.wait()\n",
        "        else:\n",
        "            idx -= n_putter_threads\n",
        "            # I am a getter thread\n",
        "            a = n *  idx      // n_getter_threads\n",
        "            b = n * (idx + 1) // n_getter_threads\n",
        "            # 0,1,...,n-1 を1つずつget\n",
        "            if barrier_between_puts_gets:\n",
        "                # putが全員終わってからget\n",
        "                barrier.wait()\n",
        "            for i in range(a, b):\n",
        "                x = bb.get()\n",
        "                assert(x >= 0), x\n",
        "                assert(x < n), x\n",
        "                assert(validate[x] == 0), validate[x]\n",
        "                validate[x] = 1\n",
        "    t0 = time.time()\n",
        "    parallel(thread_fun, nthreads)\n",
        "    t1 = time.time()\n",
        "    dt = t1 - t0\n",
        "    print(f\"{dt} sec\")\n",
        "    for i in range(n):\n",
        "        assert(validate[i] == 1), validate[i]\n",
        "    print(\"OK\")\n",
        "    return 0\n",
        "\n",
        "sys.exit(main())\n",
        ""
      ],
      "execution_count": null,
      "outputs": []
    },
    {
      "cell_type": "code",
      "metadata": {
        "kernel": "Python 3 (ipykernel)",
        "nbgrader": {
          "grade": false,
          "grade_id": "c-086",
          "locked": true,
          "schema_version": 3,
          "solution": false,
          "task": false
        }
      },
      "source": [
        "%%writefile bbuf_ans.py\n",
        "\n",
        "import sys\n",
        "import threading\n",
        "import time\n",
        "\n",
        "def parallel(f, nthreads):\n",
        "    \"\"\"\n",
        "    #pragma omp parallel に似たもの\n",
        "\n",
        "    f(0), f(1), ..., f(nthreads - 1) の各々をスレッドで実行\n",
        "    \"\"\"\n",
        "    threads = [threading.Thread(target=f, args=(i, ))\n",
        "               for i in range(nthreads)]\n",
        "    for th in threads:\n",
        "        th.start()\n",
        "    for th in threads:\n",
        "        th.join()\n",
        "\n",
        "def parallel_for(f, a, b, nthreads):\n",
        "    \"\"\"\n",
        "    #pragma omp parallel for に似たもの\n",
        "    f(a), f(a+1), ..., f(b-1) を nthreads で分割して実行\n",
        "    \"\"\"\n",
        "    def thread_fun(i):\n",
        "        ai = (a * (nthreads - i)     + b * i) // nthreads\n",
        "        bi = (a * (nthreads - i - 1) + b * (i + 1)) // nthreads\n",
        "        for i in range(ai, bi):\n",
        "            f(i)\n",
        "    parallel(thread_fun, nthreads)\n",
        "\n",
        "class bounded_buffer:\n",
        "    \"\"\"\n",
        "    有限バッファ\n",
        "    要素は必ず >= 0 とする\n",
        "    \"\"\"\n",
        "    def __init__(self, capacity):\n",
        "        self.a = [0] * capacity\n",
        "        self.capacity = capacity\n",
        "        self.n_gets = 0\n",
        "        self.n_puts = 0\n",
        "        self.m = threading.Lock()\n",
        "        self.gw = threading.Condition(self.m)\n",
        "        self.pw = threading.Condition(self.m)\n",
        "    def put(self, x):\n",
        "        \"\"\"\n",
        "        要素を追加 \n",
        "        満杯だったら待つようにするのが課題\n",
        "        以下はそのままだと満杯の場合は0を返す(間違い)\n",
        "        \"\"\"\n",
        "        cap = self.capacity\n",
        "        self.m.acquire()\n",
        "        while 1:\n",
        "            g = self.n_gets\n",
        "            p = self.n_puts\n",
        "            if p - g < cap:\n",
        "                break\n",
        "            assert(p - g == cap), (p, g, p - g, cap)\n",
        "            self.pw.wait()\n",
        "        self.a[p % cap] = x\n",
        "        self.n_puts = p + 1\n",
        "        if p <= g:\n",
        "            assert(p == g), (p, g)\n",
        "            self.gw.notify_all()\n",
        "        self.m.release()\n",
        "        return 1 # OK \n",
        "    def get(self):\n",
        "        \"\"\"\n",
        "        要素を取り出す\n",
        "        空だったら待つようにするのが課題\n",
        "        以下はそのままだと空の場合は-1を返す(間違い)\n",
        "        \"\"\"\n",
        "        cap = self.capacity\n",
        "        self.m.acquire()\n",
        "        while 1:\n",
        "            g = self.n_gets\n",
        "            p = self.n_puts\n",
        "            if p - g > 0:\n",
        "                break\n",
        "            assert(p - g == 0), (p, g)\n",
        "            self.gw.wait()\n",
        "        x = self.a[g % cap]\n",
        "        self.n_gets = g + 1\n",
        "        assert(x >= 0), x\n",
        "        if p - g >= cap:\n",
        "            assert(p - g == cap), (p, g, p - g, cap)\n",
        "            self.pw.notify_all()\n",
        "        self.m.release()\n",
        "        return x\n",
        "\n",
        "def main():\n",
        "    i = 1\n",
        "    argv = sys.argv\n",
        "    argc = len(argv)\n",
        "    # putするスレッド数\n",
        "    n_putter_threads = int(argv[i]) if i < argc else 1\n",
        "    i += 1\n",
        "    # getするスレッド数 \n",
        "    n_getter_threads = int(argv[i]) if i < argc else 1\n",
        "    i += 1\n",
        "    # putとgetの間にbarrierを入れるか?\n",
        "    barrier_between_puts_gets = int(argv[i]) if i < argc else 1\n",
        "    i += 1\n",
        "    # put (get)される回数\n",
        "    n                = int(argv[i]) if i < argc else 1000000\n",
        "    i += 1\n",
        "    # 容量\n",
        "    capacity         = int(argv[i]) if i < argc else 1000\n",
        "    i += 1\n",
        "    # 検証用(validate[x] == 1 iff getでxが取り出された)\n",
        "    validate = [0] * n\n",
        "    bb = bounded_buffer(capacity)\n",
        "    nthreads = n_putter_threads + n_getter_threads\n",
        "    barrier = threading.Barrier(nthreads)\n",
        "\n",
        "    def thread_fun(idx):\n",
        "        if idx < n_putter_threads:\n",
        "            # I am a putter thread\n",
        "            a = n *  idx      // n_putter_threads\n",
        "            b = n * (idx + 1) // n_putter_threads\n",
        "            # 0,1,...,n-1 を1つずつput\n",
        "            for x in range(a, b):\n",
        "                ok = bb.put(x)\n",
        "                assert(ok)\n",
        "            if barrier_between_puts_gets:\n",
        "                # putが全員終わってからget\n",
        "                barrier.wait()\n",
        "        else:\n",
        "            idx -= n_putter_threads\n",
        "            # I am a getter thread\n",
        "            a = n *  idx      // n_getter_threads\n",
        "            b = n * (idx + 1) // n_getter_threads\n",
        "            # 0,1,...,n-1 を1つずつget\n",
        "            if barrier_between_puts_gets:\n",
        "                # putが全員終わってからget\n",
        "                barrier.wait()\n",
        "            for i in range(a, b):\n",
        "                x = bb.get()\n",
        "                assert(x >= 0), x\n",
        "                assert(x < n), x\n",
        "                assert(validate[x] == 0), validate[x]\n",
        "                validate[x] = 1\n",
        "    t0 = time.time()\n",
        "    parallel(thread_fun, nthreads)\n",
        "    t1 = time.time()\n",
        "    dt = t1 - t0\n",
        "    print(f\"{dt} sec\")\n",
        "    for i in range(n):\n",
        "        assert(validate[i] == 1), validate[i]\n",
        "    print(\"OK\")\n",
        "    return 0\n",
        "\n",
        "sys.exit(main())\n",
        ""
      ],
      "execution_count": null,
      "outputs": []
    },
    {
      "cell_type": "markdown",
      "metadata": {
        "kernel": "SoS",
        "nbgrader": {
          "grade": false,
          "grade_id": "c-087",
          "locked": true,
          "schema_version": 3,
          "solution": false,
          "task": false
        }
      },
      "source": [
        "* 色々なパラメータで実行してみよ"
      ]
    },
    {
      "cell_type": "code",
      "metadata": {
        "kernel": "Bash",
        "nbgrader": {
          "grade": true,
          "grade_id": "p-047",
          "locked": false,
          "schema_version": 3,
          "solution": true,
          "task": false,
          "points": 1
        }
      },
      "source": [
        "BEGIN SOLUTION\n",
        "END SOLUTION\n",
        "python3 bbuf.py 1 1 1 10 10"
      ],
      "execution_count": null,
      "outputs": []
    },
    {
      "cell_type": "code",
      "metadata": {
        "kernel": "Bash",
        "nbgrader": {
          "grade": false,
          "grade_id": "c-088",
          "locked": false,
          "schema_version": 3,
          "solution": false,
          "task": false
        }
      },
      "source": [
        "python3 bbuf_ans.py 1 1 1 10 10"
      ],
      "execution_count": null,
      "outputs": []
    },
    {
      "cell_type": "markdown",
      "metadata": {
        "kernel": "SoS",
        "nbgrader": {
          "grade": false,
          "grade_id": "c-089",
          "locked": true,
          "schema_version": 3,
          "solution": false,
          "task": false
        }
      },
      "source": [
        "* 以下でテストせよ\n",
        "\n",
        "* putとgetが並行"
      ]
    },
    {
      "cell_type": "code",
      "metadata": {
        "kernel": "Bash",
        "nbgrader": {
          "grade": true,
          "grade_id": "p-048",
          "locked": false,
          "schema_version": 3,
          "solution": true,
          "task": false,
          "points": 1
        }
      },
      "source": [
        "BEGIN SOLUTION\n",
        "END SOLUTION\n",
        "python3 bbuf.py  1 1 0 100000 100"
      ],
      "execution_count": null,
      "outputs": []
    },
    {
      "cell_type": "code",
      "metadata": {
        "kernel": "Bash",
        "nbgrader": {
          "grade": false,
          "grade_id": "c-090",
          "locked": false,
          "schema_version": 3,
          "solution": false,
          "task": false
        }
      },
      "source": [
        "python3 bbuf_ans.py 1 1 0 100000 100"
      ],
      "execution_count": null,
      "outputs": []
    },
    {
      "cell_type": "markdown",
      "metadata": {
        "kernel": "SoS",
        "nbgrader": {
          "grade": false,
          "grade_id": "c-091",
          "locked": true,
          "schema_version": 3,
          "solution": false,
          "task": false
        }
      },
      "source": [
        "* 多数のput/getが並行"
      ]
    },
    {
      "cell_type": "code",
      "metadata": {
        "kernel": "Bash",
        "nbgrader": {
          "grade": true,
          "grade_id": "p-049",
          "locked": false,
          "schema_version": 3,
          "solution": true,
          "task": false,
          "points": 1
        }
      },
      "source": [
        "BEGIN SOLUTION\n",
        "END SOLUTION\n",
        "python3 bbuf.py  10 20 0 100000 100"
      ],
      "execution_count": null,
      "outputs": []
    },
    {
      "cell_type": "code",
      "metadata": {
        "kernel": "Bash",
        "nbgrader": {
          "grade": false,
          "grade_id": "c-092",
          "locked": false,
          "schema_version": 3,
          "solution": false,
          "task": false
        }
      },
      "source": [
        "python3 bbuf_ans.py 10 20 0 100000 100"
      ],
      "execution_count": null,
      "outputs": []
    },
    {
      "cell_type": "code",
      "metadata": {
        "kernel": "Bash",
        "nbgrader": {
          "grade": true,
          "grade_id": "p-050",
          "locked": false,
          "schema_version": 3,
          "solution": true,
          "task": false,
          "points": 1
        }
      },
      "source": [
        "BEGIN SOLUTION\n",
        "END SOLUTION\n",
        "python3 bbuf.py 20 10 0 100000 100"
      ],
      "execution_count": null,
      "outputs": []
    },
    {
      "cell_type": "code",
      "metadata": {
        "kernel": "Bash",
        "nbgrader": {
          "grade": false,
          "grade_id": "c-093",
          "locked": false,
          "schema_version": 3,
          "solution": false,
          "task": false
        }
      },
      "source": [
        "python3 bbuf_ans.py 20 10 0 100000 100"
      ],
      "execution_count": null,
      "outputs": []
    },
    {
      "cell_type": "markdown",
      "metadata": {
        "kernel": "SoS",
        "nbgrader": {
          "grade": false,
          "grade_id": "c-094",
          "locked": true,
          "schema_version": 3,
          "solution": false,
          "task": false
        }
      },
      "source": [
        "* 極端にcapacityが少ない"
      ]
    },
    {
      "cell_type": "code",
      "metadata": {
        "kernel": "Bash",
        "nbgrader": {
          "grade": true,
          "grade_id": "p-051",
          "locked": false,
          "schema_version": 3,
          "solution": true,
          "task": false,
          "points": 1
        }
      },
      "source": [
        "BEGIN SOLUTION\n",
        "END SOLUTION\n",
        "python3 bbuf.py  20 30 0 100000 1"
      ],
      "execution_count": null,
      "outputs": []
    },
    {
      "cell_type": "code",
      "metadata": {
        "kernel": "Bash",
        "nbgrader": {
          "grade": false,
          "grade_id": "c-095",
          "locked": false,
          "schema_version": 3,
          "solution": false,
          "task": false
        }
      },
      "source": [
        "python3 bbuf_ans.py 20 30 0 100000 1"
      ],
      "execution_count": null,
      "outputs": []
    },
    {
      "cell_type": "code",
      "metadata": {
        "kernel": "Bash",
        "nbgrader": {
          "grade": true,
          "grade_id": "p-052",
          "locked": false,
          "schema_version": 3,
          "solution": true,
          "task": false,
          "points": 1
        }
      },
      "source": [
        "BEGIN SOLUTION\n",
        "END SOLUTION\n",
        "python3 bbuf.py 30 20 0 100000 1"
      ],
      "execution_count": null,
      "outputs": []
    },
    {
      "cell_type": "code",
      "metadata": {
        "kernel": "Bash",
        "nbgrader": {
          "grade": false,
          "grade_id": "c-096",
          "locked": false,
          "schema_version": 3,
          "solution": false,
          "task": false
        }
      },
      "source": [
        "python3 bbuf_ans.py 30 20 0 100000 1"
      ],
      "execution_count": null,
      "outputs": []
    }
  ],
  "metadata": {
    "celltoolbar": "Create Assignment",
    "kernelspec": {
      "display_name": "SoS",
      "language": "sos",
      "name": "sos"
    },
    "language_info": {
      "codemirror_mode": "sos",
      "file_extension": ".sos",
      "mimetype": "text/x-sos",
      "name": "sos",
      "nbconvert_exporter": "sos_notebook.converter.SoS_Exporter",
      "pygments_lexer": "sos"
    },
    "sos": {
      "kernels": [
        [
          "Bash",
          "bash",
          "bash",
          "",
          "shell"
        ],
        [
          "C",
          "c_kernel",
          "c",
          "",
          ""
        ],
        [
          "Go",
          "gophernotes",
          "go",
          "",
          ""
        ],
        [
          "Julia 1.10.2",
          "julia-1.10",
          "julia",
          "",
          ""
        ],
        [
          "OCaml default",
          "ocaml-jupyter",
          "OCaml",
          "",
          "text/x-ocaml"
        ],
        [
          "Python 3 (ipykernel)",
          "python3",
          "python3",
          "",
          {
            "name": "ipython",
            "version": 3
          }
        ],
        [
          "Rust",
          "rust",
          "rust",
          "",
          ""
        ]
      ],
      "panel": {
        "displayed": true,
        "height": 0
      },
      "version": "0.23.3"
    }
  },
  "nbformat": 4,
  "nbformat_minor": 4
}