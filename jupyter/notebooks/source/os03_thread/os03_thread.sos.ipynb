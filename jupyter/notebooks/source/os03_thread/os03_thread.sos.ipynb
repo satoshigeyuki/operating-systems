{
  "cells": [
    {
      "cell_type": "markdown",
      "metadata": {
        "kernel": "SoS",
        "nbgrader": {
          "grade": false,
          "grade_id": "c-001",
          "locked": true,
          "schema_version": 3,
          "solution": false,
          "task": false
        }
      },
      "source": [
        "\n",
        "#  オペレーティングシステム 演習 03",
        "\n",
        "#  スレッド",
        ""
      ]
    },
    {
      "cell_type": "markdown",
      "metadata": {
        "kernel": "SoS",
        "nbgrader": {
          "grade": false,
          "grade_id": "c-002",
          "locked": false,
          "schema_version": 3,
          "solution": false,
          "task": false
        }
      },
      "source": [
        "\n",
        "名前と学生証番号を書け. Enter your name and student ID.\n",
        "\n",
        " * 名前 Name:\n",
        " * 学生証番号 Student ID:\n",
        ""
      ]
    },
    {
      "cell_type": "markdown",
      "metadata": {
        "kernel": "SoS",
        "nbgrader": {
          "grade": false,
          "grade_id": "c-003",
          "locked": true,
          "schema_version": 3,
          "solution": false,
          "task": false
        }
      },
      "source": [
        "# 1. スレッド関連コマンド"
      ]
    },
    {
      "cell_type": "markdown",
      "metadata": {
        "kernel": "SoS",
        "nbgrader": {
          "grade": false,
          "grade_id": "c-004",
          "locked": true,
          "schema_version": 3,
          "solution": false,
          "task": false
        }
      },
      "source": [
        "## 1-1. ps auxmww",
        "\n",
        "* ps は現存するプロセスを表示するコマンド\n",
        "* mをつけると各プロセス内のスレッドも表示される"
      ]
    },
    {
      "cell_type": "markdown",
      "metadata": {
        "kernel": "SoS",
        "nbgrader": {
          "grade": false,
          "grade_id": "c-005",
          "locked": true,
          "schema_version": 3,
          "solution": false,
          "task": false
        }
      },
      "source": [
        "* 以下によりシステムのすべてのプロセスのすべてのスレッドが表示される\n",
        "* 出力が一杯になりすぎたり, そのせいでエラーになったら一旦ファイルへ出力し, そのファイルを開けば良い\n",
        "* 例えば\n",
        "```\n",
        "ps auxmww > ps.txt\n",
        "```"
      ]
    },
    {
      "cell_type": "code",
      "metadata": {
        "kernel": "Bash",
        "nbgrader": {
          "grade": false,
          "grade_id": "c-006",
          "locked": false,
          "schema_version": 3,
          "solution": false,
          "task": false
        }
      },
      "source": [
        "ps auxmww"
      ],
      "execution_count": null,
      "outputs": []
    },
    {
      "cell_type": "markdown",
      "metadata": {
        "kernel": "SoS",
        "nbgrader": {
          "grade": false,
          "grade_id": "c-007",
          "locked": true,
          "schema_version": 3,
          "solution": false,
          "task": false
        }
      },
      "source": [
        "\n",
        "# 2. POSIX Threads (Pthreads)",
        "\n",
        "* PthreadはUnix共通のスレッドAPI\n",
        "* 基本\n",
        "  * pthread_create でスレッドを作る\n",
        "  * pthread_join でスレッドの終了を待つ\n",
        "  * pthread_exit で呼び出したスレッドを終了させる\n",
        "  * pthread_self は呼び出したスレッドのthread IDを返す\n",
        "\n",
        "* 以下はともかくスレッドを作ってjoinするだけの例"
      ]
    },
    {
      "cell_type": "code",
      "metadata": {
        "kernel": "Python 3 (ipykernel)",
        "nbgrader": {
          "grade": false,
          "grade_id": "c-008",
          "locked": false,
          "schema_version": 3,
          "solution": false,
          "task": false
        }
      },
      "source": [
        "%%writefile pthread_create.c\n",
        "#include <err.h>\n",
        "#include <stdio.h>\n",
        "#include <stdlib.h>\n",
        "#include <unistd.h>\n",
        "#include <pthread.h>\n",
        "\n",
        "/* スレッドの開始関数 */\n",
        "void * f(void * arg) {\n",
        "  pthread_t thread_id = pthread_self();\n",
        "  int slp_n = 5;\n",
        "  for (int i = 0; i < slp_n; i++) {\n",
        "    printf(\"child[%lu]: (%d/%d)\\n\",\n",
        "           thread_id, i, slp_n);\n",
        "    fflush(stdout);\n",
        "    usleep(100 * 1000);\n",
        "  }\n",
        "  return arg + 1;\n",
        "}\n",
        "\n",
        "int main() {\n",
        "  pthread_t my_thread_id = pthread_self();\n",
        "  pthread_t child_thread_id;\n",
        "  /* スレッドを作る */\n",
        "  if (pthread_create(&child_thread_id, 0, f, 0)) {\n",
        "    err(1, \"pthread_create\");\n",
        "  }\n",
        "  int slp_n = 5;\n",
        "  for (int i = 0; i < slp_n; i++) {\n",
        "    printf(\"parent[%lu]: (%d/%d)\\n\", my_thread_id, i, slp_n);\n",
        "    fflush(stdout);\n",
        "    usleep(100 * 1000);\n",
        "  }\n",
        "  /* 終了待ち */\n",
        "  void * ret = 0;\n",
        "  if (pthread_join(child_thread_id, &ret)) {\n",
        "    err(1, \"pthread_join\");\n",
        "  }\n",
        "  printf(\"child thread returned %p\\n\", ret);\n",
        "  return 0;\n",
        "}"
      ],
      "execution_count": null,
      "outputs": []
    },
    {
      "cell_type": "code",
      "metadata": {
        "kernel": "Bash",
        "nbgrader": {
          "grade": false,
          "grade_id": "c-009",
          "locked": false,
          "schema_version": 3,
          "solution": false,
          "task": false
        }
      },
      "source": [
        "gcc -Wall pthread_create.c -o pthread_create -lpthread"
      ],
      "execution_count": null,
      "outputs": []
    },
    {
      "cell_type": "code",
      "metadata": {
        "kernel": "Bash",
        "nbgrader": {
          "grade": false,
          "grade_id": "c-010",
          "locked": false,
          "schema_version": 3,
          "solution": false,
          "task": false
        }
      },
      "source": [
        "./pthread_create"
      ],
      "execution_count": null,
      "outputs": []
    },
    {
      "cell_type": "markdown",
      "metadata": {
        "kernel": "SoS",
        "nbgrader": {
          "grade": false,
          "grade_id": "c-011",
          "locked": true,
          "schema_version": 3,
          "solution": false,
          "task": false
        }
      },
      "source": [
        "\n",
        "# 3. スレッドに引数を渡す",
        "\n",
        "* 普通スレッドを複数作ったらそれぞれに違う仕事をやらせる\n",
        "* そのためにスレッドが実行する関数(開始関数)に異なる引数を渡すのが普通だが, 開始関数がvoid* (ポインタ)型の引数1つしか取れないという制限がある\n",
        "```\n",
        "void * f(void *) { ... }\n",
        "```\n",
        "* そのため通常, 構造体を作りそれへのポインタを引数として渡す\n",
        "```\n",
        "typedef struct { int xxx; double yyy; ... } thread_arg_t;\n",
        "```\n",
        "* 開始関数の方では受け取った void* 型を構造体へのポインタ変数に代入し, そこから値を取り出すのが常套手段\n",
        "```\n",
        "void * f(void * arg_) {\n",
        "  thread_arg_t * arg = arg_;\n",
        "  arg->xxx, arg->yyy, ...\n",
        "}\n",
        "```\n",
        "* 開始関数はvoid* を受け取るが, それに構造体のポインタを渡しても問題はない\n",
        ""
      ]
    },
    {
      "cell_type": "code",
      "metadata": {
        "kernel": "Python 3 (ipykernel)",
        "nbgrader": {
          "grade": false,
          "grade_id": "c-012",
          "locked": false,
          "schema_version": 3,
          "solution": false,
          "task": false
        }
      },
      "source": [
        "%%writefile pthread_create_arg.c\n",
        "#include <assert.h>\n",
        "#include <err.h>\n",
        "#include <stdio.h>\n",
        "#include <stdlib.h>\n",
        "#include <unistd.h>\n",
        "#include <pthread.h>\n",
        "\n",
        "/* 開始関数に渡したい情報(構造体) */\n",
        "typedef struct {\n",
        "  long slp_usec;\n",
        "  long slp_n;\n",
        "  long id;                       /* 0,1,2,.. */\n",
        "  pthread_t th_id;\n",
        "} thread_arg_t;\n",
        "\n",
        "/* 開始関数 構造体へのポインタを (void *型で)受け取る */\n",
        "void * f(void * arg_) {\n",
        "  thread_arg_t * arg = arg_;\n",
        "  /* 本当に受け取りたい引数を構造体から受け取る */\n",
        "  long slp_usec = arg->slp_usec;\n",
        "  long slp_n = arg->slp_n;\n",
        "  long id = arg->id;\n",
        "  pthread_t thread_id = pthread_self();\n",
        "  for (int i = 0; i < slp_n; i++) {\n",
        "    printf(\"child[%ld/%lu] (%d/%ld): sleep %ld usec\\n\",\n",
        "           id, thread_id, i, slp_n, slp_usec);\n",
        "    fflush(stdout);\n",
        "    usleep(slp_usec);\n",
        "  }\n",
        "  return 0;\n",
        "}\n",
        "\n",
        "int main(int argc, char ** argv) {\n",
        "  int nthreads = (argc > 1 ? atoi(argv[1]) : 3);\n",
        "  thread_arg_t args[nthreads];\n",
        "  /* 指定された数のスレッドを作る */\n",
        "  for (int i = 0; i < nthreads; i++) {\n",
        "    args[i].slp_n = i + 2;\n",
        "    args[i].slp_usec = 1000 * 1000 / args[i].slp_n;\n",
        "    args[i].id = i;\n",
        "    if (pthread_create(&args[i].th_id, 0, f, &args[i])) {\n",
        "      err(1, \"pthread_create\");\n",
        "    }\n",
        "  }\n",
        "  /* 終了待ち */\n",
        "  for (int i = 0; i < nthreads; i++) {\n",
        "    void * ret;\n",
        "    if (pthread_join(args[i].th_id, &ret)) {\n",
        "      err(1, \"pthread_join\");\n",
        "    }\n",
        "    assert(ret == 0);\n",
        "    printf(\"child thread %d returned (%p)\\n\", i, ret);\n",
        "  }  \n",
        "  return 0;\n",
        "}"
      ],
      "execution_count": null,
      "outputs": []
    },
    {
      "cell_type": "code",
      "metadata": {
        "kernel": "Bash",
        "nbgrader": {
          "grade": false,
          "grade_id": "c-013",
          "locked": false,
          "schema_version": 3,
          "solution": false,
          "task": false
        }
      },
      "source": [
        "gcc -Wall -o pthread_create_arg pthread_create_arg.c -lpthread"
      ],
      "execution_count": null,
      "outputs": []
    },
    {
      "cell_type": "code",
      "metadata": {
        "kernel": "Bash",
        "nbgrader": {
          "grade": false,
          "grade_id": "c-014",
          "locked": false,
          "schema_version": 3,
          "solution": false,
          "task": false
        }
      },
      "source": [
        "./pthread_create_arg"
      ],
      "execution_count": null,
      "outputs": []
    },
    {
      "cell_type": "markdown",
      "metadata": {
        "kernel": "SoS",
        "nbgrader": {
          "grade": false,
          "grade_id": "c-015",
          "locked": true,
          "schema_version": 3,
          "solution": false,
          "task": false
        }
      },
      "source": [
        "\n",
        "# 4. スレッド vs プロセスの違い",
        "\n",
        "* 違いは色々あるものの, どちらもCPUを複数使うための道具であることも確か\n",
        "* 端的にその違いの挙動は\n",
        "  * 「1プロセス間の複数スレッドはメモリ(変数)を共有している」\n",
        "  * 「複数プロセス間ではメモリは共有されない」\n",
        "という違いがある\n",
        "\n",
        "* 特にfork()は「コピー」を作っているのであって親プロセスと子プロセスでデータ(変数)が共有されているわけではないことに注意\n",
        "\n",
        "* 以下が違いを示す例\n",
        "* 表示される結果を予想してから実行せよ\n",
        ""
      ]
    },
    {
      "cell_type": "markdown",
      "metadata": {
        "kernel": "SoS",
        "nbgrader": {
          "grade": false,
          "grade_id": "c-016",
          "locked": true,
          "schema_version": 3,
          "solution": false,
          "task": false
        }
      },
      "source": [
        "* プロセス(fork)を使う例"
      ]
    },
    {
      "cell_type": "code",
      "metadata": {
        "kernel": "Python 3 (ipykernel)",
        "nbgrader": {
          "grade": false,
          "grade_id": "c-017",
          "locked": false,
          "schema_version": 3,
          "solution": false,
          "task": false
        }
      },
      "source": [
        "%%writefile thread_vs_fork_fork.c\n",
        "#include <err.h>\n",
        "#include <stdio.h>\n",
        "#include <stdlib.h>\n",
        "#include <unistd.h>\n",
        "#include <sys/types.h>\n",
        "#include <sys/wait.h>\n",
        "\n",
        "/* スレッドの開始関数 */\n",
        "void * f(void * arg_) {\n",
        "  int * arg = arg_;\n",
        "  *arg = 123;                   /* i.e., x = 123 */\n",
        "  return 0;\n",
        "}\n",
        "\n",
        "int main() {\n",
        "  int x = 10;\n",
        "\n",
        "  pid_t pid = fork();\n",
        "  if (pid == -1) {\n",
        "    err(1, \"fork\");\n",
        "  } else if (pid == 0) {          /* child */\n",
        "    f(&x);\n",
        "    return 0;\n",
        "  } else {\n",
        "    int ws;\n",
        "    pid_t cid = waitpid(pid, &ws, 0);\n",
        "    if (cid == -1) err(1, \"waitpid\");\n",
        "    if (WIFEXITED(ws)) {\n",
        "      printf(\"exited, status=%d\\n\", WEXITSTATUS(ws));\n",
        "      fflush(stdout);\n",
        "    } else if (WIFSIGNALED(ws)) {\n",
        "      printf(\"killed by signal %d\\n\", WTERMSIG(ws));\n",
        "      fflush(stdout);\n",
        "    }\n",
        "    printf(\"after the child finished, x = %d\\n\", x);\n",
        "  }\n",
        "  return 0;\n",
        "}"
      ],
      "execution_count": null,
      "outputs": []
    },
    {
      "cell_type": "code",
      "metadata": {
        "kernel": "Bash",
        "nbgrader": {
          "grade": false,
          "grade_id": "c-018",
          "locked": false,
          "schema_version": 3,
          "solution": false,
          "task": false
        }
      },
      "source": [
        "gcc -Wall -o thread_vs_fork_fork thread_vs_fork_fork.c"
      ],
      "execution_count": null,
      "outputs": []
    },
    {
      "cell_type": "code",
      "metadata": {
        "kernel": "Bash",
        "nbgrader": {
          "grade": false,
          "grade_id": "c-019",
          "locked": false,
          "schema_version": 3,
          "solution": false,
          "task": false
        }
      },
      "source": [
        "./thread_vs_fork_fork"
      ],
      "execution_count": null,
      "outputs": []
    },
    {
      "cell_type": "markdown",
      "metadata": {
        "kernel": "SoS",
        "nbgrader": {
          "grade": false,
          "grade_id": "c-020",
          "locked": true,
          "schema_version": 3,
          "solution": false,
          "task": false
        }
      },
      "source": [
        "* スレッド(pthread_create)を使う例"
      ]
    },
    {
      "cell_type": "code",
      "metadata": {
        "kernel": "Python 3 (ipykernel)",
        "nbgrader": {
          "grade": false,
          "grade_id": "c-021",
          "locked": false,
          "schema_version": 3,
          "solution": false,
          "task": false
        }
      },
      "source": [
        "%%writefile thread_vs_fork_thread.c\n",
        "#include <err.h>\n",
        "#include <stdio.h>\n",
        "#include <stdlib.h>\n",
        "#include <unistd.h>\n",
        "#include <pthread.h>\n",
        "\n",
        "/* スレッドの開始関数 */\n",
        "void * f(void * arg_) {\n",
        "  int * arg = arg_;\n",
        "  *arg = 123;                   /* i.e., x = 123 */\n",
        "  return 0;\n",
        "}\n",
        "\n",
        "int main() {\n",
        "  pthread_t child_thread_id;\n",
        "  int x = 10;\n",
        "  \n",
        "  /* スレッドを作る */\n",
        "  if (pthread_create(&child_thread_id, 0, f, &x)) {\n",
        "    err(1, \"pthread_create\");\n",
        "  }\n",
        "  /* 終了待ち */\n",
        "  void * ret = 0;\n",
        "  if (pthread_join(child_thread_id, &ret)) {\n",
        "    err(1, \"pthread_join\");\n",
        "  }\n",
        "  printf(\"after the child finished, x = %d\\n\", x);\n",
        "  return 0;\n",
        "}"
      ],
      "execution_count": null,
      "outputs": []
    },
    {
      "cell_type": "code",
      "metadata": {
        "kernel": "Bash",
        "nbgrader": {
          "grade": false,
          "grade_id": "c-022",
          "locked": false,
          "schema_version": 3,
          "solution": false,
          "task": false
        }
      },
      "source": [
        "gcc -Wall -o thread_vs_fork_thread thread_vs_fork_thread.c -lpthread"
      ],
      "execution_count": null,
      "outputs": []
    },
    {
      "cell_type": "code",
      "metadata": {
        "kernel": "Bash",
        "nbgrader": {
          "grade": false,
          "grade_id": "c-023",
          "locked": false,
          "schema_version": 3,
          "solution": false,
          "task": false
        }
      },
      "source": [
        "./thread_vs_fork_thread"
      ],
      "execution_count": null,
      "outputs": []
    },
    {
      "cell_type": "markdown",
      "metadata": {
        "kernel": "SoS",
        "nbgrader": {
          "grade": false,
          "grade_id": "c-024",
          "locked": true,
          "schema_version": 3,
          "solution": false,
          "task": false
        }
      },
      "source": [
        "# <font color=\"green\"> Problem 1 :  pthreadの練習</font>",
        "\n",
        "以下のようなプログラムを書け.\n",
        "\n",
        "1. 時刻をナノ秒単位で取得(Linux: clock_gettime または gettimeofday, Mac: gettimeofday; manを参照)\n",
        "1. 以下を多数回($n$回)繰り返す\n",
        " * 子スレッドを作る(pthread_createを呼ぶ). 子スレッドは, 何もしない関数do_nothingを実行する\n",
        "  * 親スレッドはただちに子スレッドの終了を待つ(pthread_join)\n",
        "3. 時刻をナノ秒単位で取得\n",
        "4. 1回あたりの時間をナノ秒単位で出力\n",
        "\n",
        "do_nothingは以下のような関数.\n",
        "\n",
        "```\n",
        "void * do_nothing(void *) {\n",
        "  return 0;\n",
        "}  \n",
        "```"
      ]
    },
    {
      "cell_type": "markdown",
      "metadata": {
        "kernel": "SoS",
        "nbgrader": {
          "grade": false,
          "grade_id": "c-025",
          "locked": true,
          "schema_version": 3,
          "solution": false,
          "task": false
        }
      },
      "source": [
        "* $n$はコマンドラインから取得できるようにする\n",
        "* 以下のコードを修正して上記を達成せよ"
      ]
    },
    {
      "cell_type": "code",
      "metadata": {
        "kernel": "Python 3 (ipykernel)",
        "nbgrader": {
          "grade": true,
          "grade_id": "p-001",
          "locked": false,
          "schema_version": 3,
          "solution": true,
          "task": false,
          "points": 1
        }
      },
      "source": [
        "BEGIN SOLUTION\n",
        "END SOLUTION\n",
        "%%writefile time_pthread_create.c\n",
        "/* 必要な #include を補うこと (man ページを参照) */\n",
        "#include <err.h>\n",
        "#include <stdio.h>\n",
        "#include <stdlib.h>\n",
        "#include <time.h>\n",
        "\n",
        "long cur_time() {\n",
        "  struct timespec ts[1];\n",
        "  clock_gettime(CLOCK_REALTIME, ts);\n",
        "  return ts->tv_sec * 1000000000L + ts->tv_nsec;\n",
        "}\n",
        "\n",
        "void * do_nothing(void * arg) {\n",
        "  return arg;\n",
        "}\n",
        "\n",
        "int main(int argc, char ** argv) {\n",
        "  int n = (argc > 1 ? atoi(argv[1]) : 5);\n",
        "  long t0 = cur_time();\n",
        "\n",
        "  \n",
        "  /* ここにプログラムを書く */\n",
        "\n",
        "  \n",
        "  long t1 = cur_time();\n",
        "  long dt = t1 - t0;\n",
        "  printf(\"%ld nsec to pthrea_create-and-join %d threads (%ld nsec/thread)\\n\",\n",
        "         dt, n, dt / n);\n",
        "  return 0;\n",
        "}"
      ],
      "execution_count": null,
      "outputs": []
    },
    {
      "cell_type": "code",
      "metadata": {
        "kernel": "Bash",
        "nbgrader": {
          "grade": true,
          "grade_id": "p-002",
          "locked": false,
          "schema_version": 3,
          "solution": true,
          "task": false,
          "points": 1
        }
      },
      "source": [
        "BEGIN SOLUTION\n",
        "END SOLUTION\n",
        "gcc -O3 -Wall -Wextra -o time_pthread_create time_pthread_create.c -lpthread"
      ],
      "execution_count": null,
      "outputs": []
    },
    {
      "cell_type": "code",
      "metadata": {
        "kernel": "Bash",
        "nbgrader": {
          "grade": false,
          "grade_id": "c-026",
          "locked": false,
          "schema_version": 3,
          "solution": false,
          "task": false
        }
      },
      "source": [
        "./time_pthread_create"
      ],
      "execution_count": null,
      "outputs": []
    },
    {
      "cell_type": "markdown",
      "metadata": {
        "kernel": "SoS",
        "nbgrader": {
          "grade": false,
          "grade_id": "c-027",
          "locked": true,
          "schema_version": 3,
          "solution": false,
          "task": false
        }
      },
      "source": [
        "* 以下のコマンドラインを色々変更して, 1回あたりの時間を計測せよ\n",
        "* 正しく動いているかを確認するために, 子スレッド(do_nothing関数)で何かを表示するとか, 子スレッドのstatus (do_nothingの返り値)を変えてそれが正しく受け取れていることを確認するなどせよ\n",
        "* 時間を計測するときはそれらの表示を消すこと(消さないと, 測っているのは出力時間が大半を占めることになる)"
      ]
    },
    {
      "cell_type": "code",
      "metadata": {
        "kernel": "Bash",
        "nbgrader": {
          "grade": true,
          "grade_id": "p-003",
          "locked": false,
          "schema_version": 3,
          "solution": true,
          "task": false,
          "points": 1
        }
      },
      "source": [
        "BEGIN SOLUTION\n",
        "END SOLUTION\n",
        "./time_pthread_create 10"
      ],
      "execution_count": null,
      "outputs": []
    }
  ],
  "metadata": {
    "celltoolbar": "Create Assignment",
    "kernelspec": {
      "display_name": "SoS",
      "language": "sos",
      "name": "sos"
    },
    "language_info": {
      "codemirror_mode": "sos",
      "file_extension": ".sos",
      "mimetype": "text/x-sos",
      "name": "sos",
      "nbconvert_exporter": "sos_notebook.converter.SoS_Exporter",
      "pygments_lexer": "sos"
    },
    "sos": {
      "kernels": [
        [
          "Bash",
          "bash",
          "bash",
          "",
          "shell"
        ],
        [
          "C",
          "c_kernel",
          "c",
          "",
          ""
        ],
        [
          "Go",
          "gophernotes",
          "go",
          "",
          ""
        ],
        [
          "Julia 1.8.5",
          "julia-1.8",
          "julia",
          "",
          ""
        ],
        [
          "OCaml default",
          "ocaml-jupyter",
          "OCaml",
          "",
          "text/x-ocaml"
        ],
        [
          "Python 3 (ipykernel)",
          "python3",
          "python3",
          "",
          {
            "name": "ipython",
            "version": 3
          }
        ],
        [
          "Rust",
          "rust",
          "rust",
          "",
          ""
        ]
      ],
      "panel": {
        "displayed": true,
        "height": 0
      },
      "version": "0.23.3"
    }
  },
  "nbformat": 4,
  "nbformat_minor": 4
}