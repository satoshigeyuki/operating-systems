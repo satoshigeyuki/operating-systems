{
 "cells": [
  {
   "cell_type": "markdown",
   "metadata": {
    "kernel": "SoS",
    "nbgrader": {
     "grade": false,
     "grade_id": "c-001",
     "locked": true,
     "schema_version": 3,
     "solution": false,
     "task": false
    }
   },
   "source": [
    "* 以下で, 多数の32 bit整数が隙間なく, 256M個, 昇順に整列されたファイルを作る (512MB)"
   ]
  },
  {
   "cell_type": "code",
   "execution_count": null,
   "metadata": {
    "kernel": "Python 3 (ipykernel)",
    "nbgrader": {
     "grade": false,
     "grade_id": "c-002",
     "locked": false,
     "schema_version": 3,
     "solution": false,
     "task": false
    }
   },
   "outputs": [],
   "source": [
    "#!/usr/bin/python3\n",
    "import os\n",
    "import sys\n",
    "import getpass\n",
    "import numpy as np\n",
    "\n",
    "def mk_sorted_file(filename, size):\n",
    "    assert(size <= 1024 * 1024 * 1024), \"don't make it > 4GB\"\n",
    "    rg = np.random.RandomState()\n",
    "    rg.seed(1234)\n",
    "    gap = 1024 * 1024 * 1024 / size\n",
    "    a = rg.randint(0, gap, size=size, dtype=np.uint32)\n",
    "    s = 0\n",
    "    for i in range(size):\n",
    "        s += a[i]\n",
    "        a[i] = s\n",
    "    dirname = os.path.dirname(filename)\n",
    "    if dirname == \"\":\n",
    "        dirname = \".\"\n",
    "    os.makedirs(dirname, exist_ok=True)\n",
    "    with open(filename, \"wb\") as wp:\n",
    "        a.tofile(wp)\n",
    "\n",
    "def main():\n",
    "    filename = sys.argv[1]\n",
    "    sz = int(sys.argv[2])\n",
    "    mk_sorted_file(filename, sz)\n",
    "        \n",
    "if sys.argv[0].endswith(\"mk_sorted_file.py\"):\n",
    "    main()\n"
   ]
  },
  {
   "cell_type": "markdown",
   "metadata": {
    "kernel": "SoS",
    "nbgrader": {
     "grade": false,
     "grade_id": "c-003",
     "locked": true,
     "schema_version": 3,
     "solution": false,
     "task": false
    }
   },
   "source": [
    "* 多少(20秒くらい)かかるが気長に待つ"
   ]
  },
  {
   "cell_type": "code",
   "execution_count": null,
   "metadata": {
    "kernel": "Python 3 (ipykernel)",
    "nbgrader": {
     "grade": false,
     "grade_id": "c-004",
     "locked": false,
     "schema_version": 3,
     "solution": false,
     "task": false
    }
   },
   "outputs": [],
   "source": [
    "n = 256 * 1024 * 1024\n",
    "mk_sorted_file(\"sorted.bin\", n)"
   ]
  },
  {
   "cell_type": "markdown",
   "metadata": {
    "kernel": "SoS",
    "nbgrader": {
     "grade": false,
     "grade_id": "c-005",
     "locked": true,
     "schema_version": 3,
     "solution": false,
     "task": false
    }
   },
   "source": [
    "# <font color=\"green\"> Problem 1 :  mmapの有効な利用</font>"
   ]
  },
  {
   "cell_type": "code",
   "execution_count": 1,
   "metadata": {
    "kernel": "Python 3 (ipykernel)",
    "nbgrader": {
     "grade": false,
     "grade_id": "c-006",
     "locked": true,
     "schema_version": 3,
     "solution": false,
     "task": false
    }
   },
   "outputs": [
    {
     "name": "stdout",
     "output_type": "stream",
     "text": [
      "Writing mmap_bsearch_ans.c\n"
     ]
    }
   ],
   "source": [
    "%%writefile mmap_bsearch_ans.c\n",
    "\n",
    "#include <assert.h>\n",
    "#include <err.h>\n",
    "#include <fcntl.h>\n",
    "#include <stdio.h>\n",
    "#include <stdlib.h>\n",
    "#include <sys/mman.h>\n",
    "#include <sys/stat.h>\n",
    "#include <sys/types.h>\n",
    "#include <unistd.h>\n",
    "\n",
    "int compare_int(const void * a_, const void * b_) {\n",
    "  const int * a = a_;\n",
    "  const int * b = b_;\n",
    "  return *a - *b;\n",
    "}\n",
    "\n",
    "int main(int argc, char ** argv) {\n",
    "  int i = 1;\n",
    "  char * filename = (argc > i ? argv[i] : \"sorted.bin\"); i++;\n",
    "  int key         = (argc > i ? atoi(argv[i]) : 100); i++;\n",
    "  /* ファイルを開く */\n",
    "  int fd = open(filename, O_RDONLY);\n",
    "  if (fd == -1) err(1, \"open\");\n",
    "  /* ファイルのサイズ */\n",
    "  struct stat sb[1];\n",
    "  if (fstat(fd, sb) == -1) err(1, \"fstat\");\n",
    "  /* mmap (読み出しのみ) */\n",
    "  long sz = sb->st_size;\n",
    "  int * a = mmap(0, sz, PROT_READ, MAP_PRIVATE, fd, 0);\n",
    "  if (a == MAP_FAILED) err(1, \"mmap\");\n",
    "  const long n = sz / sizeof(int);\n",
    "  int * found = bsearch(&key, a, n, sizeof(int), compare_int);\n",
    "  if (found) {\n",
    "    printf(\"%d found at %ld-th element\\n\", key, found - a);\n",
    "  } else {\n",
    "    printf(\"%d not found\\n\", key);\n",
    "  }\n",
    "  if (munmap(a, sz) == -1) err(1, \"mumap\");\n",
    "  if (close(fd) == -1) err(1, \"close\");\n",
    "  return 0;\n",
    "}"
   ]
  },
  {
   "cell_type": "code",
   "execution_count": 2,
   "metadata": {
    "kernel": "Bash",
    "nbgrader": {
     "grade": false,
     "grade_id": "c-007",
     "locked": false,
     "schema_version": 3,
     "solution": false,
     "task": false
    }
   },
   "outputs": [],
   "source": [
    "gcc -o mmap_bsearch_ans -Wall -O3 mmap_bsearch_ans.c"
   ]
  },
  {
   "cell_type": "code",
   "execution_count": null,
   "metadata": {
    "kernel": "Bash",
    "nbgrader": {
     "grade": false,
     "grade_id": "c-008",
     "locked": false,
     "schema_version": 3,
     "solution": false,
     "task": false
    }
   },
   "outputs": [],
   "source": [
    "data=sorted.bin\n",
    "if /usr/bin/time ./mmap_bsearch_ans ${data} 362382304 | grep \"362382304 found at 241618944-th element\" ; then echo OK ; else echo NG ; fi\n",
    "if /usr/bin/time ./mmap_bsearch_ans ${data} 322162113 | grep \"322162113 found at 214802432-th element\" ; then echo OK ; else echo NG ; fi\n",
    "if /usr/bin/time ./mmap_bsearch_ans ${data} 281936687 | grep \"281936687 found at 187985920-th element\" ; then echo OK ; else echo NG ; fi\n",
    "if /usr/bin/time ./mmap_bsearch_ans ${data} 241713801 | grep \"241713801 found at 161169408-th element\" ; then echo OK ; else echo NG ; fi\n",
    "if /usr/bin/time ./mmap_bsearch_ans ${data} 362382307 | grep \"362382307 not found\" ; then echo OK ; else echo NG ; fi\n",
    "if /usr/bin/time ./mmap_bsearch_ans ${data} 322162115 | grep \"322162115 not found\" ; then echo OK ; else echo NG ; fi\n",
    "if /usr/bin/time ./mmap_bsearch_ans ${data} 281936688 | grep \"281936688 not found\" ; then echo OK ; else echo NG ; fi\n",
    "if /usr/bin/time ./mmap_bsearch_ans ${data} 241713802 | grep \"241713802 not found\" ; then echo OK ; else echo NG ; fi"
   ]
  },
  {
   "cell_type": "markdown",
   "metadata": {
    "kernel": "SoS",
    "nbgrader": {
     "grade": false,
     "grade_id": "c-009",
     "locked": true,
     "schema_version": 3,
     "solution": false,
     "task": false
    }
   },
   "source": [
    "# <font color=\"green\"> Problem 2 :  readで2分探索</font>"
   ]
  },
  {
   "cell_type": "code",
   "execution_count": 7,
   "metadata": {
    "kernel": "Python 3 (ipykernel)",
    "nbgrader": {
     "grade": false,
     "grade_id": "c-010",
     "locked": true,
     "schema_version": 3,
     "solution": false,
     "task": false
    }
   },
   "outputs": [
    {
     "name": "stdout",
     "output_type": "stream",
     "text": [
      "Overwriting read_bsearch_ans.c\n"
     ]
    }
   ],
   "source": [
    "%%writefile read_bsearch_ans.c\n",
    "\n",
    "#include <assert.h>\n",
    "#include <err.h>\n",
    "#include <fcntl.h>\n",
    "#include <stdio.h>\n",
    "#include <stdlib.h>\n",
    "#include <sys/types.h>\n",
    "#include <sys/stat.h>\n",
    "#include <unistd.h>\n",
    "\n",
    "int compare_int(const void * a_, const void * b_) {\n",
    "  const int * a = a_;\n",
    "  const int * b = b_;\n",
    "  return *a - *b;\n",
    "}\n",
    "\n",
    "/* szバイトぴったり読む. その前にEOFになったらエラー */\n",
    "void read_sz(int fd, void * buf, size_t sz) {\n",
    "  size_t rd = 0;\n",
    "  while (rd < sz) {\n",
    "    ssize_t x = read(fd, buf + rd, sz - rd);\n",
    "    if (x == -1) err(1, \"read\");\n",
    "    assert(x > 0);\n",
    "    rd += x;\n",
    "  }\n",
    "  assert(rd == sz);\n",
    "}\n",
    "\n",
    "int main(int argc, char ** argv) {\n",
    "  int i = 1;\n",
    "  char * filename = (argc > i ? argv[i] : \"sorted.bin\"); i++;\n",
    "  int key         = (argc > i ? atoi(argv[i]) : 100); i++;\n",
    "  /* ファイルを開く */\n",
    "  int fd = open(filename, O_RDONLY);\n",
    "  if (fd == -1) err(1, \"open\");\n",
    "  /* ファイルのサイズ */\n",
    "  struct stat sb[1];\n",
    "  if (fstat(fd, sb) == -1) err(1, \"fstat\");\n",
    "  /* mmap (読み出しのみ) */\n",
    "  long sz = sb->st_size;\n",
    "  int * a = malloc(sz);\n",
    "  if (!a) err(1, \"malloc\");\n",
    "  read_sz(fd, a, sz);\n",
    "  const long n = sz / sizeof(int);\n",
    "  int * found = bsearch(&key, a, n, sizeof(int), compare_int);\n",
    "  if (found) {\n",
    "    printf(\"%d found at %ld-th element\\n\", key, found - a);\n",
    "  } else {\n",
    "    printf(\"%d not found\\n\", key);\n",
    "  }\n",
    "  free(a);\n",
    "  if (close(fd) == -1) err(1, \"close\");\n",
    "  return 0;\n",
    "}"
   ]
  },
  {
   "cell_type": "code",
   "execution_count": 8,
   "metadata": {
    "kernel": "Bash",
    "nbgrader": {
     "grade": false,
     "grade_id": "c-011",
     "locked": false,
     "schema_version": 3,
     "solution": false,
     "task": false
    }
   },
   "outputs": [],
   "source": [
    "gcc -o read_bsearch_ans -Wall -O3 read_bsearch_ans.c"
   ]
  },
  {
   "cell_type": "code",
   "execution_count": null,
   "metadata": {
    "kernel": "Bash",
    "nbgrader": {
     "grade": false,
     "grade_id": "c-012",
     "locked": false,
     "schema_version": 3,
     "solution": false,
     "task": false
    }
   },
   "outputs": [],
   "source": [
    "data=sorted.bin\n",
    "if /usr/bin/time ./read_bsearch_ans ${data} 362382304 | grep \"362382304 found at 241618944-th element\" ; then echo OK ; else echo NG ; fi\n",
    "if /usr/bin/time ./read_bsearch_ans ${data} 322162113 | grep \"322162113 found at 214802432-th element\" ; then echo OK ; else echo NG ; fi\n",
    "if /usr/bin/time ./read_bsearch_ans ${data} 281936687 | grep \"281936687 found at 187985920-th element\" ; then echo OK ; else echo NG ; fi\n",
    "if /usr/bin/time ./read_bsearch_ans ${data} 241713801 | grep \"241713801 found at 161169408-th element\" ; then echo OK ; else echo NG ; fi\n",
    "if /usr/bin/time ./read_bsearch_ans ${data} 362382307 | grep \"362382307 not found\" ; then echo OK ; else echo NG ; fi\n",
    "if /usr/bin/time ./read_bsearch_ans ${data} 322162115 | grep \"322162115 not found\" ; then echo OK ; else echo NG ; fi\n",
    "if /usr/bin/time ./read_bsearch_ans ${data} 281936688 | grep \"281936688 not found\" ; then echo OK ; else echo NG ; fi\n",
    "if /usr/bin/time ./read_bsearch_ans ${data} 241713802 | grep \"241713802 not found\" ; then echo OK ; else echo NG ; fi"
   ]
  },
  {
   "cell_type": "markdown",
   "metadata": {
    "kernel": "SoS",
    "nbgrader": {
     "grade": false,
     "grade_id": "c-013",
     "locked": true,
     "schema_version": 3,
     "solution": false,
     "task": false
    }
   },
   "source": [
    "# <font color=\"green\"> Problem 3 :  線形探索</font>\n",
    "同じ仕様のプログラムを, 「read関数でファイルを先頭から一定数読んでは, 与えられた値と比較する」ことでも実装せよ"
   ]
  },
  {
   "cell_type": "code",
   "execution_count": 9,
   "metadata": {
    "kernel": "Python 3 (ipykernel)",
    "nbgrader": {
     "grade": false,
     "grade_id": "c-014",
     "locked": true,
     "schema_version": 3,
     "solution": false,
     "task": false
    }
   },
   "outputs": [
    {
     "name": "stdout",
     "output_type": "stream",
     "text": [
      "Overwriting lin_search_ans.c\n"
     ]
    }
   ],
   "source": [
    "%%writefile lin_search_ans.c\n",
    "\n",
    "#include <assert.h>\n",
    "#include <err.h>\n",
    "#include <fcntl.h>\n",
    "#include <stdio.h>\n",
    "#include <stdlib.h>\n",
    "#include <sys/mman.h>\n",
    "#include <sys/stat.h>\n",
    "#include <sys/types.h>\n",
    "#include <unistd.h>\n",
    "\n",
    "int compare_int(const void * a_, const void * b_) {\n",
    "  const int * a = a_;\n",
    "  const int * b = b_;\n",
    "  return *a - *b;\n",
    "}\n",
    "\n",
    "/* szバイトぴったり読む. その前にEOFになったらエラー */\n",
    "void read_sz(int fd, void * buf, size_t sz) {\n",
    "  size_t rd = 0;\n",
    "  while (rd < sz) {\n",
    "    ssize_t x = read(fd, buf + rd, sz - rd);\n",
    "    if (x == -1) err(1, \"read\");\n",
    "    assert(x > 0);\n",
    "    rd += x;\n",
    "  }\n",
    "  assert(rd == sz);\n",
    "}\n",
    "\n",
    "int main(int argc, char ** argv) {\n",
    "  int i = 1;\n",
    "  char * filename = (argc > i ? argv[i] : \"sorted.bin\"); i++;\n",
    "  int key         = (argc > i ? atoi(argv[i]) : 100); i++;\n",
    "  /* ファイルを開く */\n",
    "  int fd = open(filename, O_RDONLY);\n",
    "  if (fd == -1) err(1, \"open\");\n",
    "  /* ファイルのサイズ */\n",
    "  struct stat sb[1];\n",
    "  if (fstat(fd, sb) == -1) err(1, \"fstat\");\n",
    "  /* mmap (読み出しのみ) */\n",
    "  long sz = sb->st_size;\n",
    "  const long n = sz / sizeof(int);\n",
    "  const long buf_sz = 1024;\n",
    "  int a[buf_sz];\n",
    "  int done = 0;\n",
    "  for (long i = 0; i < n && !done; i += buf_sz) {\n",
    "    long m = (buf_sz < n - i ? buf_sz : n - i);\n",
    "    read_sz(fd, a, m * sizeof(int));\n",
    "    for (long j = 0; j < m; j++) {\n",
    "      if (a[j] == key) {\n",
    "        done = 1;\n",
    "        printf(\"%d found at %ld-th element\\n\", key, i + j);\n",
    "        break;\n",
    "      } else if (a[j] > key) {\n",
    "        done = 1;\n",
    "        printf(\"%d not found\\n\", key);\n",
    "        break;\n",
    "      }\n",
    "    }\n",
    "  }\n",
    "  if (!done) {\n",
    "    printf(\"%d not found\\n\", key);\n",
    "  }\n",
    "  if (close(fd) == -1) err(1, \"close\");\n",
    "  return 0;\n",
    "}"
   ]
  },
  {
   "cell_type": "code",
   "execution_count": 10,
   "metadata": {
    "kernel": "Bash",
    "nbgrader": {
     "grade": false,
     "grade_id": "c-015",
     "locked": false,
     "schema_version": 3,
     "solution": false,
     "task": false
    }
   },
   "outputs": [],
   "source": [
    "gcc -o lin_search_ans -Wall -O3 lin_search_ans.c"
   ]
  },
  {
   "cell_type": "code",
   "execution_count": null,
   "metadata": {
    "kernel": "Bash",
    "nbgrader": {
     "grade": false,
     "grade_id": "c-016",
     "locked": false,
     "schema_version": 3,
     "solution": false,
     "task": false
    }
   },
   "outputs": [],
   "source": [
    "data=sorted.bin\n",
    "if /usr/bin/time ./lin_search_ans ${data} 362382304 | grep \"362382304 found at 241618944-th element\" ; then echo OK ; else echo NG ; fi\n",
    "if /usr/bin/time ./lin_search_ans ${data} 322162113 | grep \"322162113 found at 214802432-th element\" ; then echo OK ; else echo NG ; fi\n",
    "if /usr/bin/time ./lin_search_ans ${data} 281936687 | grep \"281936687 found at 187985920-th element\" ; then echo OK ; else echo NG ; fi\n",
    "if /usr/bin/time ./lin_search_ans ${data} 241713801 | grep \"241713801 found at 161169408-th element\" ; then echo OK ; else echo NG ; fi\n",
    "if /usr/bin/time ./lin_search_ans ${data} 362382307 | grep \"362382307 not found\" ; then echo OK ; else echo NG ; fi\n",
    "if /usr/bin/time ./lin_search_ans ${data} 322162115 | grep \"322162115 not found\" ; then echo OK ; else echo NG ; fi\n",
    "if /usr/bin/time ./lin_search_ans ${data} 281936688 | grep \"281936688 not found\" ; then echo OK ; else echo NG ; fi\n",
    "if /usr/bin/time ./lin_search_ans ${data} 241713802 | grep \"241713802 not found\" ; then echo OK ; else echo NG ; fi"
   ]
  }
 ],
 "metadata": {
  "celltoolbar": "Create Assignment",
  "kernelspec": {
   "display_name": "SoS",
   "language": "sos",
   "name": "sos"
  },
  "language_info": {
   "codemirror_mode": "sos",
   "file_extension": ".sos",
   "mimetype": "text/x-sos",
   "name": "sos",
   "nbconvert_exporter": "sos_notebook.converter.SoS_Exporter",
   "pygments_lexer": "sos"
  },
  "sos": {
   "kernels": [
    [
     "Bash",
     "bash",
     "bash",
     "",
     "shell"
    ],
    [
     "C",
     "c_kernel",
     "c",
     "",
     ""
    ],
    [
     "Go",
     "gophernotes",
     "go",
     "",
     ""
    ],
    [
     "Julia 1.8.5",
     "julia-1.8",
     "julia",
     "",
     ""
    ],
    [
     "OCaml default",
     "ocaml-jupyter",
     "OCaml",
     "",
     "text/x-ocaml"
    ],
    [
     "Python 3 (ipykernel)",
     "python3",
     "python3",
     "",
     {
      "name": "ipython",
      "version": 3
     }
    ],
    [
     "Rust",
     "rust",
     "rust",
     "",
     ""
    ]
   ],
   "panel": {
    "displayed": true,
    "height": 0
   },
   "version": "0.23.3"
  }
 },
 "nbformat": 4,
 "nbformat_minor": 4
}
