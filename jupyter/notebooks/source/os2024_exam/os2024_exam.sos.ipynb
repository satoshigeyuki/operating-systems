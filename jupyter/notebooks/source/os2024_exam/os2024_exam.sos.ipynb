{
  "cells": [
    {
      "cell_type": "markdown",
      "metadata": {
        "kernel": "SoS",
        "nbgrader": {
          "grade": false,
          "grade_id": "c-001",
          "locked": true,
          "schema_version": 3,
          "solution": false,
          "task": false
        }
      },
      "source": [
        "#  オペレーティングシステム 2024年度 期末試験 解答用紙",
        "\n",
        "* 問題は別途, (暗号化された) PDFで配布されている\n",
        "* 実施要領および禁止事項については授業ホームページを参照.\n",
        "\n",
        "* やり方はこれまでの演習と同様. 注意としては,\n",
        "  * UTOLへの提出は不要\n",
        "  * 解答用紙のノートブックは1問ごとに別れており, 複数のノートブックがある\n",
        "* 試験時間内に何度Submitしてもよい(最も新しい版だけが採点の対象となる)\n",
        "* 試験終了後にはSubmitすると不正行為になる(実は提出できてしまうが提出時刻が記録されるので不正と発覚する)\n",
        "\n",
        "* 以下に名前を書いて提出することで, 不正行為を行っていないことの誓約となる\n",
        ""
      ]
    },
    {
      "cell_type": "markdown",
      "metadata": {
        "kernel": "SoS",
        "nbgrader": {
          "grade": false,
          "grade_id": "c-002",
          "locked": true,
          "schema_version": 3,
          "solution": false,
          "task": false
        }
      },
      "source": [
        "名前と学生証番号を書け. Enter your name and student ID.\n",
        "\n",
        "提出に当たり, 私は授業ホームページの実施要領および禁止事項を理解し, 上に書かれたような行為を含め, 不正行為を行っていないことを誓約します.\n",
        "I hereby declare that, upon submission, I have throughly read the regulation and prohibited conduct written in the home page and did not commit any wrongdoing including the conducts listed above."
      ]
    },
    {
      "cell_type": "markdown",
      "metadata": {
        "kernel": "SoS",
        "nbgrader": {
          "grade": false,
          "grade_id": "c-003",
          "locked": false,
          "schema_version": 3,
          "solution": false,
          "task": false
        }
      },
      "source": [
        " * 名前 Name:\n",
        " * 学生証番号 Student ID:"
      ]
    },
    {
      "cell_type": "markdown",
      "metadata": {
        "kernel": "SoS",
        "nbgrader": {
          "grade": false,
          "grade_id": "c-004",
          "locked": true,
          "schema_version": 3,
          "solution": false,
          "task": false
        }
      },
      "source": [
        "* 問題のPDFを解答するパスワードを受け取ったら以下を実行して必要なファイルを復号してから解答に取りかかれ"
      ]
    },
    {
      "cell_type": "code",
      "metadata": {
        "kernel": "Bash",
        "nbgrader": {
          "grade": false,
          "grade_id": "c-005",
          "locked": true,
          "schema_version": 3,
          "solution": false,
          "task": false
        }
      },
      "source": [
        "ls prob?"
      ],
      "execution_count": null,
      "outputs": []
    },
    {
      "cell_type": "code",
      "metadata": {
        "kernel": "Bash",
        "nbgrader": {
          "grade": false,
          "grade_id": "c-006",
          "locked": false,
          "schema_version": 3,
          "solution": false,
          "task": false
        }
      },
      "source": [
        "set -e\n",
        "password=\"問題文のPDFと同じパスワードに置き換えよ\"\n",
        "for f in \\\n",
        "    prob2/i.pgm \\\n",
        "    prob2/idx.txt \\\n",
        "    prob2/pgm.c \\\n",
        "    prob3/gate_test_void.c \\\n",
        "    prob3/gate_test_int.c \\\n",
        "    ; do\n",
        "    echo \"$f.gpg -> $f\"\n",
        "    gpg --quiet --batch --passphrase ${password} --decrypt $f.gpg > $f \n",
        "done"
      ],
      "execution_count": null,
      "outputs": []
    },
    {
      "cell_type": "code",
      "metadata": {
        "kernel": "Bash",
        "nbgrader": {
          "grade": false,
          "grade_id": "c-007",
          "locked": true,
          "schema_version": 3,
          "solution": false,
          "task": false
        }
      },
      "source": [
        "ls prob?"
      ],
      "execution_count": null,
      "outputs": []
    }
  ],
  "metadata": {
    "celltoolbar": "Create Assignment",
    "kernelspec": {
      "display_name": "SoS",
      "language": "sos",
      "name": "sos"
    },
    "language_info": {
      "codemirror_mode": "sos",
      "file_extension": ".sos",
      "mimetype": "text/x-sos",
      "name": "sos",
      "nbconvert_exporter": "sos_notebook.converter.SoS_Exporter",
      "pygments_lexer": "sos"
    },
    "sos": {
      "kernels": [
        [
          "Bash",
          "bash",
          "bash",
          "",
          "shell"
        ],
        [
          "C",
          "c_kernel",
          "c",
          "",
          ""
        ],
        [
          "Go",
          "gophernotes",
          "go",
          "",
          ""
        ],
        [
          "Julia 1.10.2",
          "julia-1.10",
          "julia",
          "",
          ""
        ],
        [
          "OCaml default",
          "ocaml-jupyter",
          "OCaml",
          "",
          "text/x-ocaml"
        ],
        [
          "Python 3 (ipykernel)",
          "python3",
          "python3",
          "",
          {
            "name": "ipython",
            "version": 3
          }
        ],
        [
          "Rust",
          "rust",
          "rust",
          "",
          ""
        ]
      ],
      "panel": {
        "displayed": true,
        "height": 0
      },
      "version": "0.23.3"
    }
  },
  "nbformat": 4,
  "nbformat_minor": 4
}