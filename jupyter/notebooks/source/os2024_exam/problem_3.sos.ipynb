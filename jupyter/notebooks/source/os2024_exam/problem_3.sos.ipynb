{
  "cells": [
    {
      "cell_type": "markdown",
      "metadata": {
        "kernel": "SoS",
        "nbgrader": {
          "grade": false,
          "grade_id": "c-001",
          "locked": true,
          "schema_version": 3,
          "solution": false,
          "task": false
        }
      },
      "source": [
        "#  問題3"
      ]
    },
    {
      "cell_type": "markdown",
      "metadata": {
        "kernel": "SoS",
        "nbgrader": {
          "grade": false,
          "grade_id": "c-002",
          "locked": true,
          "schema_version": 3,
          "solution": false,
          "task": false
        }
      },
      "source": [
        "##  (1)"
      ]
    },
    {
      "cell_type": "code",
      "metadata": {
        "kernel": "Python 3 (ipykernel)",
        "nbgrader": {
          "grade": true,
          "grade_id": "p-001",
          "locked": false,
          "schema_version": 3,
          "solution": true,
          "task": false,
          "points": 1
        }
      },
      "source": [
        "BEGIN SOLUTION\n",
        "END SOLUTION\n",
        "%%writefile gate_mutex_void.h\n",
        "#include <stdint.h>\n",
        "\n",
        "typedef struct {\n",
        "} gate_t;\n",
        "\n",
        "void gate_init(gate_t * g, uint32_t l) {\n",
        "}\n",
        "\n",
        "void gate_enter(gate_t * g) {\n",
        "}\n",
        "\n",
        "void gate_leave(gate_t * g) {\n",
        "}"
      ],
      "execution_count": null,
      "outputs": []
    },
    {
      "cell_type": "markdown",
      "metadata": {
        "kernel": "SoS",
        "nbgrader": {
          "grade": false,
          "grade_id": "c-003",
          "locked": true,
          "schema_version": 3,
          "solution": false,
          "task": false
        }
      },
      "source": [
        "* コンパイル (必要ならばオプションなどは変更しても良い)"
      ]
    },
    {
      "cell_type": "code",
      "metadata": {
        "kernel": "Bash",
        "nbgrader": {
          "grade": true,
          "grade_id": "p-002",
          "locked": false,
          "schema_version": 3,
          "solution": true,
          "task": false,
          "points": 1
        }
      },
      "source": [
        "BEGIN SOLUTION\n",
        "END SOLUTION\n",
        "gcc -Wall -Wextra -O3 -fopenmp -I. -DGATE_H=\\\"gate_mutex_void.h\\\" prob3/gate_test_void.c -o gate_mutex_void"
      ],
      "execution_count": null,
      "outputs": []
    },
    {
      "cell_type": "markdown",
      "metadata": {
        "kernel": "SoS",
        "nbgrader": {
          "grade": false,
          "grade_id": "c-004",
          "locked": true,
          "schema_version": 3,
          "solution": false,
          "task": false
        }
      },
      "source": [
        "* 実行 (適宜パラメータを変えてテストせよ)"
      ]
    },
    {
      "cell_type": "code",
      "metadata": {
        "kernel": "Bash",
        "nbgrader": {
          "grade": false,
          "grade_id": "c-005",
          "locked": false,
          "schema_version": 3,
          "solution": false,
          "task": false
        }
      },
      "source": [
        "OMP_NUM_THREADS=4 timeout 5 cg_mem_limit ./gate_mutex_void 2 10000"
      ],
      "execution_count": null,
      "outputs": []
    },
    {
      "cell_type": "markdown",
      "metadata": {
        "kernel": "SoS",
        "nbgrader": {
          "grade": false,
          "grade_id": "c-006",
          "locked": true,
          "schema_version": 3,
          "solution": false,
          "task": false
        }
      },
      "source": [
        "* テスト (変更不可)"
      ]
    },
    {
      "cell_type": "code",
      "metadata": {
        "kernel": "Bash",
        "nbgrader": {
          "grade": true,
          "grade_id": "p-003",
          "locked": true,
          "schema_version": 3,
          "solution": true,
          "task": false,
          "points": 1
        }
      },
      "source": [
        "BEGIN SOLUTION\n",
        "END SOLUTION\n",
        "OMP_NUM_THREADS=1  timeout 5 cg_mem_limit ./gate_mutex_void 2  10000\n",
        "OMP_NUM_THREADS=4  timeout 5 cg_mem_limit ./gate_mutex_void 2  10000\n",
        "OMP_NUM_THREADS=30 timeout 5 cg_mem_limit ./gate_mutex_void 10 10000"
      ],
      "execution_count": null,
      "outputs": []
    },
    {
      "cell_type": "markdown",
      "metadata": {
        "kernel": "SoS",
        "nbgrader": {
          "grade": false,
          "grade_id": "c-007",
          "locked": true,
          "schema_version": 3,
          "solution": false,
          "task": false
        }
      },
      "source": [
        "##  (2)"
      ]
    },
    {
      "cell_type": "code",
      "metadata": {
        "kernel": "Python 3 (ipykernel)",
        "nbgrader": {
          "grade": true,
          "grade_id": "p-004",
          "locked": false,
          "schema_version": 3,
          "solution": true,
          "task": false,
          "points": 1
        }
      },
      "source": [
        "BEGIN SOLUTION\n",
        "END SOLUTION\n",
        "%%writefile gate_busy_void.h\n",
        "#include <stdint.h>\n",
        "\n",
        "int compare_and_swap(volatile uint32_t * p,\n",
        "                     uint32_t old_val, uint32_t new_val) {\n",
        "  return __atomic_compare_exchange_n(p, &old_val, new_val,\n",
        "                                     0, __ATOMIC_SEQ_CST, __ATOMIC_SEQ_CST);\n",
        "}\n",
        "\n",
        "typedef struct {\n",
        "} gate_t;\n",
        "\n",
        "void gate_init(gate_t * g, uint32_t l) {\n",
        "}\n",
        "\n",
        "void gate_enter(gate_t * g) {\n",
        "}\n",
        "\n",
        "void gate_leave(gate_t * g) {\n",
        "}"
      ],
      "execution_count": null,
      "outputs": []
    },
    {
      "cell_type": "markdown",
      "metadata": {
        "kernel": "SoS",
        "nbgrader": {
          "grade": false,
          "grade_id": "c-008",
          "locked": true,
          "schema_version": 3,
          "solution": false,
          "task": false
        }
      },
      "source": [
        "* コンパイル (必要ならばオプションなどは変更しても良い)"
      ]
    },
    {
      "cell_type": "code",
      "metadata": {
        "kernel": "Bash",
        "nbgrader": {
          "grade": true,
          "grade_id": "p-005",
          "locked": false,
          "schema_version": 3,
          "solution": true,
          "task": false,
          "points": 1
        }
      },
      "source": [
        "BEGIN SOLUTION\n",
        "END SOLUTION\n",
        "gcc -Wall -Wextra -O3 -fopenmp -I. -DGATE_H=\\\"gate_busy_void.h\\\" prob3/gate_test_void.c -o gate_busy_void"
      ],
      "execution_count": null,
      "outputs": []
    },
    {
      "cell_type": "markdown",
      "metadata": {
        "kernel": "SoS",
        "nbgrader": {
          "grade": false,
          "grade_id": "c-009",
          "locked": true,
          "schema_version": 3,
          "solution": false,
          "task": false
        }
      },
      "source": [
        "* 実行 (適宜パラメータを変えてテストせよ)"
      ]
    },
    {
      "cell_type": "code",
      "metadata": {
        "kernel": "Bash",
        "nbgrader": {
          "grade": false,
          "grade_id": "c-010",
          "locked": false,
          "schema_version": 3,
          "solution": false,
          "task": false
        }
      },
      "source": [
        "OMP_NUM_THREADS=4 timeout 5 cg_mem_limit ./gate_busy_void 2 10000"
      ],
      "execution_count": null,
      "outputs": []
    },
    {
      "cell_type": "markdown",
      "metadata": {
        "kernel": "SoS",
        "nbgrader": {
          "grade": false,
          "grade_id": "c-011",
          "locked": true,
          "schema_version": 3,
          "solution": false,
          "task": false
        }
      },
      "source": [
        "* テスト (変更不可)"
      ]
    },
    {
      "cell_type": "code",
      "metadata": {
        "kernel": "Bash",
        "nbgrader": {
          "grade": true,
          "grade_id": "p-006",
          "locked": true,
          "schema_version": 3,
          "solution": true,
          "task": false,
          "points": 1
        }
      },
      "source": [
        "BEGIN SOLUTION\n",
        "END SOLUTION\n",
        "OMP_NUM_THREADS=1  timeout 5 cg_mem_limit ./gate_busy_void 2  10000\n",
        "OMP_NUM_THREADS=4  timeout 5 cg_mem_limit ./gate_busy_void 2  10000\n",
        "OMP_NUM_THREADS=30 timeout 5 cg_mem_limit ./gate_busy_void 10 10000"
      ],
      "execution_count": null,
      "outputs": []
    },
    {
      "cell_type": "markdown",
      "metadata": {
        "kernel": "SoS",
        "nbgrader": {
          "grade": false,
          "grade_id": "c-012",
          "locked": true,
          "schema_version": 3,
          "solution": false,
          "task": false
        }
      },
      "source": [
        "##  (3)"
      ]
    },
    {
      "cell_type": "code",
      "metadata": {
        "kernel": "Python 3 (ipykernel)",
        "nbgrader": {
          "grade": true,
          "grade_id": "p-007",
          "locked": false,
          "schema_version": 3,
          "solution": true,
          "task": false,
          "points": 1
        }
      },
      "source": [
        "BEGIN SOLUTION\n",
        "END SOLUTION\n",
        "%%writefile gate_futex_void.h\n",
        "#include <stdint.h>\n",
        "#include <unistd.h>\n",
        "\n",
        "int compare_and_swap(volatile uint32_t * p,\n",
        "                     uint32_t old_val, uint32_t new_val) {\n",
        "  return __atomic_compare_exchange_n(p, &old_val, new_val,\n",
        "                                     0, __ATOMIC_SEQ_CST, __ATOMIC_SEQ_CST);\n",
        "}\n",
        "\n",
        "#include <linux/futex.h>\n",
        "#include <sys/syscall.h>\n",
        "#include <limits.h>\n",
        "\n",
        "static int\n",
        "futex(uint32_t *uaddr, int futex_op, uint32_t val,\n",
        "      const struct timespec *timeout, uint32_t *uaddr2, uint32_t val3)\n",
        "{\n",
        "  return syscall(SYS_futex, uaddr, futex_op, val,\n",
        "                 timeout, uaddr2, val3);\n",
        "}\n",
        "\n",
        "typedef struct {\n",
        "} gate_t;\n",
        "\n",
        "void gate_init(gate_t * g, uint32_t l) {\n",
        "}\n",
        "\n",
        "void gate_enter(gate_t * g) {\n",
        "}\n",
        "\n",
        "void gate_leave(gate_t * g) {\n",
        "}"
      ],
      "execution_count": null,
      "outputs": []
    },
    {
      "cell_type": "markdown",
      "metadata": {
        "kernel": "SoS",
        "nbgrader": {
          "grade": false,
          "grade_id": "c-013",
          "locked": true,
          "schema_version": 3,
          "solution": false,
          "task": false
        }
      },
      "source": [
        "* コンパイル (必要ならばオプションなどは変更しても良い)"
      ]
    },
    {
      "cell_type": "code",
      "metadata": {
        "kernel": "Bash",
        "nbgrader": {
          "grade": true,
          "grade_id": "p-008",
          "locked": false,
          "schema_version": 3,
          "solution": true,
          "task": false,
          "points": 1
        }
      },
      "source": [
        "BEGIN SOLUTION\n",
        "END SOLUTION\n",
        "gcc -Wall -Wextra -O3 -fopenmp -I. -DGATE_H=\\\"gate_futex_void.h\\\" prob3/gate_test_void.c -o gate_futex_void"
      ],
      "execution_count": null,
      "outputs": []
    },
    {
      "cell_type": "markdown",
      "metadata": {
        "kernel": "SoS",
        "nbgrader": {
          "grade": false,
          "grade_id": "c-014",
          "locked": true,
          "schema_version": 3,
          "solution": false,
          "task": false
        }
      },
      "source": [
        "* 実行 (適宜パラメータを変えてテストせよ)"
      ]
    },
    {
      "cell_type": "code",
      "metadata": {
        "kernel": "Bash",
        "nbgrader": {
          "grade": false,
          "grade_id": "c-015",
          "locked": false,
          "schema_version": 3,
          "solution": false,
          "task": false
        }
      },
      "source": [
        "OMP_NUM_THREADS=4 timeout 5 cg_mem_limit ./gate_futex_void 2 10000"
      ],
      "execution_count": null,
      "outputs": []
    },
    {
      "cell_type": "markdown",
      "metadata": {
        "kernel": "SoS",
        "nbgrader": {
          "grade": false,
          "grade_id": "c-016",
          "locked": true,
          "schema_version": 3,
          "solution": false,
          "task": false
        }
      },
      "source": [
        "* テスト (変更不可)"
      ]
    },
    {
      "cell_type": "code",
      "metadata": {
        "kernel": "Bash",
        "nbgrader": {
          "grade": true,
          "grade_id": "p-009",
          "locked": true,
          "schema_version": 3,
          "solution": true,
          "task": false,
          "points": 1
        }
      },
      "source": [
        "BEGIN SOLUTION\n",
        "END SOLUTION\n",
        "OMP_NUM_THREADS=1  timeout 5 cg_mem_limit ./gate_futex_void 2  10000\n",
        "OMP_NUM_THREADS=4  timeout 5 cg_mem_limit ./gate_futex_void 2  10000\n",
        "OMP_NUM_THREADS=30 timeout 5 cg_mem_limit ./gate_futex_void 10 10000"
      ],
      "execution_count": null,
      "outputs": []
    },
    {
      "cell_type": "markdown",
      "metadata": {
        "kernel": "SoS",
        "nbgrader": {
          "grade": false,
          "grade_id": "c-017",
          "locked": true,
          "schema_version": 3,
          "solution": false,
          "task": false
        }
      },
      "source": [
        "##  (4)"
      ]
    },
    {
      "cell_type": "code",
      "metadata": {
        "kernel": "Python 3 (ipykernel)",
        "nbgrader": {
          "grade": true,
          "grade_id": "p-010",
          "locked": false,
          "schema_version": 3,
          "solution": true,
          "task": false,
          "points": 1
        }
      },
      "source": [
        "BEGIN SOLUTION\n",
        "END SOLUTION\n",
        "%%writefile gate_mutex_int.h\n",
        "#include <stdint.h>\n",
        "\n",
        "typedef struct {\n",
        "} gate_t;\n",
        "\n",
        "void gate_init(gate_t * g, uint32_t l) {\n",
        "}\n",
        "\n",
        "uint32_t gate_enter(gate_t * g) {\n",
        "}\n",
        "\n",
        "void gate_leave(gate_t * g, uint32_t x) {\n",
        "}"
      ],
      "execution_count": null,
      "outputs": []
    },
    {
      "cell_type": "markdown",
      "metadata": {
        "kernel": "SoS",
        "nbgrader": {
          "grade": false,
          "grade_id": "c-018",
          "locked": true,
          "schema_version": 3,
          "solution": false,
          "task": false
        }
      },
      "source": [
        "* コンパイル (必要ならばオプションなどは変更しても良い)"
      ]
    },
    {
      "cell_type": "code",
      "metadata": {
        "kernel": "Bash",
        "nbgrader": {
          "grade": true,
          "grade_id": "p-011",
          "locked": false,
          "schema_version": 3,
          "solution": true,
          "task": false,
          "points": 1
        }
      },
      "source": [
        "BEGIN SOLUTION\n",
        "END SOLUTION\n",
        "gcc -Wall -Wextra -O3 -fopenmp -I. -DGATE_H=\\\"gate_mutex_int.h\\\" prob3/gate_test_int.c -o gate_mutex_int"
      ],
      "execution_count": null,
      "outputs": []
    },
    {
      "cell_type": "markdown",
      "metadata": {
        "kernel": "SoS",
        "nbgrader": {
          "grade": false,
          "grade_id": "c-019",
          "locked": true,
          "schema_version": 3,
          "solution": false,
          "task": false
        }
      },
      "source": [
        "* 実行 (適宜パラメータを変えてテストせよ)"
      ]
    },
    {
      "cell_type": "code",
      "metadata": {
        "kernel": "Bash",
        "nbgrader": {
          "grade": false,
          "grade_id": "c-020",
          "locked": false,
          "schema_version": 3,
          "solution": false,
          "task": false
        }
      },
      "source": [
        "OMP_NUM_THREADS=4 timeout 5 cg_mem_limit ./gate_mutex_int 2 10000"
      ],
      "execution_count": null,
      "outputs": []
    },
    {
      "cell_type": "markdown",
      "metadata": {
        "kernel": "SoS",
        "nbgrader": {
          "grade": false,
          "grade_id": "c-021",
          "locked": true,
          "schema_version": 3,
          "solution": false,
          "task": false
        }
      },
      "source": [
        "* テスト (変更不可)"
      ]
    },
    {
      "cell_type": "code",
      "metadata": {
        "kernel": "Bash",
        "nbgrader": {
          "grade": true,
          "grade_id": "p-012",
          "locked": true,
          "schema_version": 3,
          "solution": true,
          "task": false,
          "points": 1
        }
      },
      "source": [
        "BEGIN SOLUTION\n",
        "END SOLUTION\n",
        "OMP_NUM_THREADS=1  timeout 5 cg_mem_limit ./gate_mutex_int 2  10000\n",
        "OMP_NUM_THREADS=4  timeout 5 cg_mem_limit ./gate_mutex_int 2  10000\n",
        "OMP_NUM_THREADS=30 timeout 5 cg_mem_limit ./gate_mutex_int 10 10000"
      ],
      "execution_count": null,
      "outputs": []
    },
    {
      "cell_type": "markdown",
      "metadata": {
        "kernel": "SoS",
        "nbgrader": {
          "grade": false,
          "grade_id": "c-022",
          "locked": true,
          "schema_version": 3,
          "solution": false,
          "task": false
        }
      },
      "source": [
        "##  (5)"
      ]
    },
    {
      "cell_type": "code",
      "metadata": {
        "kernel": "Python 3 (ipykernel)",
        "nbgrader": {
          "grade": true,
          "grade_id": "p-013",
          "locked": false,
          "schema_version": 3,
          "solution": true,
          "task": false,
          "points": 1
        }
      },
      "source": [
        "BEGIN SOLUTION\n",
        "END SOLUTION\n",
        "%%writefile gate_futex_int.h\n",
        "#include <stdint.h>\n",
        "#include <unistd.h>\n",
        "\n",
        "int compare_and_swap(volatile uint32_t * p,\n",
        "                     uint32_t old_val, uint32_t new_val) {\n",
        "  return __atomic_compare_exchange_n(p, &old_val, new_val,\n",
        "                                     0, __ATOMIC_SEQ_CST, __ATOMIC_SEQ_CST);\n",
        "}\n",
        "\n",
        "#include <linux/futex.h>\n",
        "#include <sys/syscall.h>\n",
        "#include <limits.h>\n",
        "\n",
        "static int\n",
        "futex(uint32_t *uaddr, int futex_op, uint32_t val,\n",
        "      const struct timespec *timeout, uint32_t *uaddr2, uint32_t val3)\n",
        "{\n",
        "  return syscall(SYS_futex, uaddr, futex_op, val,\n",
        "                 timeout, uaddr2, val3);\n",
        "}\n",
        "\n",
        "typedef struct {\n",
        "} gate_t;\n",
        "\n",
        "void gate_init(gate_t * g, uint32_t l) {\n",
        "}\n",
        "\n",
        "uint32_t gate_enter(gate_t * g) {\n",
        "}\n",
        "\n",
        "void gate_leave(gate_t * g, uint32_t x) {\n",
        "}"
      ],
      "execution_count": null,
      "outputs": []
    },
    {
      "cell_type": "markdown",
      "metadata": {
        "kernel": "SoS",
        "nbgrader": {
          "grade": false,
          "grade_id": "c-023",
          "locked": true,
          "schema_version": 3,
          "solution": false,
          "task": false
        }
      },
      "source": [
        "* コンパイル (必要ならばオプションなどは変更しても良い)"
      ]
    },
    {
      "cell_type": "code",
      "metadata": {
        "kernel": "Bash",
        "nbgrader": {
          "grade": true,
          "grade_id": "p-014",
          "locked": false,
          "schema_version": 3,
          "solution": true,
          "task": false,
          "points": 1
        }
      },
      "source": [
        "BEGIN SOLUTION\n",
        "END SOLUTION\n",
        "gcc -Wall -Wextra -O3 -fopenmp -I. -DGATE_H=\\\"gate_futex_int.h\\\" prob3/gate_test_int.c -o gate_futex_int"
      ],
      "execution_count": null,
      "outputs": []
    },
    {
      "cell_type": "markdown",
      "metadata": {
        "kernel": "SoS",
        "nbgrader": {
          "grade": false,
          "grade_id": "c-024",
          "locked": true,
          "schema_version": 3,
          "solution": false,
          "task": false
        }
      },
      "source": [
        "* 実行 (適宜パラメータを変えてテストせよ)"
      ]
    },
    {
      "cell_type": "code",
      "metadata": {
        "kernel": "Bash",
        "nbgrader": {
          "grade": false,
          "grade_id": "c-025",
          "locked": false,
          "schema_version": 3,
          "solution": false,
          "task": false
        }
      },
      "source": [
        "OMP_NUM_THREADS=4 timeout 5 cg_mem_limit ./gate_futex_int 2 10000"
      ],
      "execution_count": null,
      "outputs": []
    },
    {
      "cell_type": "markdown",
      "metadata": {
        "kernel": "SoS",
        "nbgrader": {
          "grade": false,
          "grade_id": "c-026",
          "locked": true,
          "schema_version": 3,
          "solution": false,
          "task": false
        }
      },
      "source": [
        "* テスト (変更不可)"
      ]
    },
    {
      "cell_type": "code",
      "metadata": {
        "kernel": "Bash",
        "nbgrader": {
          "grade": true,
          "grade_id": "p-015",
          "locked": true,
          "schema_version": 3,
          "solution": true,
          "task": false,
          "points": 1
        }
      },
      "source": [
        "BEGIN SOLUTION\n",
        "END SOLUTION\n",
        "OMP_NUM_THREADS=1  timeout 5 cg_mem_limit ./gate_futex_int 2  10000\n",
        "OMP_NUM_THREADS=4  timeout 5 cg_mem_limit ./gate_futex_int 2  10000\n",
        "OMP_NUM_THREADS=30 timeout 5 cg_mem_limit ./gate_futex_int 10 10000"
      ],
      "execution_count": null,
      "outputs": []
    }
  ],
  "metadata": {
    "celltoolbar": "Create Assignment",
    "kernelspec": {
      "display_name": "SoS",
      "language": "sos",
      "name": "sos"
    },
    "language_info": {
      "codemirror_mode": "sos",
      "file_extension": ".sos",
      "mimetype": "text/x-sos",
      "name": "sos",
      "nbconvert_exporter": "sos_notebook.converter.SoS_Exporter",
      "pygments_lexer": "sos"
    },
    "sos": {
      "kernels": [
        [
          "Bash",
          "bash",
          "bash",
          "",
          "shell"
        ],
        [
          "C",
          "c_kernel",
          "c",
          "",
          ""
        ],
        [
          "Go",
          "gophernotes",
          "go",
          "",
          ""
        ],
        [
          "Julia 1.10.2",
          "julia-1.10",
          "julia",
          "",
          ""
        ],
        [
          "OCaml default",
          "ocaml-jupyter",
          "OCaml",
          "",
          "text/x-ocaml"
        ],
        [
          "Python 3 (ipykernel)",
          "python3",
          "python3",
          "",
          {
            "name": "ipython",
            "version": 3
          }
        ],
        [
          "Rust",
          "rust",
          "rust",
          "",
          ""
        ]
      ],
      "panel": {
        "displayed": true,
        "height": 0
      },
      "version": "0.23.3"
    }
  },
  "nbformat": 4,
  "nbformat_minor": 4
}