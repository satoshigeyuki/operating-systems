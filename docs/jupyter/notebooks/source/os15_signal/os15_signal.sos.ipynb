{
  "cells": [
    {
      "cell_type": "markdown",
      "metadata": {
        "kernel": "SoS",
        "nbgrader": {
          "grade": false,
          "grade_id": "c-001",
          "locked": true,
          "schema_version": 3,
          "solution": false,
          "task": false
        }
      },
      "source": [
        "# 1. オペレーティングシステム 演習 15",
        "\n",
        "#  シグナル"
      ]
    },
    {
      "cell_type": "markdown",
      "metadata": {
        "kernel": "SoS",
        "nbgrader": {
          "grade": false,
          "grade_id": "c-002",
          "locked": false,
          "schema_version": 3,
          "solution": false,
          "task": false
        }
      },
      "source": [
        "名前と学生証番号を書け. Enter your name and student ID.\n",
        "\n",
        " * 名前 Name:\n",
        " * 学生証番号 Student ID:"
      ]
    },
    {
      "cell_type": "markdown",
      "metadata": {
        "kernel": "SoS",
        "nbgrader": {
          "grade": false,
          "grade_id": "c-003",
          "locked": true,
          "schema_version": 3,
          "solution": false,
          "task": false
        }
      },
      "source": [
        "# 2. sigaction使用例",
        "\n",
        "* SIGINT を5回受け取ると終了するプログラム\n",
        "* SIGINT を送るには端末から Ctrl-C を入力するので, Jupyter notebook上では実行せず, 端末を用いて行うこと"
      ]
    },
    {
      "cell_type": "code",
      "metadata": {
        "kernel": "Python 3 (ipykernel)",
        "nbgrader": {
          "grade": false,
          "grade_id": "c-004",
          "locked": false,
          "schema_version": 3,
          "solution": false,
          "task": false
        }
      },
      "source": [
        "%%writefile sigint.c\n",
        "//% file: sigint.c\n",
        "//% cmd: gcc -Wall -Wextra -o sigint sigint.c\n",
        "\n",
        "#include <err.h>\n",
        "#include <signal.h>\n",
        "#include <stdio.h>\n",
        "#include <sys/types.h>\n",
        "#include <unistd.h>\n",
        "\n",
        "volatile long n_sigints = 0;\n",
        "\n",
        "void sigint_action(int sig, siginfo_t * info, void * arg) {\n",
        "  (void)sig; (void)info; (void)arg;\n",
        "  printf(\"got sigaction %ld\\n\", n_sigints);\n",
        "  fflush(stdout);\n",
        "  n_sigints++;\n",
        "}\n",
        "\n",
        "int main() {\n",
        "  struct sigaction act;\n",
        "  act.sa_sigaction = sigint_action;\n",
        "  sigemptyset(&act.sa_mask);\n",
        "  act.sa_flags = SA_SIGINFO;\n",
        "  if (sigaction(SIGINT, &act, 0) == -1) err(1, \"sigaction\");\n",
        "  pid_t pid = getpid();\n",
        "  printf(\"please send me (pid = %d) SIGINT signal 5 times\\n\", pid);\n",
        "  fflush(stdout);\n",
        "  while (n_sigints < 5) { }\n",
        "  return 0;\n",
        "}"
      ],
      "execution_count": null,
      "outputs": []
    },
    {
      "cell_type": "code",
      "metadata": {
        "kernel": "Bash",
        "nbgrader": {
          "grade": false,
          "grade_id": "c-005",
          "locked": false,
          "schema_version": 3,
          "solution": false,
          "task": false
        }
      },
      "source": [
        "gcc -Wall -o sigint sigint.c"
      ],
      "execution_count": null,
      "outputs": []
    },
    {
      "cell_type": "markdown",
      "metadata": {
        "kernel": "SoS",
        "nbgrader": {
          "grade": false,
          "grade_id": "c-006",
          "locked": true,
          "schema_version": 3,
          "solution": false,
          "task": false
        }
      },
      "source": [
        "* 実行は端末で\n",
        "```\n",
        "./sigint\n",
        "```\n",
        "として Ctrl-C を5回入力せよ"
      ]
    },
    {
      "cell_type": "markdown",
      "metadata": {
        "kernel": "SoS",
        "nbgrader": {
          "grade": false,
          "grade_id": "c-007",
          "locked": true,
          "schema_version": 3,
          "solution": false,
          "task": false
        }
      },
      "source": [
        "# 3. Segmentation Fault (SIGSEGV)とその処理",
        "\n",
        "* Segmentation Faultは不正な領域へのアクセス時に発生する\n",
        "* これも実はシグナルの一種であって, sigaction でその処理を設定できる(設定しなければデフォルトの動作として, プログラムが終了する)\n",
        "* 以下は, SIGSEGVに対する動作を設定した後で, mprotectで領域への書き込みを禁止, 書き込みを行った時にそこを書き込み許可するプログラム\n",
        ""
      ]
    },
    {
      "cell_type": "code",
      "metadata": {
        "kernel": "Python 3 (ipykernel)",
        "nbgrader": {
          "grade": false,
          "grade_id": "c-008",
          "locked": false,
          "schema_version": 3,
          "solution": false,
          "task": false
        }
      },
      "source": [
        "%%writefile sigsegv.c\n",
        "//% file: sigsegv.c\n",
        "//% cmd: gcc -Wall -Wextra -o sigsegv sigsegv.c\n",
        "\n",
        "#include <assert.h>\n",
        "#include <err.h>\n",
        "#include <signal.h>\n",
        "#include <stdio.h>\n",
        "#include <stdlib.h>\n",
        "#include <sys/mman.h>\n",
        "#include <sys/types.h>\n",
        "#include <unistd.h>\n",
        "\n",
        "volatile long n_sigints = 0;\n",
        "\n",
        "void sigsegv_action(int sig, siginfo_t * sinfo, void * arg) {\n",
        "  (void)arg;\n",
        "  void * addr = sinfo->si_addr;\n",
        "  size_t page_sz = 4096;\n",
        "  assert(sig == SIGSEGV);\n",
        "  printf(\"got segv at %p\\n\", addr);\n",
        "  fflush(stdout);\n",
        "  void * page_addr = (void*)((long)addr & ~(page_sz - 1));\n",
        "  if (mprotect(page_addr, page_sz, PROT_READ|PROT_WRITE) == -1)\n",
        "    err(1, \"mprotect\");\n",
        "}\n",
        "\n",
        "int main() {\n",
        "  struct sigaction act;\n",
        "  act.sa_sigaction = sigsegv_action;\n",
        "  sigemptyset(&act.sa_mask);\n",
        "  act.sa_flags = SA_SIGINFO;\n",
        "  if (sigaction(SIGSEGV, &act, 0) == -1) err(1, \"sigaction\");\n",
        "  size_t page_sz = 4096;\n",
        "  size_t sz = 4096;\n",
        "  char * a = aligned_alloc(page_sz, sz);\n",
        "  if (!a) err(1, \"aligned_alloc\");\n",
        "  printf(\"a = %p\\n\", a);\n",
        "  printf(\"a[0] = 100\\n\");\n",
        "  a[0] = 100;\n",
        "  if (mprotect(a, sz, PROT_READ) == -1) err(1, \"mprotect\");\n",
        "  printf(\"a[0] = 200\\n\");\n",
        "  a[0] = 200;\n",
        "  printf(\"OK\\n\");\n",
        "  return 0;\n",
        "}"
      ],
      "execution_count": null,
      "outputs": []
    },
    {
      "cell_type": "code",
      "metadata": {
        "kernel": "Bash",
        "nbgrader": {
          "grade": false,
          "grade_id": "c-009",
          "locked": false,
          "schema_version": 3,
          "solution": false,
          "task": false
        }
      },
      "source": [
        "gcc -Wall -o sigsegv sigsegv.c"
      ],
      "execution_count": null,
      "outputs": []
    },
    {
      "cell_type": "code",
      "metadata": {
        "kernel": "Bash",
        "nbgrader": {
          "grade": false,
          "grade_id": "c-010",
          "locked": false,
          "schema_version": 3,
          "solution": false,
          "task": false
        }
      },
      "source": [
        "./sigsegv"
      ],
      "execution_count": null,
      "outputs": []
    }
  ],
  "metadata": {
    "celltoolbar": "Create Assignment",
    "kernelspec": {
      "display_name": "SoS",
      "language": "sos",
      "name": "sos"
    },
    "language_info": {
      "codemirror_mode": "sos",
      "file_extension": ".sos",
      "mimetype": "text/x-sos",
      "name": "sos",
      "nbconvert_exporter": "sos_notebook.converter.SoS_Exporter",
      "pygments_lexer": "sos"
    },
    "sos": {
      "kernels": [
        [
          "Bash",
          "bash",
          "bash",
          "",
          "shell"
        ],
        [
          "C",
          "c_kernel",
          "c",
          "",
          ""
        ],
        [
          "Go",
          "gophernotes",
          "go",
          "",
          ""
        ],
        [
          "Julia 1.8.5",
          "julia-1.8",
          "julia",
          "",
          ""
        ],
        [
          "OCaml default",
          "ocaml-jupyter",
          "OCaml",
          "",
          "text/x-ocaml"
        ],
        [
          "Python 3 (ipykernel)",
          "python3",
          "python3",
          "",
          {
            "name": "ipython",
            "version": 3
          }
        ],
        [
          "Rust",
          "rust",
          "rust",
          "",
          ""
        ]
      ],
      "panel": {
        "displayed": true,
        "height": 0
      },
      "version": "0.23.3"
    }
  },
  "nbformat": 4,
  "nbformat_minor": 4
}